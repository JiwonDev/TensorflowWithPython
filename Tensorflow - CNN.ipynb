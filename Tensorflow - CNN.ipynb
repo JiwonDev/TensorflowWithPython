{
 "cells": [
  {
   "cell_type": "code",
   "execution_count": 1,
   "metadata": {
    "collapsed": true
   },
   "outputs": [],
   "source": [
    "import tensorflow as tf"
   ]
  },
  {
   "cell_type": "markdown",
   "metadata": {},
   "source": [
    "# 설명\n",
    " - Filter = 말 그대로 필터, 데이터의 '특정 부분'만 추출해서 보는방법.\n",
    " - Stride = 필터가 움직이는 크기\n",
    " - Output 크기 = { ( N - F ) / Stride }  +   1(처음값)\n",
    " ![ㅎㅇ](https://img1.daumcdn.net/thumb/R720x0.q80/?scode=mtistory&fname=http%3A%2F%2Fcfile8.uf.tistory.com%2Fimage%2F261CE14F57AB46151178C3)\n",
    " \n",
    " <br><br><br>\n",
    " \n",
    " - padding(끝부분을 0으로 채움)을 이용해서 입력과 출력이 같아지게 만들수도 있어요.\n",
    " - 당연히 0은 학습이 되지않기 때문에, 이는 필요없는 부분을 짤라주는 효과도 있습니다.\n",
    " ![ㅎㅇ](https://img1.daumcdn.net/thumb/R720x0.q80/?scode=mtistory&fname=http%3A%2F%2Fcfile7.uf.tistory.com%2Fimage%2F2610394F57AB461620C491)\n",
    "  <br><br><br>\n",
    " \n",
    " - 이런식으로 필터를 원하는 만큼 뽑아냅니다.\n",
    " 행렬은 [ (Output) , 깊이 ] 가 될테니 이 그림에서 Stride가 7일 때, [28,28,필터갯수] 이 나오게 됩니다.\n",
    " ![ㅎㅇ](https://img1.daumcdn.net/thumb/R720x0.q80/?scode=mtistory&fname=http%3A%2F%2Fcfile8.uf.tistory.com%2Fimage%2F212C3A4F57AB461802BBC3)\n",
    "   <br><br><br>\n",
    " - 이런 과정을 여러번 반복하고 RELU로 값을 맞추고, 또 필터로 추출해서 반복..... 하여 결국 원하는 값을 추측(예상)하게 됩니다.\n",
    " Tensorflow는 한 필터의 깊이, 즉 필터의 갯수를 Channel이라 부릅니다.\n",
    " ![ㅎㅇ](https://img1.daumcdn.net/thumb/R720x0.q80/?scode=mtistory&fname=http%3A%2F%2Fcfile4.uf.tistory.com%2Fimage%2F2515E24F57AB4619194CF9)"
   ]
  },
  {
   "cell_type": "code",
   "execution_count": null,
   "metadata": {
    "collapsed": true
   },
   "outputs": [],
   "source": []
  }
 ],
 "metadata": {
  "anaconda-cloud": {},
  "kernelspec": {
   "display_name": "Python [default]",
   "language": "python",
   "name": "python3"
  },
  "language_info": {
   "codemirror_mode": {
    "name": "ipython",
    "version": 3
   },
   "file_extension": ".py",
   "mimetype": "text/x-python",
   "name": "python",
   "nbconvert_exporter": "python",
   "pygments_lexer": "ipython3",
   "version": "3.5.2"
  }
 },
 "nbformat": 4,
 "nbformat_minor": 1
}
