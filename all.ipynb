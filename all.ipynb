{
 "cells": [
  {
   "cell_type": "markdown",
   "metadata": {},
   "source": [
    "### TensorFlow 프로그램 실행\n",
    "다음은 \"Hello World\" TensorFlow 프로그램입니다. TensorFlow가 설치된 컴퓨터에서는 아래의 코드를 hello_world.py 로 저장하고 실행하면 됩니다. (여기서는 바로 실행하시면 됩니다)"
   ]
  },
  {
   "cell_type": "code",
   "execution_count": 2,
   "metadata": {},
   "outputs": [
    {
     "name": "stdout",
     "output_type": "stream",
     "text": [
      "b'Hello, world!'\n"
     ]
    }
   ],
   "source": [
    "import tensorflow as tf\n",
    "\n",
    "c = tf.constant('Hello, world!')\n",
    "\n",
    "with tf.Session() as sess:\n",
    "    print(sess.run(c))"
   ]
  },
  {
   "cell_type": "markdown",
   "metadata": {
    "collapsed": true
   },
   "source": [
    "Hello, world! 앞에 붙은 b 는 byte 형식의 문자열이라는 의미입니다."
   ]
  },
  {
   "cell_type": "markdown",
   "metadata": {
    "collapsed": true
   },
   "source": [
    "### Numpy 기본\n",
    "\n",
    "Numpy는 Python 과학 컴퓨팅의 핵심 라이브러리입니다. 고성능 다차원 배열 객체와 이러한 배열 작업을 위한 도구를 제공합니다.\n",
    "\n",
    "---\n",
    "\n",
    "이미 MATLAB에 익숙하다면,이 튜토리얼이 Numpy를 시작하는 데 유용할 것입니다.\n",
    "http://scipy.github.io/old-wiki/pages/NumPy_for_Matlab_Users\n",
    "\n",
    "Numpy를 사용하려면 먼저 numpy 패키지를 가져와야합니다."
   ]
  },
  {
   "cell_type": "code",
   "execution_count": 3,
   "metadata": {},
   "outputs": [
    {
     "ename": "ImportError",
     "evalue": "No module named 'sorna'",
     "output_type": "error",
     "traceback": [
      "\u001b[1;31m---------------------------------------------------------------------------\u001b[0m",
      "\u001b[1;31mImportError\u001b[0m                               Traceback (most recent call last)",
      "\u001b[1;32m<ipython-input-3-0565c23d8112>\u001b[0m in \u001b[0;36m<module>\u001b[1;34m()\u001b[0m\n\u001b[0;32m      5\u001b[0m \u001b[1;31m# display는 테이블 형식의 결과를 웹에서 보기 좋게 포매팅해주는 명령입니다.\u001b[0m\u001b[1;33m\u001b[0m\u001b[1;33m\u001b[0m\u001b[0m\n\u001b[0;32m      6\u001b[0m \u001b[1;31m# 중요한 부분이 아니니 무시해도 됩니다.\u001b[0m\u001b[1;33m\u001b[0m\u001b[1;33m\u001b[0m\u001b[0m\n\u001b[1;32m----> 7\u001b[1;33m \u001b[1;32mfrom\u001b[0m \u001b[0msorna\u001b[0m\u001b[1;33m.\u001b[0m\u001b[0mdisplay\u001b[0m \u001b[1;32mimport\u001b[0m \u001b[0mdisplay\u001b[0m\u001b[1;33m\u001b[0m\u001b[0m\n\u001b[0m",
      "\u001b[1;31mImportError\u001b[0m: No module named 'sorna'"
     ]
    }
   ],
   "source": [
    "# numpy를 np라는 약어로 불러옵니다. 앞으로 계속 사용하겠습니다.\n",
    "import numpy as np\n",
    "\n",
    "# Lablup.AI의 라이브러리에서 display 명령을 불러옵니다.\n",
    "# display는 테이블 형식의 결과를 웹에서 보기 좋게 포매팅해주는 명령입니다.\n",
    "# 중요한 부분이 아니니 무시해도 됩니다.\n",
    "from sorna.display import display"
   ]
  },
  {
   "cell_type": "markdown",
   "metadata": {},
   "source": [
    "### 배열\n",
    "numpy 배열은 모두 같은 유형의 값 그리드이며 음수가 아닌 정수의 튜플로 인덱싱됩니다. 차원의 수는 배열의 랭크입니다. 배열의 모양은 각 차원을 따라 배열의 크기를 제공하는 정수의 튜플입니다.\n",
    "\n",
    "중첩 된 파이썬 리스트로부터 numpy 배열을 초기화 할 수 있고 대괄호를 사용하여 요소에 접근 할 수 있습니다."
   ]
  },
  {
   "cell_type": "code",
   "execution_count": 4,
   "metadata": {},
   "outputs": [
    {
     "name": "stdout",
     "output_type": "stream",
     "text": [
      "<class 'numpy.ndarray'> (3,) 1 2 3\n"
     ]
    },
    {
     "data": {
      "text/plain": [
       "array([5, 2, 3])"
      ]
     },
     "metadata": {},
     "output_type": "display_data"
    }
   ],
   "source": [
    "a = np.array([1, 2, 3])  # 랭크 1 배열을 만듭니다\n",
    "print(type(a), a.shape, a[0], a[1], a[2])\n",
    "a[0] = 5                 # 배열의 요소를 변경합니다\n",
    "display(a)"
   ]
  },
  {
   "cell_type": "code",
   "execution_count": 5,
   "metadata": {},
   "outputs": [
    {
     "data": {
      "text/plain": [
       "array([[1, 2, 3],\n",
       "       [4, 5, 6]])"
      ]
     },
     "metadata": {},
     "output_type": "display_data"
    }
   ],
   "source": [
    "b = np.array([[1,2,3],[4,5,6]])   # 랭크 2 배열을 만듭니다\n",
    "display(b)"
   ]
  },
  {
   "cell_type": "code",
   "execution_count": 6,
   "metadata": {},
   "outputs": [
    {
     "name": "stdout",
     "output_type": "stream",
     "text": [
      "(2, 3)\n",
      "1 2 4\n"
     ]
    }
   ],
   "source": [
    "print(b.shape)  # b의 모양을 출력합니다. 일반적으로 배열의 모양은 배열의 차원입니다.\n",
    "print(b[0, 0], b[0, 1], b[1, 0])"
   ]
  },
  {
   "cell_type": "code",
   "execution_count": 7,
   "metadata": {},
   "outputs": [
    {
     "data": {
      "text/plain": [
       "array([[ 0.,  0.],\n",
       "       [ 0.,  0.]])"
      ]
     },
     "metadata": {},
     "output_type": "display_data"
    }
   ],
   "source": [
    "a = np.zeros((2,2))  # 0으로 가득찬 배열을 만듭니다.\n",
    "display(a)"
   ]
  },
  {
   "cell_type": "code",
   "execution_count": 8,
   "metadata": {},
   "outputs": [
    {
     "data": {
      "text/plain": [
       "array([[ 1.,  1.]])"
      ]
     },
     "metadata": {},
     "output_type": "display_data"
    }
   ],
   "source": [
    "b = np.ones((1,2))   # 1로 가득찬 배열을 만듭니다.\n",
    "display(b)"
   ]
  },
  {
   "cell_type": "code",
   "execution_count": 9,
   "metadata": {},
   "outputs": [
    {
     "name": "stderr",
     "output_type": "stream",
     "text": [
      "C:\\Users\\LEE\\AppData\\Local\\conda\\conda\\envs\\py35\\lib\\site-packages\\numpy\\core\\numeric.py:301: FutureWarning: in the future, full((2, 2), 7) will return an array of dtype('int32')\n",
      "  format(shape, fill_value, array(fill_value).dtype), FutureWarning)\n"
     ]
    },
    {
     "data": {
      "text/plain": [
       "array([[ 7.,  7.],\n",
       "       [ 7.,  7.]])"
      ]
     },
     "metadata": {},
     "output_type": "display_data"
    }
   ],
   "source": [
    "c = np.full((2,2), 7) # 상수 배열을 만듭니다.\n",
    "display(c)"
   ]
  },
  {
   "cell_type": "code",
   "execution_count": 10,
   "metadata": {},
   "outputs": [
    {
     "data": {
      "text/plain": [
       "array([[ 1.,  0.],\n",
       "       [ 0.,  1.]])"
      ]
     },
     "metadata": {},
     "output_type": "display_data"
    }
   ],
   "source": [
    "d = np.eye(2)        # 2x2 단위행렬을 만듭니다.\n",
    "display(d)"
   ]
  },
  {
   "cell_type": "code",
   "execution_count": 11,
   "metadata": {},
   "outputs": [
    {
     "data": {
      "text/plain": [
       "array([[ 0.9833022 ,  0.96127645],\n",
       "       [ 0.06726618,  0.76695455]])"
      ]
     },
     "metadata": {},
     "output_type": "display_data"
    }
   ],
   "source": [
    "e = np.random.random((2,2)) # 0~1 사이의 값 중 무작위값으로 채워진 배열을 만듭니다.\n",
    "display(e)"
   ]
  },
  {
   "cell_type": "code",
   "execution_count": 12,
   "metadata": {},
   "outputs": [
    {
     "data": {
      "text/plain": [
       "array([[ 0.88161586,  0.63259002],\n",
       "       [-0.83571348,  1.48410323]])"
      ]
     },
     "metadata": {},
     "output_type": "display_data"
    }
   ],
   "source": [
    "f = np.random.randn(2,2)  # 표준정규분포를 따르는 무작위값 배열을 만듭니다.\n",
    "display(f)"
   ]
  },
  {
   "cell_type": "code",
   "execution_count": 13,
   "metadata": {},
   "outputs": [
    {
     "data": {
      "text/plain": [
       "array([[ 0.13710985, -0.15414026],\n",
       "       [-0.59106565, -1.10735367]])"
      ]
     },
     "metadata": {},
     "output_type": "display_data"
    }
   ],
   "source": [
    "g = np.random.normal(size=(2,2))  # 정규분포를 따르는 무작위값 배열을 만듭니다.\n",
    "display(g)"
   ]
  },
  {
   "cell_type": "markdown",
   "metadata": {},
   "source": [
    "---\n",
    "### 배열 색인 생성하기\n",
    "Numpy는 배열에 색인을 생성하는 몇 가지 방법을 제공합니다.\n",
    "\n",
    "슬라이싱 : 파이썬 리스트와 마찬가지로, numpy 배열은 슬라이스 될 수 있습니다. 배열은 다차원일 수 있으므로 배열의 각 차원에 대해 슬라이스를 지정해야합니다."
   ]
  },
  {
   "cell_type": "code",
   "execution_count": 14,
   "metadata": {},
   "outputs": [
    {
     "data": {
      "text/plain": [
       "array([[2, 3],\n",
       "       [6, 7]])"
      ]
     },
     "metadata": {},
     "output_type": "display_data"
    }
   ],
   "source": [
    "import numpy as np\n",
    "\n",
    "# (3,4) 형태의 랭크 2 배열을 만듭니다.\n",
    "# [[ 1  2  3  4]\n",
    "#  [ 5  6  7  8]\n",
    "#  [ 9 10 11 12]]\n",
    "a = np.array([[1,2,3,4], [5,6,7,8], [9,10,11,12]])\n",
    "\n",
    "# 슬라이싱을 이용하여 처음 두 행과 두 열로 구성된 부분배열을 만듭니다.\n",
    "# b 는 (2, 2) 형태의 배열이 됩니다.\n",
    "# [[2 3]\n",
    "#  [6 7]]\n",
    "b = a[:2, 1:3]\n",
    "display(b)"
   ]
  },
  {
   "cell_type": "markdown",
   "metadata": {},
   "source": [
    "배열의 조각은 동일한 데이터에 대한 뷰이므로 이를 수정하면 원래 배열이 수정됩니다."
   ]
  },
  {
   "cell_type": "code",
   "execution_count": 15,
   "metadata": {},
   "outputs": [
    {
     "name": "stdout",
     "output_type": "stream",
     "text": [
      "2\n",
      "77\n"
     ]
    }
   ],
   "source": [
    "print(a[0, 1]) \n",
    "b[0, 0] = 77    # b[0, 0] 는 a[0, 1] 과 동일한 데이터를 갖고 있습니다.\n",
    "print(a[0, 1])"
   ]
  },
  {
   "cell_type": "markdown",
   "metadata": {},
   "source": [
    "정수 인덱싱과 슬라이스 인덱싱을 함께 사용할 수도 있습니다. 그러나 이렇게하면 원래 배열보다 낮은 랭크의 배열이 생성됩니다. 이것은 MATLAB이 배열 슬라이스를 처리하는 방식과 매우 다릅니다."
   ]
  },
  {
   "cell_type": "code",
   "execution_count": null,
   "metadata": {
    "collapsed": true
   },
   "outputs": [],
   "source": [
    "# (3, 4) 모양의 랭크 2 배열을 만듭니다.\n",
    "a = np.array([[1,2,3,4], [5,6,7,8], [9,10,11,12]])\n",
    "display(a)"
   ]
  },
  {
   "cell_type": "markdown",
   "metadata": {},
   "source": [
    "배열의 중간 행에 있는 데이터에 액세스하는 두 가지 방법이 있습니다. 정수 인덱스와 슬라이스를 섞으면 더 낮은 랭크의 배열이 생성되는 반면, 슬라이스만 사용하면 원래 배열과 동일한 랭크의 배열이 생성됩니다.\n",
    "\n",
    "\n"
   ]
  },
  {
   "cell_type": "code",
   "execution_count": null,
   "metadata": {
    "collapsed": true
   },
   "outputs": [],
   "source": [
    "row_r1 = a[1, :]    # a의 두번째 행의 랭크 1 뷰  \n",
    "row_r2 = a[1:2, :]  # a의 두번째 행의 랭크 2 뷰\n",
    "row_r3 = a[[1], :]  # a의 두번째 행의 랭크 2 뷰\n",
    "print(row_r1, row_r1.shape)  # 정수 인덱스와 섞은 경우\n",
    "print(row_r2, row_r2.shape)  # 슬라이스만 사용한 경우\n",
    "print(row_r3, row_r3.shape)  # 슬라이스만 사용한 경우"
   ]
  },
  {
   "cell_type": "markdown",
   "metadata": {},
   "source": [
    "정수 배열 인덱싱 : 슬라이싱을 사용하여 numpy 배열로 인덱싱 할 때 결과 배열 뷰는 항상 원래 배열의 하위 배열이 됩니다. 반대로 정수 배열 인덱싱을 사용하면 다른 배열의 데이터를 사용하여 임의의 배열을 구성 할 수 있습니다. 다음은 그 예입니다.\n",
    "\n"
   ]
  },
  {
   "cell_type": "code",
   "execution_count": null,
   "metadata": {
    "collapsed": true
   },
   "outputs": [],
   "source": [
    "a = np.array([[1,2], [3, 4], [5, 6]])\n",
    "\n",
    "# 정수 배열 인덱싱 예.\n",
    "# 결과 배열은 (3,) 형태가 됩니다. \n",
    "display(a[[0, 1, 2], [0, 1, 0]])\n",
    "\n",
    "# 위의 정수 배열 인덱싱은 아래와 같습니다.\n",
    "display(np.array([a[0, 0], a[1, 1], a[2, 0]]))"
   ]
  },
  {
   "cell_type": "code",
   "execution_count": null,
   "metadata": {
    "collapsed": true
   },
   "outputs": [],
   "source": [
    "# 배열 인덱싱을 사용할 때, 소스 배열과 같은 요소를 사용해도 됩니다.\n",
    "display(a[[0, 0], [1, 1]])\n",
    "\n",
    "# 위의 정수 배열 인덱싱 예와 같은 경우입니다.\n",
    "display(np.array([a[0, 1], a[0, 1]]))"
   ]
  },
  {
   "cell_type": "markdown",
   "metadata": {},
   "source": [
    "정수 배열 인덱싱을 사용하는 유용한 트릭은 행렬의 각 행에서 하나의 요소를 선택하거나 변경하는 것입니다.\n",
    "\n"
   ]
  },
  {
   "cell_type": "code",
   "execution_count": null,
   "metadata": {
    "collapsed": true
   },
   "outputs": [],
   "source": [
    "# 요소를 선택할 새 배열을 만듭니다.\n",
    "a = np.array([[1,2,3], [4,5,6], [7,8,9], [10, 11, 12]])\n",
    "display(a)"
   ]
  },
  {
   "cell_type": "code",
   "execution_count": null,
   "metadata": {
    "collapsed": true
   },
   "outputs": [],
   "source": [
    "# 인덱스 배열을 만듭니다.\n",
    "b = np.array([0, 2, 0, 1])\n",
    "\n",
    "# b의 인덱스를 이용하여 a의 각 행으로부터 하나의 요소들을 선택합니다.\n",
    "display(a[np.arange(4), b])  # Prints \"[ 1  6  7 11]\""
   ]
  },
  {
   "cell_type": "code",
   "execution_count": null,
   "metadata": {
    "collapsed": true
   },
   "outputs": [],
   "source": [
    "# b의 인덱스를 이용하여 각 행의 하나의 요소를 변경합니다.\n",
    "a[np.arange(4), b] += 10\n",
    "display(a)"
   ]
  },
  {
   "cell_type": "markdown",
   "metadata": {},
   "source": [
    "부울 배열 인덱싱 : 부울 배열 인덱싱을 사용하면 배열의 임의 요소를 선택할 수 있습니다. 이 유형의 인덱싱은 일부 조건을 만족하는 배열 요소를 선택하는 데 자주 사용됩니다. 다음은 그 예입니다.\n",
    "\n"
   ]
  },
  {
   "cell_type": "code",
   "execution_count": null,
   "metadata": {
    "collapsed": true
   },
   "outputs": [],
   "source": [
    "import numpy as np\n",
    "\n",
    "a = np.array([[1,2], [3, 4], [5, 6]])\n",
    "\n",
    "bool_idx = (a > 2)  # 2보다 큰 a의 원소를 찾습니다. \n",
    "                    # 이것은 a와 동일한 모양의 부울 값 배열을 반환합니다. \n",
    "                    # 여기서 bool_idx의 각 슬롯은 a의 해당 요소가 2보다 큰지 여부를 나타냅니다.\n",
    "\n",
    "display(bool_idx)"
   ]
  },
  {
   "cell_type": "code",
   "execution_count": 16,
   "metadata": {
    "scrolled": true
   },
   "outputs": [
    {
     "ename": "NameError",
     "evalue": "name 'bool_idx' is not defined",
     "output_type": "error",
     "traceback": [
      "\u001b[1;31m---------------------------------------------------------------------------\u001b[0m",
      "\u001b[1;31mNameError\u001b[0m                                 Traceback (most recent call last)",
      "\u001b[1;32m<ipython-input-16-9d548bcdc581>\u001b[0m in \u001b[0;36m<module>\u001b[1;34m()\u001b[0m\n\u001b[0;32m      1\u001b[0m \u001b[1;31m# 부울 배열 인덱싱을 사용하여 bool_idx의 True 값에 해당하는 요소로 구성된\u001b[0m\u001b[1;33m\u001b[0m\u001b[1;33m\u001b[0m\u001b[0m\n\u001b[0;32m      2\u001b[0m \u001b[1;31m# 랭크 1 배열을 생성합니다\u001b[0m\u001b[1;33m\u001b[0m\u001b[1;33m\u001b[0m\u001b[0m\n\u001b[1;32m----> 3\u001b[1;33m \u001b[0mdisplay\u001b[0m\u001b[1;33m(\u001b[0m\u001b[0ma\u001b[0m\u001b[1;33m[\u001b[0m\u001b[0mbool_idx\u001b[0m\u001b[1;33m]\u001b[0m\u001b[1;33m)\u001b[0m\u001b[1;33m\u001b[0m\u001b[0m\n\u001b[0m\u001b[0;32m      4\u001b[0m \u001b[1;33m\u001b[0m\u001b[0m\n\u001b[0;32m      5\u001b[0m \u001b[1;31m# 위의 모든 것을 간결하게 할 수 있습니다.\u001b[0m\u001b[1;33m\u001b[0m\u001b[1;33m\u001b[0m\u001b[0m\n",
      "\u001b[1;31mNameError\u001b[0m: name 'bool_idx' is not defined"
     ]
    }
   ],
   "source": [
    "# 부울 배열 인덱싱을 사용하여 bool_idx의 True 값에 해당하는 요소로 구성된 \n",
    "# 랭크 1 배열을 생성합니다\n",
    "display(a[bool_idx])\n",
    "\n",
    "# 위의 모든 것을 간결하게 할 수 있습니다.\n",
    "display(a[a > 2])"
   ]
  },
  {
   "cell_type": "markdown",
   "metadata": {},
   "source": [
    "### 데이터 유형\n",
    "각 numpy 배열은 동일한 유형의 요소 그리드입니다. Numpy는 배열을 생성하는 데 사용할 수있는 많은 수의 데이터 유형을 제공합니다. Numpy는 배열을 생성 할 때 데이터 유형을 추측하려 하지만 배열을 생성하는 함수는 대개 데이터 유형을 명시적으로 지정하는 선택적 인수를 포함합니다. 다음은 그 예입니다.\n",
    "\n"
   ]
  },
  {
   "cell_type": "code",
   "execution_count": 17,
   "metadata": {},
   "outputs": [
    {
     "name": "stdout",
     "output_type": "stream",
     "text": [
      "int32 float64 int64\n"
     ]
    }
   ],
   "source": [
    "x = np.array([1, 2])  # numpy 가 데이터 유형을 선택하게 합시다.\n",
    "y = np.array([1.0, 2.0])  # numpy 가 데이터 유형을 선택하게 합시다.\n",
    "z = np.array([1, 2], dtype=np.int64)  # 특정 데이터 유형을 강제로 할당합시다.\n",
    "\n",
    "print(x.dtype, y.dtype, z.dtype)"
   ]
  },
  {
   "cell_type": "markdown",
   "metadata": {},
   "source": [
    "문서에서 numpy 데이터 유형에 대한 모든 것을 읽을 수 있습니다.\n",
    "https://docs.scipy.org/doc/numpy/reference/arrays.dtypes.html"
   ]
  },
  {
   "cell_type": "markdown",
   "metadata": {},
   "source": [
    "### 배열 수학\n",
    "기본 수학 함수는 배열에서 요소 단위로 작동하며 연산자 오버로드와 numpy 모듈의 함수로 사용할 수 있습니다."
   ]
  },
  {
   "cell_type": "code",
   "execution_count": null,
   "metadata": {
    "collapsed": true
   },
   "outputs": [],
   "source": [
    "x = np.array([[1,2],[3,4]], dtype=np.float64)\n",
    "y = np.array([[5,6],[7,8]], dtype=np.float64)\n",
    "\n",
    "# 요소별 합. 둘 다 배열을 만듭니다.\n",
    "display(x + y)\n",
    "display(np.add(x, y))"
   ]
  },
  {
   "cell_type": "code",
   "execution_count": null,
   "metadata": {
    "collapsed": true
   },
   "outputs": [],
   "source": [
    "# 요소별 차. 둘 다 배열을 만듭니다.\n",
    "print(x - y)\n",
    "print(np.subtract(x, y))"
   ]
  },
  {
   "cell_type": "code",
   "execution_count": null,
   "metadata": {
    "collapsed": true
   },
   "outputs": [],
   "source": [
    "# 요소별 곱. 둘 다 배열을 만듭니다.\n",
    "print(x * y)\n",
    "print(np.multiply(x, y))"
   ]
  },
  {
   "cell_type": "code",
   "execution_count": null,
   "metadata": {
    "collapsed": true
   },
   "outputs": [],
   "source": [
    "# 요소별 나누기. 둘 다 배열을 만듭니다.\n",
    "# [[ 0.2         0.33333333]\n",
    "#  [ 0.42857143  0.5       ]]\n",
    "print(x / y)\n",
    "print(np.divide(x, y))"
   ]
  },
  {
   "cell_type": "code",
   "execution_count": null,
   "metadata": {
    "collapsed": true
   },
   "outputs": [],
   "source": [
    "# 요소별 제곱근. 둘 다 배열을 만듭니다.\n",
    "# [[ 1.          1.41421356]\n",
    "#  [ 1.73205081  2.        ]]\n",
    "print(np.sqrt(x))"
   ]
  },
  {
   "cell_type": "markdown",
   "metadata": {},
   "source": [
    "MATLAB과 달리 *는 행렬 곱셈이 아닌 요소 별 곱셈입니다. 대신에 벡터의 내적을 계산하고, 벡터에 행렬을 곱하고, 행렬을 곱하기 위해 dot 함수를 사용합니다. dot 는 numpy 모듈의 함수 및 배열 객체의 인스턴스 메서드로 사용할 수 있습니다.\n",
    "\n"
   ]
  },
  {
   "cell_type": "code",
   "execution_count": 18,
   "metadata": {},
   "outputs": [
    {
     "name": "stdout",
     "output_type": "stream",
     "text": [
      "219\n",
      "219\n"
     ]
    }
   ],
   "source": [
    "x = np.array([[1,2],[3,4]])\n",
    "y = np.array([[5,6],[7,8]])\n",
    "\n",
    "v = np.array([9,10])\n",
    "w = np.array([11, 12])\n",
    "\n",
    "# 벡터의 내적.  둘 다 219\n",
    "print(v.dot(w))\n",
    "print(np.dot(v, w))"
   ]
  },
  {
   "cell_type": "code",
   "execution_count": null,
   "metadata": {
    "collapsed": true
   },
   "outputs": [],
   "source": [
    "# 행렬 / 벡터 곱. 둘 다 랭크 1 배열 [29 67] 을 만듭니다.\n",
    "print(x.dot(v))\n",
    "print(np.dot(x, v))"
   ]
  },
  {
   "cell_type": "code",
   "execution_count": null,
   "metadata": {
    "collapsed": true
   },
   "outputs": [],
   "source": [
    "# 행렬 / 행렬 곱. 둘 다 랭크 2 배열을 만듭니다.\n",
    "# [[19 22]\n",
    "#  [43 50]]\n",
    "print(x.dot(y))\n",
    "print(np.dot(x, y))"
   ]
  },
  {
   "cell_type": "markdown",
   "metadata": {},
   "source": [
    "Numpy는 배열에서 계산을 수행하는 데 유용한 많은 기능을 제공합니다. 가장 유용한 것 중 하나가 sum입니다."
   ]
  },
  {
   "cell_type": "code",
   "execution_count": null,
   "metadata": {
    "collapsed": true
   },
   "outputs": [],
   "source": [
    "x = np.array([[1,2],[3,4]])\n",
    "\n",
    "print(np.sum(x))  # 모든 요소의 합. \"10\"을 출력합니다.\n",
    "print(np.sum(x, axis=0))  # 각 열의 합. \"[4 6]\" 을 출력합니다.\n",
    "print(np.sum(x, axis=1))  # 각 행의 합. \"[3 7]\" 을 출력합니다."
   ]
  },
  {
   "cell_type": "markdown",
   "metadata": {},
   "source": [
    "여기서 축(axis)은 각 배열의 차원에 해당되는 인덱스입니다. 위의 예를 설명하면\n",
    "\n",
    "x.shape 은 (2, 2) 입니다.\n",
    "np.sum(x, axis=0) 은\n",
    "x.shape[axis]: x.shape[0] 에 대하여 연산을 하라는 의미\n",
    "입니다.\n",
    "\n",
    "X.shape == (5, 3, 2) 인 경우를 생각해봅시다. 이 경우 np.sum(X, axis=1) 의 결과값은\n",
    "\n",
    "X.shape[axis] => X.shape[1] 에 대해서 연산을 하기 때문에\n",
    "np.sum(X, axis=1).shape 은 (5, 3, 2) -> (5, 2) 가 됩니다.\n",
    "numpy가 제공하는 수학 함수의 전체 목록은 문서에서 찾을 수 있습니다.\n",
    "\n",
    "배열을 사용하여 수학 함수를 계산하는 것 외에도 배열의 데이터를 변형하거나 조작해야 하는 경우가 자주 있습니다. 이 유형의 연산 중 가장 간단한 예는 행렬을 교차(transpose)하는 것입니다. 행렬을 교차하려면 단순히 배열 객체의 T 속성을 사용하십시오."
   ]
  },
  {
   "cell_type": "code",
   "execution_count": null,
   "metadata": {
    "collapsed": true
   },
   "outputs": [],
   "source": [
    "print(x)\n",
    "print(x.T)"
   ]
  },
  {
   "cell_type": "code",
   "execution_count": null,
   "metadata": {
    "collapsed": true
   },
   "outputs": [],
   "source": [
    "v = np.array([[1,2,3]])\n",
    "print(v)\n",
    "print(v.T)"
   ]
  },
  {
   "cell_type": "markdown",
   "metadata": {},
   "source": [
    "---\n",
    "### 브로드캐스팅\n",
    "브로드캐스팅은 numpy가 산술 연산을 수행 할 때 다른 모양의 배열로 작업 할 수있게 해주는 강력한 메커니즘입니다. 종종 더 작은 배열과 더 큰 배열이 있을 때 더 작은 배열을 여러 번 사용하여 더 큰 배열에서 어떤 연산을 수행하기를 원할 때가 있습니다.\n",
    "\n",
    "예를 들어, 행렬의 각 행에 상수 벡터를 추가하려 한다고 가정합시다. 다음과 같이 할 수 있습니다.\n",
    "\n"
   ]
  },
  {
   "cell_type": "code",
   "execution_count": null,
   "metadata": {
    "collapsed": true
   },
   "outputs": [],
   "source": [
    "# 행렬 x의 각 행에 벡터 v를 더하고 그 결과를 행렬 y에 저장할 것입니다.\n",
    "x = np.array([[1,2,3], [4,5,6], [7,8,9], [10, 11, 12]])\n",
    "v = np.array([1, 0, 1])\n",
    "y = np.empty_like(x)   # x와 같은 모양의 빈 행렬 생성\n",
    "\n",
    "# 루프를 이용하여 행렬의 각 행에 벡터 v를 더한다.\n",
    "for i in range(4):\n",
    "    y[i, :] = x[i, :] + v\n",
    "\n",
    "print(y)"
   ]
  },
  {
   "cell_type": "markdown",
   "metadata": {},
   "source": [
    "이것도 돌아갑니다. 그러나 행렬 x가 매우 클 경우 Python에서 명시적 루프를 계산하는 속도가 느려질 수 있습니다. 행렬 x의 각 행에 벡터 v를 더하는 것은 v의 여러 복사본을 수직으로 쌓은 다음 행렬 x와 v의 요소별 합계를 수행하여 행렬 v를 형성하는 것과 같습니다. 이 접근법은 다음과 같이 구현할 수 있습니다."
   ]
  },
  {
   "cell_type": "code",
   "execution_count": null,
   "metadata": {
    "collapsed": true
   },
   "outputs": [],
   "source": [
    "vv = np.tile(v, (4, 1))  # v의 4개의 카피를 쌓음.\n",
    "print(vv)                # 출력은   \"[[1 0 1]\n",
    "                         #          [1 0 1]\n",
    "                         #          [1 0 1]\n",
    "                         #          [1 0 1]]\""
   ]
  },
  {
   "cell_type": "code",
   "execution_count": null,
   "metadata": {
    "collapsed": true
   },
   "outputs": [],
   "source": [
    "y = x + vv  # x 와 vv를 요소별로 더함\n",
    "print(y)"
   ]
  },
  {
   "cell_type": "code",
   "execution_count": null,
   "metadata": {
    "collapsed": true
   },
   "outputs": [],
   "source": [
    "import numpy as np\n",
    "\n",
    "# 행렬 x의 각 행에 벡터 v를 더하고 그 결과를 행렬 y에 저장할 것입니다.\n",
    "x = np.array([[1,2,3], [4,5,6], [7,8,9], [10, 11, 12]])\n",
    "v = np.array([1, 0, 1])\n",
    "y = x + v  # 브로드캐스팅을 이용해 x의 각 행에 v를 더하기\n",
    "print(y)"
   ]
  },
  {
   "cell_type": "markdown",
   "metadata": {},
   "source": [
    "y = x + v 라인은 브로드캐스팅으로 인해 x가 shape (4, 3)이고 v가 shape (3)인데도 작동합니다. 이 행은 v가 실제로 shape (4, 3)인 것처럼 작동합니다. 각 행은 v의 사본이었고, 합계는 요소별로 수행되었습니다.\n",
    "\n",
    "두 개의 배열을 브로드캐스팅하는 것은 다음 규칙을 따릅니다.\n",
    "\n",
    "1. 배열의 랭크가 같지 않으면 두 모양이 같은 길이가 될 때까지 배열의 낮은 랭크쪽에 1을 붙입니다.\n",
    "2. 두 배열은 차원에서 크기가 같거나 배열 중 하나의 차원에 크기가 1 인 경우 차원에서 호환 가능하다고 합니다.\n",
    "3. 배열은 모든 차원에서 호환되면 함께 브로드캐스트 될 수 있습니다.\n",
    "4. 브로드캐스트 후 각 배열은 두 개의 입력 배열의 요소 모양 최대 개수와 동일한 모양을 가진 것처럼 동작합니다.\n",
    "5. 한 배열의 크기가 1이고 다른 배열의 크기가 1보다 큰 차원에서 첫 번째 배열은 마치 해당 차원을 따라 복사 된 것처럼 작동합니다\n",
    "실제로 동작하는 방식을 생각해 봅시다.\n",
    "\n",
    "1. A와 B의 모양을 생각합니다.\n",
    "2. 두 배열이 len(A.shape) == len(B.shape)인지 확인을 합니다.\n",
    "3. 같지 않은 경우에는 두 배열의 모양 길이가 같아질때까지 적은 쪽의 shape 앞에 1 을 추가해 줍니다.\n",
    ">예: (5,3)–>(1,5,3)\n",
    "4. shape이 1인 곳은 복사가 됩니다.\n",
    ">예: shape의 변화는 아래와 같게 될겁니다.\n",
    " - (5, 3)+(3,)  \n",
    " - (5, 3)+(1, 3)  \n",
    " - (5, 3) + (5, 3)\n",
    " - (5, 3)  \n",
    "\n",
    "이 설명이 이해가되지 않으면 문서https://docs.scipy.org/doc/numpy/user/basics.broadcasting.html 또는 이 설명http://scipy.github.io/old-wiki/pages/EricsBroadcastingDoc을 읽으십시오.\n",
    "\n",
    "브로드캐스팅을 지원하는 함수들을 보편 함수라고합니다. 이 문서https://docs.scipy.org/doc/numpy/reference/ufuncs.html#available-ufuncs에서 모든 보편 함수 목록을 찾을 수 있습니다.\n",
    "\n",
    "다음은 브로드캐스팅의 일부 예입니다."
   ]
  },
  {
   "cell_type": "code",
   "execution_count": 19,
   "metadata": {},
   "outputs": [
    {
     "name": "stdout",
     "output_type": "stream",
     "text": [
      "[[ 4  5]\n",
      " [ 8 10]\n",
      " [12 15]]\n"
     ]
    }
   ],
   "source": [
    "# 벡터의 외적을 계산합니다.\n",
    "v = np.array([1,2,3])  # v 는 (3,) 모양\n",
    "w = np.array([4,5])    # w 는 (2,) 모양\n",
    "# 외적을 계산하기 위해서, v를 (3, 1) 모양의 열벡터로 모양을 변경합니다; \n",
    "# 그런 다음 w에 대해서 브로드캐스트를 하여 v와 w의 외적인 (3, 2) 모양의 결과를 얻습니다:\n",
    "\n",
    "print(np.reshape(v, (3, 1)) * w)"
   ]
  },
  {
   "cell_type": "code",
   "execution_count": null,
   "metadata": {
    "collapsed": true
   },
   "outputs": [],
   "source": [
    "# 벡터를 행렬의 각 행에 더합니다.\n",
    "x = np.array([[1,2,3], [4,5,6]])\n",
    "# x 는 (2, 3) 모양이며, v 는 (3, ) 모양입니다. 그래서 (2, 3)으로 브로드캐스트됩니다:\n",
    "\n",
    "print(x + v)"
   ]
  },
  {
   "cell_type": "code",
   "execution_count": null,
   "metadata": {
    "collapsed": true
   },
   "outputs": [],
   "source": [
    "# 행렬의 각 열에 벡터를 추가합니다. \n",
    "# x는 (2, 3) 모양이고 w는 (2,) 모양 입니다.\n",
    "# x를 전치한다면 (3, 2) 모양이 되며, w에 대해 브로드캐스트하여 (3, 2) 모양의 결과를 얻을 수 있습니다. \n",
    "# 이 결과를 전치하면 (2, 3) 모양의 최종 결과가 나오는데, 이는 행렬 x의 각 열에 벡터 w를 더한 것입니다.\n",
    "\n",
    "print((x.T + w).T)"
   ]
  },
  {
   "cell_type": "code",
   "execution_count": null,
   "metadata": {
    "collapsed": true
   },
   "outputs": [],
   "source": [
    "# 다른 방법은 w의 모양을 (2, 1)의 행벡터로 바꾸는 것입니다.\n",
    "# 그 다음 x에 대해 바로 브로드캐스트하여 같은 결과를 만들 수 있습니다.\n",
    "print(x + np.reshape(w, (2, 1)))"
   ]
  },
  {
   "cell_type": "code",
   "execution_count": null,
   "metadata": {
    "collapsed": true
   },
   "outputs": [],
   "source": [
    "# 행렬에 상수를 곱합니다:\n",
    "# x 는 (2, 3)의 모양입니다. Numpy 는 스칼라를 () 모양의 배열로 다룹니다;\n",
    "# 이것들은 아래의 방법으로 (2, 3) 모양으로 브로드캐스트할 수 있습니다.\n",
    "print(x * 2)"
   ]
  },
  {
   "cell_type": "markdown",
   "metadata": {},
   "source": [
    "브로드캐스팅을 이용해 일반적으로 코드를 보다 간결하고 빠르게 작성할 수 있으므로 가능하면 브로드캐스팅을 사용하려고 노력해야합니다.\n",
    "\n",
    "이 간단한 개요는 numpy에 대해 알아야 할 중요한 여러 가지 사항을 다루었지만 완전한 것은 아닙니다. numpy에 대해 자세히 알아 보려면 numpy 레퍼런스를 확인하십시오.\n",
    "\n",
    "https://docs.scipy.org/doc/numpy/reference/"
   ]
  },
  {
   "cell_type": "markdown",
   "metadata": {},
   "source": [
    "---\n",
    "## matplotlib 기본\n",
    "파이썬에서 그래프를 그릴 때 주로 사용하는 플로팅 라이브러리인 matplotlib에 대해 간단하게 공부해 봅시다.\n",
    "\n",
    "---\n",
    "### 소개\n",
    "matplotlib는 2D 그래픽 용으로 가장 많이 사용되는 Python 패키지일 것입니다. Python의 데이터를 시각화하는 매우 빠른 방법과 다양한 형식의 출판 품질 스케일을 제공합니다. 가장 일반적인 경우를 다루는 대화형 모드에서 matplotlib를 배워봅시다.\n",
    "\n",
    "---\n",
    "### IPython과 pylab 모드\n",
    "IPython은 이름이 지정된 입출력, 셸 명령에 대한 액세스, 개선 된 디버깅 등을 비롯한 많은 흥미로운 기능을 갖춘 향상된 대화형 Python 셸입니다. 명령 줄 인수 -pylab (IPython 버전 0.12 이후 --pylab)으로 시작하면 Matlab / Mathematica와 유사한 기능을 가진 대화식 matplotlib 세션을 사용할 수 있습니다.\n",
    "\n",
    "---\n",
    "### pyplot\n",
    "pyplot은 matplotlib 객체 지향 플로팅 라이브러리에 편리한 인터페이스를 제공합니다. pyplot은 MATLAB(TM)을 면밀히 모델링했습니다. 따라서, pyplot에서 플로팅 명령의 대부분은 유사한 인수를 가진 MATLAB(TM) 명령을 사용합니다. 중요한 명령은 대화형 예제로 설명하겠습니다.\n",
    "\n",
    "---\n",
    "### 단순한 플롯(plot)\n",
    "이 섹션에서는 같은 플롯에 코사인 함수와 사인 함수를 그립니다. 기본 설정에서 시작하여 그림을 단계적으로 풍부하게 만들어 더 멋지게 만듭니다.\n",
    "\n",
    "첫 번째 단계는 사인 및 코사인 함수 데이터를 얻는 것입니다."
   ]
  },
  {
   "cell_type": "code",
   "execution_count": 20,
   "metadata": {},
   "outputs": [
    {
     "ename": "ImportError",
     "evalue": "No module named 'sorna'",
     "output_type": "error",
     "traceback": [
      "\u001b[1;31m---------------------------------------------------------------------------\u001b[0m",
      "\u001b[1;31mImportError\u001b[0m                               Traceback (most recent call last)",
      "\u001b[1;32m<ipython-input-20-4fd714166222>\u001b[0m in \u001b[0;36m<module>\u001b[1;34m()\u001b[0m\n\u001b[0;32m      1\u001b[0m \u001b[1;32mimport\u001b[0m \u001b[0mnumpy\u001b[0m \u001b[1;32mas\u001b[0m \u001b[0mnp\u001b[0m\u001b[1;33m\u001b[0m\u001b[0m\n\u001b[1;32m----> 2\u001b[1;33m \u001b[1;32mfrom\u001b[0m \u001b[0msorna\u001b[0m\u001b[1;33m.\u001b[0m\u001b[0mdisplay\u001b[0m \u001b[1;32mimport\u001b[0m \u001b[0mdisplay\u001b[0m\u001b[1;33m\u001b[0m\u001b[0m\n\u001b[0m\u001b[0;32m      3\u001b[0m \u001b[1;33m\u001b[0m\u001b[0m\n\u001b[0;32m      4\u001b[0m \u001b[0mX\u001b[0m \u001b[1;33m=\u001b[0m \u001b[0mnp\u001b[0m\u001b[1;33m.\u001b[0m\u001b[0mlinspace\u001b[0m\u001b[1;33m(\u001b[0m\u001b[1;33m-\u001b[0m\u001b[0mnp\u001b[0m\u001b[1;33m.\u001b[0m\u001b[0mpi\u001b[0m\u001b[1;33m,\u001b[0m \u001b[0mnp\u001b[0m\u001b[1;33m.\u001b[0m\u001b[0mpi\u001b[0m\u001b[1;33m,\u001b[0m \u001b[1;36m256\u001b[0m\u001b[1;33m,\u001b[0m \u001b[0mendpoint\u001b[0m\u001b[1;33m=\u001b[0m\u001b[1;32mTrue\u001b[0m\u001b[1;33m)\u001b[0m\u001b[1;33m\u001b[0m\u001b[0m\n\u001b[0;32m      5\u001b[0m \u001b[0mC\u001b[0m\u001b[1;33m,\u001b[0m \u001b[0mS\u001b[0m \u001b[1;33m=\u001b[0m \u001b[0mnp\u001b[0m\u001b[1;33m.\u001b[0m\u001b[0mcos\u001b[0m\u001b[1;33m(\u001b[0m\u001b[0mX\u001b[0m\u001b[1;33m)\u001b[0m\u001b[1;33m,\u001b[0m \u001b[0mnp\u001b[0m\u001b[1;33m.\u001b[0m\u001b[0msin\u001b[0m\u001b[1;33m(\u001b[0m\u001b[0mX\u001b[0m\u001b[1;33m)\u001b[0m\u001b[1;33m\u001b[0m\u001b[0m\n",
      "\u001b[1;31mImportError\u001b[0m: No module named 'sorna'"
     ]
    }
   ],
   "source": [
    "import numpy as np\n",
    "from sorna.display import display\n",
    "\n",
    "X = np.linspace(-np.pi, np.pi, 256, endpoint=True)\n",
    "C, S = np.cos(X), np.sin(X)\n",
    "display(np.array([C.T, S.T]))"
   ]
  },
  {
   "cell_type": "markdown",
   "metadata": {},
   "source": [
    "X는 이제 -π에서 + π까지 (포함 된) 256개의 값을 갖는 배열입니다. C는 코사인 (256개)이고 S는 사인 (256개)입니다.\n",
    "\n",
    "---\n",
    "### 기본값 사용\n",
    "Matplotlib에는 모든 종류의 속성을 사용자 정의 할 수 있는 일련의 기본 설정이 있습니다. matplotlib의 거의 모든 속성의 기본값들인 그림 크기 및 dpi, 선 너비, 색상 및 스타일, 축, 축 및 격자 속성, 텍스트 및 글꼴 속성 등을 제어할 수 있습니다. 대부분의 경우 matplotlib의 기본값은 좋습니다만 특정 경우 일부 속성을 수정해야 할 수 있습니다."
   ]
  },
  {
   "cell_type": "code",
   "execution_count": 21,
   "metadata": {},
   "outputs": [
    {
     "data": {
      "image/png": "[encoded data removed]",
      "text/plain": [
       "<matplotlib.figure.Figure at 0x1a55f0253c8>"
      ]
     },
     "metadata": {},
     "output_type": "display_data"
    }
   ],
   "source": [
    "import numpy as np\n",
    "import matplotlib.pyplot as plt\n",
    "\n",
    "X = np.linspace(-np.pi, np.pi, 256, endpoint=True)\n",
    "C, S = np.cos(X), np.sin(X)\n",
    "\n",
    "plt.plot(X, C)\n",
    "plt.plot(X, S)\n",
    "\n",
    "plt.show()"
   ]
  },
  {
   "cell_type": "markdown",
   "metadata": {},
   "source": [
    "아래 스크립트에서 플롯의 모양에 영향을 미치는 모든 그림 설정을 인스턴스화 (및 주석 처리)했습니다. 설정을 명시적으로 기본값으로 설정했지만, 바로 값을 수정하고 어떤 영향이 있는지 확인할 수 있습니다 (아래의 선 속성 및 선 스타일 참조)."
   ]
  },
  {
   "cell_type": "code",
   "execution_count": 37,
   "metadata": {},
   "outputs": [
    {
     "data": {
      "image/png": "[encoded data removed]",
      "text/plain": [
       "<matplotlib.figure.Figure at 0x1a55fd80940>"
      ]
     },
     "metadata": {},
     "output_type": "display_data"
    }
   ],
   "source": [
    "# Imports\n",
    "import numpy as np\n",
    "import matplotlib.pyplot as plt\n",
    "\n",
    "# 8x6 포인트, 인치당 80도트의 새 figure를 만든다.\n",
    "plt.close()\n",
    "plt.figure(figsize=(8,6), dpi=80)\n",
    "\n",
    "# 1x1 그리드의 서브플롯을 만든다.\n",
    "plt.subplot(111)\n",
    "\n",
    "X = np.linspace(-np.pi, np.pi, 256,endpoint=True)\n",
    "C,S = np.cos(X), np.sin(X)\n",
    "\n",
    "# 코사인 값을 1픽셀의 파란 연속선으로 그린다.\n",
    "plt.plot(X, C, color=\"blue\", linewidth=1.0, linestyle=\"-\")\n",
    "\n",
    "# 사인 값을 1픽셀의 초록 연속선으로 그린다.\n",
    "plt.plot(X, S, color=\"green\", linewidth=1.0, linestyle=\"-\")\n",
    "\n",
    "# x축 한계를 정한다.\n",
    "plt.xlim(-4.0, 4.0)\n",
    "\n",
    "# x축 틱을 정한다.\n",
    "plt.xticks(np.linspace(-4,4,9,endpoint=True))\n",
    "\n",
    "# y축 한계를 정한다.\n",
    "plt.ylim(-1.0, 1.0)\n",
    "\n",
    "# y축 틱을 정한다.\n",
    "plt.yticks(np.linspace(-1,1,5,endpoint=True))\n",
    "\n",
    "# 인치당 72도트의 그림을 저장한다.\n",
    "# savefig(\"../figures/exercice_2.png\",dpi=72)\n",
    "\n",
    "# 결과를 화면에서 확인한다.\n",
    "plt.show()"
   ]
  },
  {
   "cell_type": "markdown",
   "metadata": {},
   "source": [
    "### 색상 및 선폭 변경\n",
    "첫 번째 단계에서는 코사인을 파란색으로, 사인을 빨간색으로, 두 번째로 약간 더 두꺼운 선을 그려봅시다. 좀 더 가로로 길게 만들기 위해 그림 크기를 약간 변경합니다."
   ]
  },
  {
   "cell_type": "code",
   "execution_count": 36,
   "metadata": {},
   "outputs": [
    {
     "data": {
      "image/png": "[encoded data removed]",
      "text/plain": [
       "<matplotlib.figure.Figure at 0x1a56100e748>"
      ]
     },
     "metadata": {},
     "output_type": "display_data"
    }
   ],
   "source": [
    "plt.close()\n",
    "plt.figure(figsize=(10,6), dpi=80)\n",
    "plt.plot(X, C, color=\"blue\", linewidth=2.5, linestyle=\"-\")\n",
    "plt.plot(X, S, color=\"red\",  linewidth=2.5, linestyle=\"-\")\n",
    "plt.show()"
   ]
  },
  {
   "cell_type": "markdown",
   "metadata": {},
   "source": [
    "### 한계 설정\n",
    "그림의 현재 한계는 너무 빡빡하므로, 모든 데이터 포인트를 명확하게 보기 위해 약간 공간을 만들어 봅시다."
   ]
  },
  {
   "cell_type": "code",
   "execution_count": 34,
   "metadata": {
    "scrolled": true
   },
   "outputs": [
    {
     "data": {
      "image/png": "[encoded data removed]",
      "text/plain": [
       "<matplotlib.figure.Figure at 0x1a55f8fec50>"
      ]
     },
     "metadata": {},
     "output_type": "display_data"
    }
   ],
   "source": [
    "plt.xlim(X.min()*1.1, X.max()*1.1)\n",
    "plt.ylim(C.min()*1.1, C.max()*1.1)\n",
    "plt.show()"
   ]
  },
  {
   "cell_type": "markdown",
   "metadata": {},
   "source": [
    "### 틱 설정\n",
    "현재 틱은 사인 및 코사인에 흥미로운 값 (+/-π, +/-π/2)을 표시하지 않기 때문에 이상적이지 않습니다. 이 값만 표시되도록 변경합니다."
   ]
  },
  {
   "cell_type": "code",
   "execution_count": 27,
   "metadata": {},
   "outputs": [
    {
     "data": {
      "image/png": "[encoded data removed]",
      "text/plain": [
       "<matplotlib.figure.Figure at 0x1a55f98e470>"
      ]
     },
     "metadata": {},
     "output_type": "display_data"
    }
   ],
   "source": [
    "plt.xticks([-np.pi, -np.pi/2, 0, np.pi/2, np.pi])\n",
    "plt.yticks([-1, 0, +1])\n",
    "plt.show()"
   ]
  },
  {
   "cell_type": "markdown",
   "metadata": {},
   "source": [
    "### 틱 레이블 설정하기\n",
    "\n",
    "틱은 이제 올바르게 배치되지만 레이블은 그다지 명확하지 않습니다. 우리는 3.142가 π임을 추측 할 수 있지만 그것을 명확하게하는 것이 낫습니다. 눈금 값을 설정할 때 두 번째 인수 목록에 해당 레이블을 제공 할 수도 있습니다. 라벨의 멋진 렌더링을 위해 LaTeX를 사용합니다.\n",
    "\n"
   ]
  },
  {
   "cell_type": "code",
   "execution_count": 28,
   "metadata": {},
   "outputs": [
    {
     "data": {
      "image/png": "[encoded data removed]",
      "text/plain": [
       "<matplotlib.figure.Figure at 0x1a55f8fefd0>"
      ]
     },
     "metadata": {},
     "output_type": "display_data"
    }
   ],
   "source": [
    "plt.xticks([- np.pi, -np.pi / 2, 0, np.pi / 2, np.pi],\n",
    "        [r'$-\\pi$', r'$-\\pi/2$', r'$0$', r'$+\\pi/2$', r'$+\\pi$'])\n",
    "\n",
    "plt.yticks([- 1, 0, +1],\n",
    "        [r'$-1$', r'$0$', r'$+1$'])\n",
    "plt.show()"
   ]
  },
  {
   "cell_type": "markdown",
   "metadata": {},
   "source": [
    "### 스파인(spine) 옮기기\n",
    "\n",
    "스파인(spine)은 축 눈금을 연결하고 데이터 영역의 경계를 나타내는 선입니다. 임의의 위치에 배치할 수 있는데, 지금까지는 축의 경계에 있었습니다. 중간으로 옮기고 싶으므로 바꾸어 봅시다. 4개 (상단 / 하단 / 좌측 / 우측)가 있으므로, 색상을 none으로 설정하여 상단과 우측을 버리고 하단과 좌측을 데이터 공간 좌표에서 0으로 조정합니다.\n",
    "\n"
   ]
  },
  {
   "cell_type": "code",
   "execution_count": 29,
   "metadata": {},
   "outputs": [
    {
     "data": {
      "image/png": "[encoded data removed]",
      "text/plain": [
       "<matplotlib.figure.Figure at 0x1a55fd95550>"
      ]
     },
     "metadata": {},
     "output_type": "display_data"
    }
   ],
   "source": [
    "ax = plt.gca()\n",
    "ax.spines['right'].set_color('none')\n",
    "ax.spines['top'].set_color('none')\n",
    "ax.xaxis.set_ticks_position('bottom')\n",
    "ax.spines['bottom'].set_position(('data', 0))\n",
    "ax.yaxis.set_ticks_position('left')\n",
    "ax.spines['left'].set_position(('data', 0))\n",
    "plt.show()"
   ]
  },
  {
   "cell_type": "markdown",
   "metadata": {},
   "source": [
    "### 범례 추가하기\n",
    "\n",
    "왼쪽 상단 모서리에 범례를 추가합시다. 이는 플롯 명령에 키워드 인수 레이블 (범례 상자에서 사용됨)을 추가하기 만하면됩니다."
   ]
  },
  {
   "cell_type": "code",
   "execution_count": 30,
   "metadata": {},
   "outputs": [
    {
     "data": {
      "image/png": "[encoded data removed]",
      "text/plain": [
       "<matplotlib.figure.Figure at 0x1a55f9f52e8>"
      ]
     },
     "metadata": {},
     "output_type": "display_data"
    }
   ],
   "source": [
    "plt.plot(X, C, color=\"blue\", linewidth=2.5, linestyle=\"-\", label=\"cosine\")\n",
    "plt.plot(X, S, color=\"red\",  linewidth=2.5, linestyle=\"-\", label=\"sine\")\n",
    "\n",
    "plt.legend(loc='upper left', frameon=False)\n",
    "plt.show()"
   ]
  },
  {
   "cell_type": "markdown",
   "metadata": {},
   "source": [
    "### 몇 가지 주석 달기\n",
    "annotate 명령을 사용하여 흥미로운 점에 주석을 달아 봅시다. 2π/3 값을 선택해서 사인과 코사인 모두에 주석을 달아봅시다.처음에는 직선의 점선뿐만 아니라 곡선에 마커를 그립니다. 그런 다음 annotate 명령을 사용하여 화살표가 있는 텍스트를 표시합니다.\n",
    "\n"
   ]
  },
  {
   "cell_type": "code",
   "execution_count": 51,
   "metadata": {},
   "outputs": [
    {
     "data": {
      "image/png": "[encoded data removed]",
      "text/plain": [
       "<matplotlib.figure.Figure at 0x1a55f9f5ef0>"
      ]
     },
     "metadata": {},
     "output_type": "display_data"
    }
   ],
   "source": [
    "t = 2*np.pi/3\n",
    "plt.plot([t,t], [0,np.cos(t)], color ='blue', linewidth=1.5, linestyle=\"--\")\n",
    "plt.scatter([t,], [np.cos(t),], 50, color ='blue')\n",
    "\n",
    "plt.annotate(r'$\\sin(\\frac{2\\pi}{3})=\\frac{\\sqrt{3}}{2}$',\n",
    "             xy=(t, np.sin(t)), xycoords='data',\n",
    "             xytext=(+10, +30), textcoords='offset points', fontsize=16,\n",
    "             arrowprops=dict(arrowstyle=\"->\", connectionstyle=\"arc3,rad=.2\"))\n",
    "\n",
    "plt.plot([t,t], [0,np.sin(t)], color ='red', linewidth=1.5, linestyle=\"--\")\n",
    "plt.scatter([t,], [np.sin(t),], 50, color ='red')\n",
    "\n",
    "plt.annotate(r'$\\cos(\\frac{2\\pi}{3})=-\\frac{1}{2}$',\n",
    "             xy=(t, np.cos(t)), xycoords='data',\n",
    "             xytext=(-90, -50), textcoords='offset points', fontsize=16,\n",
    "             arrowprops=dict(arrowstyle=\"->\", connectionstyle=\"arc3,rad=.2\"))\n",
    "plt.show()"
   ]
  },
  {
   "cell_type": "markdown",
   "metadata": {},
   "source": [
    "### 악마는 디테일에 있다\n",
    "\n",
    "틱 레이블은 파란색과 빨간색 선으로 인해 거의 보이지 않습니다. 레이블을 더 크게 만들 수 있고 반투명 한 흰색 바탕에 그 속성들이 표현되도록 속성을 조정할 수 있습니다. 이렇게하면 데이터와 라벨을 모두 볼 수 있습니다.\n",
    "\n",
    "\n"
   ]
  },
  {
   "cell_type": "code",
   "execution_count": 52,
   "metadata": {
    "collapsed": true
   },
   "outputs": [],
   "source": [
    "for label in ax.get_xticklabels() + ax.get_yticklabels():\n",
    "    label.set_fontsize(16)\n",
    "    label.set_bbox(dict(facecolor='white', edgecolor='None', alpha=0.65 ))\n",
    "plt.show()"
   ]
  },
  {
   "cell_type": "markdown",
   "metadata": {},
   "source": [
    "### figures, subplots, axes 및 ticks\n",
    "\n",
    "지금까지는 암묵적으로 정해져 있는 그림과 축 생성을 사용했습니다. 이는 빠르게 그래프를 그릴 때 유용합니다. figure, subplot 및 axes를 명시적으로 사용하여 디스플레이를 보다 잘 제어 할 수 있습니다. matplotlib의 figure는 사용자 인터페이스의 전체 창을 의미합니다. 이 figure에는 하위 그림이 있을 수 있습니다. subplot은 플롯을 일반 그리드에 배치하지만 축은 그림 내에서 자유 배치를 허용합니다. 둘 다 의도에 따라 유용할 수 있습니다. 우리는 이미 명시적으로 호출하지 않고도 그림 및 하위 그림으로 작업해 보았습니다. plot을 호출하면 matplotlib은 gca()를 호출하여 현재 축을 가져오고, gca는 차례대로 gcf()를 호출하여 현재 그림을 가져옵니다. 아무것도 없으면 figure()를 호출하여 엄밀히 말하면 subplot(111)을 만듭니다. 세부 사항을 살펴 봅시다."
   ]
  },
  {
   "cell_type": "markdown",
   "metadata": {},
   "source": [
    "### 피겨(figure)\n",
    "피겨는 GUI에서 \"figure #\" 제목 인 창입니다. 숫자는 0부터 시작하는 일반적인 파이썬 방법과는 다르게 1부터 시작하여 번호가 매겨집니다. 분명히 MATLAB 스타일입니다. 그림의 모양을 결정하는 몇 가지 매개 변수가 있습니다.\n",
    "\n",
    "---\n",
    "\n",
    "매개변수\t기본값\t설명\n",
    "num\t1\t그림의 숫자\n",
    "figsize\tfigure.figsize\t인치 단위의 그림 크기 (너비, 높이)\n",
    "dpi\tfigure.dpi\t인치 당 도트 수\n",
    "facecolor\tfigure.facecolor\t그림 배경의 색\n",
    "edgecolor\tfigure.edgecolor\t드로잉 배경 주위의 가장자리 색\n",
    "frameon\tTrue\t그림 프레임 그리기 여부\n",
    "\n",
    "---\n",
    "\n",
    "기본값은 리소스 파일에 지정 될 수 있으며 대부분의 시간동안 사용됩니다. figure의 숫자만 자주 변경됩니다.\n",
    "\n",
    "GUI로 작업 할 때 오른쪽 상단의 x를 클릭하여 그림을 닫을 수 있습니다. 그러나 close를 호출하여 프로그래밍 방식으로 도형을 닫을 수 있습니다. 인수에 따라 (1) 현재 숫자 (인수 없음), (2) 특정 숫자 (그림 숫자 또는 인수 인스턴스) 또는 (3) 모든 숫자 (모두 인수로)를 닫습니다.\n",
    "\n",
    "다른 객체와 마찬가지로 set_something 메소드를 사용하여 Figure 속성을 설정할 수 있습니다."
   ]
  },
  {
   "cell_type": "markdown",
   "metadata": {},
   "source": [
    "### 서브 플롯(subplot)\n",
    "서브 플롯을 사용하면 일반 격자에 플롯을 정렬 할 수 있습니다. 행과 열의 수와 플롯의 수를 지정해야합니다. gridspec 명령은 더 강력한 대안입니다.\n",
    "\n",
    "### 축(axes)\n",
    "축은 서브 플롯과 매우 유사하지만 피겨의 어느 위치 에나 그림을 배치 할 수 있습니다. 작은 그림을 큰 그림 안에 넣고 싶다면 축을 사용하십시오.\n",
    "\n",
    "### 틱\n",
    "잘 형식화 된 틱은 출판에 적합한 피겨에서 중요한 부분입니다. Matplotlib은 틱에 대해 완전히 자유롭게 구성 가능한 시스템을 제공합니다. 틱이 나타날 위치를 지정하고 포매터가 원하는 모양을 틱하도록 틱 위치 지정자가 있습니다. 주 눈금과 부 눈금은 서로 독립적으로 위치 및 서식을 지정할 수 있습니다. 기본 작은 틱은 표시되지 않습니다. 즉, NullLocator (아래 참조)이므로 빈 목록 만 있습니다.\n",
    "\n",
    "### 틱 로케이터\n",
    "서로 다른 종류의 요구에 맞는 여러 로케이터가 있습니다.\n",
    "\n",
    "분류\t설명\n",
    "NullLocator\t틱 없음\n",
    "IndexLocator\tPlace a tick on every multiple of some base number of points plotted.\n",
    "FixedLocator\t틱 위치가 고정됩니다.\n",
    "LinearLocator\t틱 위치를 결정합니다.\n",
    "MultipleLocator\t특정 자릿수의 배수인 정수에 틱을 표시합니다.\n",
    "AutoLocator\tn 번 이내에서 좋은 위치를 선택합니다.\n",
    "LogLocator\t로그 축에 따라 틱의 위치를 결정합니다.\n",
    "\n",
    "이 모든 로케이터는 기본 클래스 matplotlib.ticker.Locator에서 파생됩니다. 자신만의 로케이터도 파생시킬 수 있습니다. 틱으로 날짜를 처리하는 것은 특히 까다롭습니다. 그래서 matplotlib은 matplotlib.dates에 특별한 로케이터를 제공합니다.\n",
    "\n",
    "### 애니메이션\n",
    "오랜 시간 동안 matplotlib의 애니메이션은 쉬운 작업이 아니며 주로 영리한 해킹을 통해 수행되었습니다. 그러나 버전 1.1부터 매우 직관적으로 애니메이션을 제작할 수있는 도구가 등장하여 모든 종류의 형식으로 저장할 수있게 되었습니다 (하지만 60fps에서 매우 복잡한 애니메이션을 실행할 수 있을 것으로 기대하지는 않습니다).\n",
    "\n",
    "matplotlib에서 애니메이션을 만드는 가장 쉬운 방법은 matplotlib에 업데이트 할 그림, 업데이트 함수 및 프레임 사이의 지연을 지정하는 FuncAnimation 객체를 선언하는 것입니다."
   ]
  },
  {
   "cell_type": "markdown",
   "metadata": {},
   "source": [
    "### 비내리기\n",
    "매우 단순한 비 효과는 그림 위에 작은 성장 고리를 무작위로 배치함으로써 얻을 수 있습니다. 물론, 파도가 시간이 지남에 따라 가라않기 때문에 그들은 영원히 성장하지 않을 것입니다. 비 효과를 시뮬레이트하기 위해 링이 성장함에 따라 더 이상 보이지 않는 지점까지 점점 더 투명한 색을 사용할 수 있습니다. 이 시점에서 링을 제거하고 새 링을 만듭니다.\n",
    "\n",
    "첫 번째 단계는 빈 그림을 만드는 것입니다."
   ]
  },
  {
   "cell_type": "code",
   "execution_count": 54,
   "metadata": {
    "collapsed": true
   },
   "outputs": [],
   "source": [
    "from matplotlib.animation import FuncAnimation\n",
    "\n",
    "plt.close()\n",
    "# 하얀 배경의 새 그림을 만듭니다.\n",
    "fig = plt.figure(figsize=(6,6), facecolor='white')\n",
    "\n",
    "# 전체 그림에 걸쳐 축을 추가하며 프레임은 없고 비율은 1대1입니다.\n",
    "ax = fig.add_axes([0,0,1,1], frameon=False, aspect=1)"
   ]
  },
  {
   "cell_type": "markdown",
   "metadata": {},
   "source": [
    "다음으로 여러 개의 링을 만들어야합니다. 이를 위해 우리는 일반적으로 포인트들을 시각화하는 데 사용하는 스캐터 플롯 (산점도) 객체를 사용할 수 있지만, facecolor 가 없도록 지정해서 링을 그릴 수도 있습니다. 또한 최소 크기와 최대 크기 사이의 모든 크기가 있으면서 가장 큰 링은 거의 투명하도록 각 링의 초기 크기와 색상을 지정해야합니다."
   ]
  },
  {
   "cell_type": "code",
   "execution_count": 55,
   "metadata": {},
   "outputs": [
    {
     "data": {
      "image/png": "[encoded data removed]",
      "text/plain": [
       "<matplotlib.figure.Figure at 0x1a55f960588>"
      ]
     },
     "metadata": {},
     "output_type": "display_data"
    }
   ],
   "source": [
    "# 링 갯수\n",
    "n = 50\n",
    "size_min = 50\n",
    "size_max = 50*50\n",
    "\n",
    "# 링 위치\n",
    "P = np.random.uniform(0,1,(n,2))\n",
    "\n",
    "# 링 색상\n",
    "C = np.ones((n,4)) * (0,0,0,1)\n",
    "# Alpha color channel goes from 0 (transparent) to 1 (opaque)\n",
    "C[:,3] = np.linspace(0,1,n)\n",
    "\n",
    "# 링 크기\n",
    "S = np.linspace(size_min, size_max, n)\n",
    "\n",
    "# 스캐터 플롯\n",
    "scat = ax.scatter(P[:,0], P[:,1], s=S, lw = 0.5,\n",
    "                  edgecolors = C, facecolors='None')\n",
    "\n",
    "# [0,1] 로 축 한계를 지정하고 틱을 없애기\n",
    "ax.set_xlim(0,1), ax.set_xticks([])\n",
    "ax.set_ylim(0,1), ax.set_yticks([])\n",
    "plt.show()"
   ]
  },
  {
   "cell_type": "markdown",
   "metadata": {},
   "source": [
    "이제 애니메이션을 위한 업데이트 함수를 작성해야합니다. 각 시간 간격마다 각 고리가 더 투명해져야하며 큰 고리는 완전히 투명해지고 없어져야 합니다. 물론, 실제로 가장 큰 링을 제거하는 대신 새로운 임의의 위치에서 아주 작은 크기와 색상의 새 링으로 재사용합니다. 따라서 링의 수가 일정하게 유지됩니다."
   ]
  },
  {
   "cell_type": "code",
   "execution_count": null,
   "metadata": {
    "collapsed": true
   },
   "outputs": [],
   "source": [
    "def update(frame):\n",
    "    global P, C, S\n",
    "\n",
    "    # 모든 링들이 조금 더 투명해짐\n",
    "    C[:,3] = np.maximum(0, C[:,3] - 1.0/n)\n",
    "\n",
    "    # 각 링이 조금 커짐\n",
    "    S += (size_max - size_min) / n\n",
    "\n",
    "    # 프레임 번호에 따라 링을 리셋함\n",
    "    i = frame % 50\n",
    "    P[i] = np.random.uniform(0,1,2)\n",
    "    S[i] = size_min\n",
    "    C[i,3] = 1\n",
    "\n",
    "    # 스캐터 객체 업데이트\n",
    "    scat.set_edgecolors(C)\n",
    "    scat.set_sizes(S)\n",
    "    scat.set_offsets(P)\n",
    "\n",
    "    # 수정한 오브젝트를 리턴한다\n",
    "    return scat,"
   ]
  },
  {
   "cell_type": "markdown",
   "metadata": {},
   "source": [
    "마지막 단계는 이 함수를 애니메이션의 업데이트 함수로 사용하여 결과를 표시하거나 동영상으로 저장하도록 matplotlib에 지시하는 것입니다."
   ]
  },
  {
   "cell_type": "code",
   "execution_count": null,
   "metadata": {
    "collapsed": true
   },
   "outputs": [],
   "source": [
    "animation = FuncAnimation(fig, update, interval=10, blit=True, frames=200)\n",
    "# animation.save('rain.gif', writer='imagemagick', fps=30, dpi=40)\n",
    "plt.show()"
   ]
  },
  {
   "cell_type": "markdown",
   "metadata": {},
   "source": [
    "---\n",
    "### 지진\n",
    "\n",
    "비 애니메이션을 사용하여 지난 30일 동안 지구에서 일어난 지진을 시각화합니다. USGS 지진 재해 프로그램은 국가 지진 재해 감소 프로그램 (NEHRP)의 일환으로 웹사이트에서 여러 데이터를 제공합니다. 이러한 데이터는 지진의 크기에 따라 정렬되며, 주요 지진부터 작은 지진까지 모두 담고 있습니다. 지구에서 매 시간마다 일어나는 경미한 지진의 횟수에 놀랄 것입니다. 이것이 너무 많은 데이터이므로, 우리는 > 4.5 크기의 지진만을 사용하겠습니다. 글을 쓰는 시점에서, 이미 지난 30 일 동안 300 건 이상의 지진을 표시하고 있습니다.\n",
    "\n",
    "첫 번째 단계는 데이터를 읽고 변환하는 것입니다. 우리는 원격 데이터를 열고 읽을 수있는 urllib 라이브러리를 사용할 것입니다. 웹 사이트의 데이터는 첫 번째 줄에 내용이 제공되는 CSV 형식을 사용합니다."
   ]
  },
  {
   "cell_type": "raw",
   "metadata": {},
   "source": [
    "time,latitude,longitude,depth,mag,magType,nst,gap,dmin,rms,net,id,updated,place,type\n",
    "2015-08-17T13:49:17.320Z,37.8365,-122.2321667,4.82,4.01,mw,...\n",
    "2015-08-15T07:47:06.640Z,-10.9045,163.8766,6.35,6.6,mwp,..."
   ]
  },
  {
   "cell_type": "markdown",
   "metadata": {},
   "source": [
    "우리는 위도, 경도 및 크기에만 관심이 있으며 사건의 시간은 분석하지 않겠습니다. (네. 아쉽죠. 풀 리퀘스트를 보내주세요.)\n",
    "\n"
   ]
  },
  {
   "cell_type": "code",
   "execution_count": 56,
   "metadata": {},
   "outputs": [
    {
     "ename": "ImportError",
     "evalue": "No module named 'mpl_toolkits.basemap'",
     "output_type": "error",
     "traceback": [
      "\u001b[1;31m---------------------------------------------------------------------------\u001b[0m",
      "\u001b[1;31mImportError\u001b[0m                               Traceback (most recent call last)",
      "\u001b[1;32m<ipython-input-56-19ae8ed41869>\u001b[0m in \u001b[0;36m<module>\u001b[1;34m()\u001b[0m\n\u001b[0;32m      1\u001b[0m \u001b[1;32mimport\u001b[0m \u001b[0murllib\u001b[0m\u001b[1;33m\u001b[0m\u001b[0m\n\u001b[1;32m----> 2\u001b[1;33m \u001b[1;32mfrom\u001b[0m \u001b[0mmpl_toolkits\u001b[0m\u001b[1;33m.\u001b[0m\u001b[0mbasemap\u001b[0m \u001b[1;32mimport\u001b[0m \u001b[0mBasemap\u001b[0m\u001b[1;33m\u001b[0m\u001b[0m\n\u001b[0m\u001b[0;32m      3\u001b[0m \u001b[1;33m\u001b[0m\u001b[0m\n\u001b[0;32m      4\u001b[0m \u001b[1;31m# -> http://earthquake.usgs.gov/earthquakes/feed/v1.0/csv.php\u001b[0m\u001b[1;33m\u001b[0m\u001b[1;33m\u001b[0m\u001b[0m\n\u001b[0;32m      5\u001b[0m \u001b[0mfeed\u001b[0m \u001b[1;33m=\u001b[0m \u001b[1;34m\"http://earthquake.usgs.gov/earthquakes/feed/v1.0/summary/\"\u001b[0m\u001b[1;33m\u001b[0m\u001b[0m\n",
      "\u001b[1;31mImportError\u001b[0m: No module named 'mpl_toolkits.basemap'"
     ]
    }
   ],
   "source": [
    "import urllib\n",
    "from mpl_toolkits.basemap import Basemap\n",
    "\n",
    "# -> http://earthquake.usgs.gov/earthquakes/feed/v1.0/csv.php\n",
    "feed = \"http://earthquake.usgs.gov/earthquakes/feed/v1.0/summary/\"\n",
    "\n",
    "# Significant earthquakes in the last 30 days\n",
    "# url = urllib.request.urlopen(feed + \"significant_month.csv\")\n",
    "\n",
    "# Magnitude > 4.5\n",
    "url = urllib.request.urlopen(feed + \"4.5_month.csv\")\n",
    "\n",
    "# Magnitude > 2.5\n",
    "# url = urllib.request.urlopen(feed + \"2.5_month.csv\")\n",
    "\n",
    "# Magnitude > 1.0\n",
    "# url = urllib.request.urlopen(feed + \"1.0_month.csv\")\n",
    "\n",
    "# Reading and storage of data\n",
    "data = url.read()\n",
    "data = data.split(b'\\n')[+1:-1]\n",
    "E = np.zeros(len(data), dtype=[('position',  float, 2),\n",
    "                               ('magnitude', float, 1)])\n",
    "\n",
    "for i in range(len(data)):\n",
    "    row = data[i].split(',')\n",
    "    E['position'][i] = float(row[2]),float(row[1])\n",
    "    E['magnitude'][i] = float(row[4])"
   ]
  },
  {
   "cell_type": "markdown",
   "metadata": {},
   "source": [
    "이제 지진의 중심을 정확히 보여주고 matplotlib이 처리 할 수있는 좌표의 위도 / 경도를 번역하기 위해 그림에 지구를 그려야합니다. 다행스럽게도, 설치 및 사용이 매우 간편한 기본 맵 프로젝트 (보다 완벽한 cartopy 로 대체되는 경향이 있음)가 있습니다. 첫 번째 단계는 스크린에 지구를 그리는 투영법을 정의하는 것입니다 (많은 다른 투영법이 존재합니다). 그리고 저는 우리 같은 비 전문가를위한 표준인 밀 프로젝션을 사용할 것입니다.\n",
    "\n"
   ]
  },
  {
   "cell_type": "code",
   "execution_count": null,
   "metadata": {
    "collapsed": true
   },
   "outputs": [],
   "source": [
    "fig = plt.figure(figsize=(14,10))\n",
    "ax = plt.subplot(1,1,1)\n",
    "\n",
    "earth = Basemap(projection='mill')"
   ]
  },
  {
   "cell_type": "markdown",
   "metadata": {},
   "source": [
    "다음으로 우리는 해안선을 그리고 대륙을 채우겠습니다.\n",
    "\n"
   ]
  },
  {
   "cell_type": "code",
   "execution_count": null,
   "metadata": {
    "collapsed": true
   },
   "outputs": [],
   "source": [
    "earth.drawcoastlines(color='0.50', linewidth=0.25)\n",
    "earth.fillcontinents(color='0.95')"
   ]
  },
  {
   "cell_type": "markdown",
   "metadata": {},
   "source": [
    "지구 객체는 좌표를 자동으로 변환하는 데에도 사용됩니다. 거의 끝났습니다. 마지막 단계는 비 코드를 적용하고 눈요기를 하는겁니다.\n",
    "\n"
   ]
  },
  {
   "cell_type": "code",
   "execution_count": null,
   "metadata": {
    "collapsed": true
   },
   "outputs": [],
   "source": [
    "P = np.zeros(50, dtype=[('position', float, 2),\n",
    "                         ('size',     float, 1),\n",
    "                         ('growth',   float, 1),\n",
    "                         ('color',    float, 4)])\n",
    "scat = ax.scatter(P['position'][:,0], P['position'][:,1], P['size'], lw=0.5,\n",
    "                  edgecolors = P['color'], facecolors='None', zorder=10)\n",
    "\n",
    "def update(frame):\n",
    "    current = frame % len(E)\n",
    "    i = frame % len(P)\n",
    "\n",
    "    P['color'][:,3] = np.maximum(0, P['color'][:,3] - 1.0/len(P))\n",
    "    P['size'] += P['growth']\n",
    "\n",
    "    magnitude = E['magnitude'][current]\n",
    "    P['position'][i] = earth(*E['position'][current])\n",
    "    P['size'][i] = 5\n",
    "    P['growth'][i]= np.exp(magnitude) * 0.1\n",
    "\n",
    "    if magnitude < 6:\n",
    "        P['color'][i]    = 0,0,1,1\n",
    "    else:\n",
    "        P['color'][i]    = 1,0,0,1\n",
    "    scat.set_edgecolors(P['color'])\n",
    "    scat.set_facecolors(P['color']*(1,1,1,0.25))\n",
    "    scat.set_sizes(P['size'])\n",
    "    scat.set_offsets(P['position'])\n",
    "    return scat,\n",
    "\n",
    "animation = FuncAnimation(fig, update, interval=10)\n",
    "plt.show()"
   ]
  },
  {
   "cell_type": "markdown",
   "metadata": {},
   "source": [
    "### 다른 유형의 플롯\n",
    "\n"
   ]
  },
  {
   "cell_type": "code",
   "execution_count": 98,
   "metadata": {},
   "outputs": [
    {
     "data": {
      "image/png": "[encoded data removed]",
      "text/plain": [
       "<matplotlib.figure.Figure at 0x1a561609fd0>"
      ]
     },
     "metadata": {},
     "output_type": "display_data"
    }
   ],
   "source": [
    "import numpy as np\n",
    "import matplotlib.pyplot as plt\n",
    "plt.close()\n",
    "\n",
    "n = 256\n",
    "X = np.linspace(-np.pi,np.pi,n,endpoint=True)\n",
    "Y = np.sin(2*X)\n",
    "plt.fill_between(X, 1, Y+1, color='blue', alpha=.25)\n",
    "plt.plot (X, Y+1, color='blue', alpha=1.00)\n",
    "\n",
    "plt.fill_between(X, -1, Y-1, (Y-1) > -1, color='blue', alpha=.25)\n",
    "plt.fill_between(X, -1, Y-1, (Y-1) < -1, color='red', alpha=.25)\n",
    "\n",
    "plt.plot (X, Y-1, color='blue', alpha=1.00)\n",
    "plt.show()"
   ]
  },
  {
   "cell_type": "markdown",
   "metadata": {},
   "source": [
    "### 스캐터 플롯(산포도)\n",
    "아래 코드에서 시작하여 마커 크기, 색상 및 투명도를 고려하여 그래픽을 재현 해보십시오."
   ]
  },
  {
   "cell_type": "code",
   "execution_count": 104,
   "metadata": {},
   "outputs": [
    {
     "data": {
      "text/plain": [
       "<matplotlib.collections.PathCollection at 0x1a561547a90>"
      ]
     },
     "execution_count": 104,
     "metadata": {},
     "output_type": "execute_result"
    },
    {
     "data": {
      "image/png": "[encoded data removed]",
      "text/plain": [
       "<matplotlib.figure.Figure at 0x1a561435eb8>"
      ]
     },
     "metadata": {},
     "output_type": "display_data"
    }
   ],
   "source": [
    "%matplotlib inline\n",
    "import numpy as np\n",
    "import matplotlib.pyplot as plt\n",
    "plt.close()\n",
    "\n",
    "n = 1024\n",
    "X = np.random.normal(0,1,n)\n",
    "Y = np.random.normal(0,1,n)\n",
    "\n",
    "plt.scatter(X,Y)"
   ]
  },
  {
   "cell_type": "markdown",
   "metadata": {},
   "source": [
    "힌트: 색상은 (X, Y)의 각도로 표시됩니다."
   ]
  },
  {
   "cell_type": "markdown",
   "metadata": {},
   "source": [
    "### 바 플롯\n",
    "아래 코드에서 시작하여 빨간색 막대의 레이블을 추가하여 그래픽을 재현 해보십시오."
   ]
  },
  {
   "cell_type": "code",
   "execution_count": 105,
   "metadata": {},
   "outputs": [
    {
     "data": {
      "image/png": "[encoded data removed]",
      "text/plain": [
       "<matplotlib.figure.Figure at 0x1a56148e5c0>"
      ]
     },
     "metadata": {},
     "output_type": "display_data"
    }
   ],
   "source": [
    "import numpy as np\n",
    "import matplotlib.pyplot as plt\n",
    "plt.close()\n",
    "\n",
    "n = 12\n",
    "X = np.arange(n)\n",
    "Y1 = (1-X/float(n)) * np.random.uniform(0.5,1.0,n)\n",
    "Y2 = (1-X/float(n)) * np.random.uniform(0.5,1.0,n)\n",
    "\n",
    "plt.bar(X, +Y1, facecolor='#9999ff', edgecolor='white')\n",
    "plt.bar(X, -Y2, facecolor='#ff9999', edgecolor='white')\n",
    "\n",
    "for x,y in zip(X,Y1):\n",
    "    plt.text(x+0.4, y+0.05, '%.2f' % y, ha='center', va= 'bottom')\n",
    "\n",
    "plt.ylim(-1.25,+1.25)\n",
    "plt.show()"
   ]
  },
  {
   "cell_type": "markdown",
   "metadata": {},
   "source": [
    "### 칸토어 플롯\n"
   ]
  },
  {
   "cell_type": "code",
   "execution_count": 106,
   "metadata": {},
   "outputs": [
    {
     "data": {
      "image/png": "[encoded data removed]",
      "text/plain": [
       "<matplotlib.figure.Figure at 0x1a5615a83c8>"
      ]
     },
     "metadata": {},
     "output_type": "display_data"
    }
   ],
   "source": [
    "import numpy as np\n",
    "import matplotlib.pyplot as plt\n",
    "plt.close()\n",
    "\n",
    "def f(x,y): return (1-x/2+x**5+y**3)*np.exp(-x**2-y**2)\n",
    "\n",
    "n = 256\n",
    "x = np.linspace(-3,3,n)\n",
    "y = np.linspace(-3,3,n)\n",
    "X,Y = np.meshgrid(x,y)\n",
    "\n",
    "plt.contourf(X, Y, f(X,Y), 8, alpha=.75, cmap='jet')\n",
    "C = plt.contour(X, Y, f(X,Y), 8, colors='black', linewidth=.5)\n",
    "plt.show()"
   ]
  },
  {
   "cell_type": "markdown",
   "metadata": {},
   "source": [
    "### lmshow"
   ]
  },
  {
   "cell_type": "code",
   "execution_count": 107,
   "metadata": {},
   "outputs": [
    {
     "data": {
      "image/png": "[encoded data removed]",
      "text/plain": [
       "<matplotlib.figure.Figure at 0x1a5616b4668>"
      ]
     },
     "metadata": {},
     "output_type": "display_data"
    }
   ],
   "source": [
    "import numpy as np\n",
    "import matplotlib.pyplot as plt\n",
    "plt.close()\n",
    "\n",
    "def f(x,y): return (1-x/2+x**5+y**3)*np.exp(-x**2-y**2)\n",
    "\n",
    "n = 10\n",
    "x = np.linspace(-3,3,4*n)\n",
    "y = np.linspace(-3,3,3*n)\n",
    "X,Y = np.meshgrid(x,y)\n",
    "\n",
    "plt.imshow(f(X,Y))\n",
    "plt.show()"
   ]
  },
  {
   "cell_type": "markdown",
   "metadata": {},
   "source": [
    "힌트: imshow 명령에서 이미지의 origin을 처리하고 colorbar를 사용해야합니다."
   ]
  },
  {
   "cell_type": "markdown",
   "metadata": {},
   "source": [
    "파이 차트"
   ]
  },
  {
   "cell_type": "code",
   "execution_count": 108,
   "metadata": {},
   "outputs": [
    {
     "data": {
      "image/png": "[encoded data removed]",
      "text/plain": [
       "<matplotlib.figure.Figure at 0x1a561481908>"
      ]
     },
     "metadata": {},
     "output_type": "display_data"
    }
   ],
   "source": [
    "import numpy as np\n",
    "import matplotlib.pyplot as plt\n",
    "\n",
    "plt.close()\n",
    "\n",
    "n = 20\n",
    "Z = np.random.uniform(0,1,n)\n",
    "plt.pie(Z)\n",
    "plt.show()"
   ]
  },
  {
   "cell_type": "code",
   "execution_count": 109,
   "metadata": {},
   "outputs": [
    {
     "data": {
      "image/png": "[encoded data removed]",
      "text/plain": [
       "<matplotlib.figure.Figure at 0x1a5611c5748>"
      ]
     },
     "metadata": {},
     "output_type": "display_data"
    }
   ],
   "source": [
    "import numpy as np\n",
    "import matplotlib.pyplot as plt\n",
    "plt.close()\n",
    "\n",
    "n = 8\n",
    "X,Y = np.mgrid[0:n,0:n]\n",
    "plt.quiver(X,Y)\n",
    "plt.show()"
   ]
  },
  {
   "cell_type": "code",
   "execution_count": 110,
   "metadata": {},
   "outputs": [
    {
     "data": {
      "image/png": "[encoded data removed]",
      "text/plain": [
       "<matplotlib.figure.Figure at 0x1a5611c5860>"
      ]
     },
     "metadata": {},
     "output_type": "display_data"
    }
   ],
   "source": [
    "import numpy as np\n",
    "import matplotlib.pyplot as plt\n",
    "plt.close()\n",
    "\n",
    "plt.subplot(2,2,1)\n",
    "plt.subplot(2,2,3)\n",
    "plt.subplot(2,2,4)\n",
    "\n",
    "plt.show()"
   ]
  },
  {
   "cell_type": "code",
   "execution_count": 111,
   "metadata": {},
   "outputs": [
    {
     "ename": "NameError",
     "evalue": "name 'cm' is not defined",
     "output_type": "error",
     "traceback": [
      "\u001b[1;31m---------------------------------------------------------------------------\u001b[0m",
      "\u001b[1;31mNameError\u001b[0m                                 Traceback (most recent call last)",
      "\u001b[1;32m<ipython-input-111-320994e0aae2>\u001b[0m in \u001b[0;36m<module>\u001b[1;34m()\u001b[0m\n\u001b[0;32m     12\u001b[0m \u001b[1;33m\u001b[0m\u001b[0m\n\u001b[0;32m     13\u001b[0m \u001b[1;32mfor\u001b[0m \u001b[0mr\u001b[0m\u001b[1;33m,\u001b[0m\u001b[0mbar\u001b[0m \u001b[1;32min\u001b[0m \u001b[0mzip\u001b[0m\u001b[1;33m(\u001b[0m\u001b[0mradii\u001b[0m\u001b[1;33m,\u001b[0m \u001b[0mbars\u001b[0m\u001b[1;33m)\u001b[0m\u001b[1;33m:\u001b[0m\u001b[1;33m\u001b[0m\u001b[0m\n\u001b[1;32m---> 14\u001b[1;33m     \u001b[0mbar\u001b[0m\u001b[1;33m.\u001b[0m\u001b[0mset_facecolor\u001b[0m\u001b[1;33m(\u001b[0m \u001b[0mcm\u001b[0m\u001b[1;33m.\u001b[0m\u001b[0mjet\u001b[0m\u001b[1;33m(\u001b[0m\u001b[0mr\u001b[0m\u001b[1;33m/\u001b[0m\u001b[1;36m10.\u001b[0m\u001b[1;33m)\u001b[0m\u001b[1;33m)\u001b[0m\u001b[1;33m\u001b[0m\u001b[0m\n\u001b[0m\u001b[0;32m     15\u001b[0m     \u001b[0mbar\u001b[0m\u001b[1;33m.\u001b[0m\u001b[0mset_alpha\u001b[0m\u001b[1;33m(\u001b[0m\u001b[1;36m0.5\u001b[0m\u001b[1;33m)\u001b[0m\u001b[1;33m\u001b[0m\u001b[0m\n\u001b[0;32m     16\u001b[0m \u001b[1;33m\u001b[0m\u001b[0m\n",
      "\u001b[1;31mNameError\u001b[0m: name 'cm' is not defined"
     ]
    },
    {
     "data": {
      "image/png": "[encoded data removed]",
      "text/plain": [
       "<matplotlib.figure.Figure at 0x1a561580080>"
      ]
     },
     "metadata": {},
     "output_type": "display_data"
    }
   ],
   "source": [
    "import numpy as np\n",
    "import matplotlib.pyplot as plt\n",
    "plt.close()\n",
    "\n",
    "plt.axes([0,0,1,1])\n",
    "\n",
    "N = 20\n",
    "theta = np.arange(0.0, 2*np.pi, 2*np.pi/N)\n",
    "radii = 10*np.random.rand(N)\n",
    "width = np.pi/4*np.random.rand(N)\n",
    "bars = plt.bar(theta, radii, width=width, bottom=0.0)\n",
    "\n",
    "for r,bar in zip(radii, bars):\n",
    "    bar.set_facecolor( cm.jet(r/10.))\n",
    "    bar.set_alpha(0.5)\n",
    "\n",
    "plt.show()"
   ]
  },
  {
   "cell_type": "code",
   "execution_count": 112,
   "metadata": {},
   "outputs": [
    {
     "data": {
      "image/png": "[encoded data removed]",
      "text/plain": [
       "<matplotlib.figure.Figure at 0x1a5614336a0>"
      ]
     },
     "metadata": {},
     "output_type": "display_data"
    }
   ],
   "source": [
    "import numpy as np\n",
    "import matplotlib.pyplot as plt\n",
    "from mpl_toolkits.mplot3d import Axes3D\n",
    "plt.close()\n",
    "\n",
    "fig = plt.figure()\n",
    "ax = Axes3D(fig)\n",
    "X = np.arange(-4, 4, 0.25)\n",
    "Y = np.arange(-4, 4, 0.25)\n",
    "X, Y = np.meshgrid(X, Y)\n",
    "R = np.sqrt(X**2 + Y**2)\n",
    "Z = np.sin(R)\n",
    "\n",
    "ax.plot_surface(X, Y, Z, rstride=1, cstride=1, cmap='hot')\n",
    "\n",
    "plt.show()"
   ]
  },
  {
   "cell_type": "markdown",
   "metadata": {},
   "source": [
    "## pandas 기본"
   ]
  },
  {
   "cell_type": "markdown",
   "metadata": {},
   "source": [
    "pandas는 열 기반 데이터 분석 API입니다. 입력 데이터를 처리하고 분석하는 데 유용한 도구이며 많은 ML 프레임 워크는 pandas 데이터 구조를 입력으로 지원합니다. API에 대한 포괄적인 소개가 많은 페이지에 걸쳐 있지만 핵심 개념은 매우 간단하며 아래에서 설명 할 것입니다. 보다 완벽한 참조를 위해 pandas docs 사이트에는 광범위한 문서와 많은 자습서가 포함되어 있습니다.\n",
    "\n"
   ]
  },
  {
   "cell_type": "code",
   "execution_count": 114,
   "metadata": {},
   "outputs": [
    {
     "name": "stdout",
     "output_type": "stream",
     "text": [
      "0.20.1\n"
     ]
    }
   ],
   "source": [
    "import pandas as pd\n",
    "#from sorna.display import display\n",
    "print(pd.__version__)"
   ]
  },
  {
   "cell_type": "markdown",
   "metadata": {},
   "source": [
    "pandas의 기본 데이터 구조는 두 가지 클래스로 구현됩니다.\n",
    "\n",
    "- DataFrame: 관계형 데이터 테이블로 상상할 수있는 행 및 명명 된 열\n",
    "- Series: 단일 열입니다. DataFrame은 하나 이상의 Series와 각 Series의 이름을 포함합니다.\n",
    "데이터 프레임은 데이터 조작을 위해 일반적으로 사용되는 추상화입니다. Spark 및 R에도 비슷한 구현이 존재합니다.\n",
    "\n",
    "Series를 만드는 한 가지 방법은 Series 객체를 생성하는 것입니다. 예를 들면:"
   ]
  },
  {
   "cell_type": "code",
   "execution_count": 115,
   "metadata": {},
   "outputs": [
    {
     "data": {
      "text/plain": [
       "0    San Francisco\n",
       "1         San Jose\n",
       "2       Sacramento\n",
       "dtype: object"
      ]
     },
     "execution_count": 115,
     "metadata": {},
     "output_type": "execute_result"
    }
   ],
   "source": [
    "pd.Series(['San Francisco', 'San Jose', 'Sacramento'])"
   ]
  },
  {
   "cell_type": "markdown",
   "metadata": {},
   "source": [
    "dict 매핑 문자열 열 이름을 각각의 Series에 전달하여 DataFrame 객체를 만들 수 있습니다. 시리즈 길이가 일치하지 않으면 누락 된 값은 특별한 NA/NaN 값으로 채워집니다.\n",
    "\n"
   ]
  },
  {
   "cell_type": "code",
   "execution_count": 116,
   "metadata": {},
   "outputs": [
    {
     "data": {
      "text/html": [
       "<div>\n",
       "<style>\n",
       "    .dataframe thead tr:only-child th {\n",
       "        text-align: right;\n",
       "    }\n",
       "\n",
       "    .dataframe thead th {\n",
       "        text-align: left;\n",
       "    }\n",
       "\n",
       "    .dataframe tbody tr th {\n",
       "        vertical-align: top;\n",
       "    }\n",
       "</style>\n",
       "<table border=\"1\" class=\"dataframe\">\n",
       "  <thead>\n",
       "    <tr style=\"text-align: right;\">\n",
       "      <th></th>\n",
       "      <th>City name</th>\n",
       "      <th>Population</th>\n",
       "    </tr>\n",
       "  </thead>\n",
       "  <tbody>\n",
       "    <tr>\n",
       "      <th>0</th>\n",
       "      <td>San Francisco</td>\n",
       "      <td>852469</td>\n",
       "    </tr>\n",
       "    <tr>\n",
       "      <th>1</th>\n",
       "      <td>San Jose</td>\n",
       "      <td>1015785</td>\n",
       "    </tr>\n",
       "    <tr>\n",
       "      <th>2</th>\n",
       "      <td>Sacramento</td>\n",
       "      <td>485199</td>\n",
       "    </tr>\n",
       "  </tbody>\n",
       "</table>\n",
       "</div>"
      ],
      "text/plain": [
       "       City name  Population\n",
       "0  San Francisco      852469\n",
       "1       San Jose     1015785\n",
       "2     Sacramento      485199"
      ]
     },
     "metadata": {},
     "output_type": "display_data"
    }
   ],
   "source": [
    "city_names = pd.Series(['San Francisco', 'San Jose', 'Sacramento'])\n",
    "population = pd.Series([852469, 1015785, 485199])\n",
    "\n",
    "display(pd.DataFrame({ 'City name': city_names, 'Population': population }))"
   ]
  },
  {
   "cell_type": "markdown",
   "metadata": {},
   "source": [
    "하지만 대부분의 경우 전체 파일을 DataFrame에로드합니다. 다음 예제는 캘리포니아 주거 데이터가 있는 파일을 로드합니다. 아래의 셀을 실행하여 데이터를 로드하고 feature 정의를 작성하십시오.\n",
    "\n"
   ]
  },
  {
   "cell_type": "code",
   "execution_count": 118,
   "metadata": {},
   "outputs": [
    {
     "data": {
      "text/html": [
       "<div>\n",
       "<style>\n",
       "    .dataframe thead tr:only-child th {\n",
       "        text-align: right;\n",
       "    }\n",
       "\n",
       "    .dataframe thead th {\n",
       "        text-align: left;\n",
       "    }\n",
       "\n",
       "    .dataframe tbody tr th {\n",
       "        vertical-align: top;\n",
       "    }\n",
       "</style>\n",
       "<table border=\"1\" class=\"dataframe\">\n",
       "  <thead>\n",
       "    <tr style=\"text-align: right;\">\n",
       "      <th></th>\n",
       "      <th>longitude</th>\n",
       "      <th>latitude</th>\n",
       "      <th>housing_median_age</th>\n",
       "      <th>total_rooms</th>\n",
       "      <th>total_bedrooms</th>\n",
       "      <th>population</th>\n",
       "      <th>households</th>\n",
       "      <th>median_income</th>\n",
       "      <th>median_house_value</th>\n",
       "    </tr>\n",
       "  </thead>\n",
       "  <tbody>\n",
       "    <tr>\n",
       "      <th>count</th>\n",
       "      <td>17000.000000</td>\n",
       "      <td>17000.000000</td>\n",
       "      <td>17000.000000</td>\n",
       "      <td>17000.000000</td>\n",
       "      <td>17000.000000</td>\n",
       "      <td>17000.000000</td>\n",
       "      <td>17000.000000</td>\n",
       "      <td>17000.000000</td>\n",
       "      <td>17000.000000</td>\n",
       "    </tr>\n",
       "    <tr>\n",
       "      <th>mean</th>\n",
       "      <td>-119.562108</td>\n",
       "      <td>35.625225</td>\n",
       "      <td>28.589353</td>\n",
       "      <td>2643.664412</td>\n",
       "      <td>539.410824</td>\n",
       "      <td>1429.573941</td>\n",
       "      <td>501.221941</td>\n",
       "      <td>3.883578</td>\n",
       "      <td>207300.912353</td>\n",
       "    </tr>\n",
       "    <tr>\n",
       "      <th>std</th>\n",
       "      <td>2.005166</td>\n",
       "      <td>2.137340</td>\n",
       "      <td>12.586937</td>\n",
       "      <td>2179.947071</td>\n",
       "      <td>421.499452</td>\n",
       "      <td>1147.852959</td>\n",
       "      <td>384.520841</td>\n",
       "      <td>1.908157</td>\n",
       "      <td>115983.764387</td>\n",
       "    </tr>\n",
       "    <tr>\n",
       "      <th>min</th>\n",
       "      <td>-124.350000</td>\n",
       "      <td>32.540000</td>\n",
       "      <td>1.000000</td>\n",
       "      <td>2.000000</td>\n",
       "      <td>1.000000</td>\n",
       "      <td>3.000000</td>\n",
       "      <td>1.000000</td>\n",
       "      <td>0.499900</td>\n",
       "      <td>14999.000000</td>\n",
       "    </tr>\n",
       "    <tr>\n",
       "      <th>25%</th>\n",
       "      <td>-121.790000</td>\n",
       "      <td>33.930000</td>\n",
       "      <td>18.000000</td>\n",
       "      <td>1462.000000</td>\n",
       "      <td>297.000000</td>\n",
       "      <td>790.000000</td>\n",
       "      <td>282.000000</td>\n",
       "      <td>2.566375</td>\n",
       "      <td>119400.000000</td>\n",
       "    </tr>\n",
       "    <tr>\n",
       "      <th>50%</th>\n",
       "      <td>-118.490000</td>\n",
       "      <td>34.250000</td>\n",
       "      <td>29.000000</td>\n",
       "      <td>2127.000000</td>\n",
       "      <td>434.000000</td>\n",
       "      <td>1167.000000</td>\n",
       "      <td>409.000000</td>\n",
       "      <td>3.544600</td>\n",
       "      <td>180400.000000</td>\n",
       "    </tr>\n",
       "    <tr>\n",
       "      <th>75%</th>\n",
       "      <td>-118.000000</td>\n",
       "      <td>37.720000</td>\n",
       "      <td>37.000000</td>\n",
       "      <td>3151.250000</td>\n",
       "      <td>648.250000</td>\n",
       "      <td>1721.000000</td>\n",
       "      <td>605.250000</td>\n",
       "      <td>4.767000</td>\n",
       "      <td>265000.000000</td>\n",
       "    </tr>\n",
       "    <tr>\n",
       "      <th>max</th>\n",
       "      <td>-114.310000</td>\n",
       "      <td>41.950000</td>\n",
       "      <td>52.000000</td>\n",
       "      <td>37937.000000</td>\n",
       "      <td>6445.000000</td>\n",
       "      <td>35682.000000</td>\n",
       "      <td>6082.000000</td>\n",
       "      <td>15.000100</td>\n",
       "      <td>500001.000000</td>\n",
       "    </tr>\n",
       "  </tbody>\n",
       "</table>\n",
       "</div>"
      ],
      "text/plain": [
       "          longitude      latitude  housing_median_age   total_rooms  \\\n",
       "count  17000.000000  17000.000000        17000.000000  17000.000000   \n",
       "mean    -119.562108     35.625225           28.589353   2643.664412   \n",
       "std        2.005166      2.137340           12.586937   2179.947071   \n",
       "min     -124.350000     32.540000            1.000000      2.000000   \n",
       "25%     -121.790000     33.930000           18.000000   1462.000000   \n",
       "50%     -118.490000     34.250000           29.000000   2127.000000   \n",
       "75%     -118.000000     37.720000           37.000000   3151.250000   \n",
       "max     -114.310000     41.950000           52.000000  37937.000000   \n",
       "\n",
       "       total_bedrooms    population    households  median_income  \\\n",
       "count    17000.000000  17000.000000  17000.000000   17000.000000   \n",
       "mean       539.410824   1429.573941    501.221941       3.883578   \n",
       "std        421.499452   1147.852959    384.520841       1.908157   \n",
       "min          1.000000      3.000000      1.000000       0.499900   \n",
       "25%        297.000000    790.000000    282.000000       2.566375   \n",
       "50%        434.000000   1167.000000    409.000000       3.544600   \n",
       "75%        648.250000   1721.000000    605.250000       4.767000   \n",
       "max       6445.000000  35682.000000   6082.000000      15.000100   \n",
       "\n",
       "       median_house_value  \n",
       "count        17000.000000  \n",
       "mean        207300.912353  \n",
       "std         115983.764387  \n",
       "min          14999.000000  \n",
       "25%         119400.000000  \n",
       "50%         180400.000000  \n",
       "75%         265000.000000  \n",
       "max         500001.000000  "
      ]
     },
     "metadata": {},
     "output_type": "display_data"
    }
   ],
   "source": [
    "#from sorna.display import display\n",
    "\n",
    "california_housing_dataframe = pd.read_csv(\"http://datasets.lablup.ai/public/tutorials/california_housing_train.csv\", sep=\",\")\n",
    "display(california_housing_dataframe.describe())"
   ]
  },
  {
   "cell_type": "markdown",
   "metadata": {},
   "source": [
    "위 예제는 DataFrame에 대한 흥미로운 통계를 보여주기 위해 DataFrame.describe를 사용했습니다. 또 다른 유용한 기능은 DataFrame.head입니다. 처음 몇 레코드를 볼 수 있습니다.\n",
    "\n"
   ]
  },
  {
   "cell_type": "code",
   "execution_count": 119,
   "metadata": {},
   "outputs": [
    {
     "data": {
      "text/html": [
       "<div>\n",
       "<style>\n",
       "    .dataframe thead tr:only-child th {\n",
       "        text-align: right;\n",
       "    }\n",
       "\n",
       "    .dataframe thead th {\n",
       "        text-align: left;\n",
       "    }\n",
       "\n",
       "    .dataframe tbody tr th {\n",
       "        vertical-align: top;\n",
       "    }\n",
       "</style>\n",
       "<table border=\"1\" class=\"dataframe\">\n",
       "  <thead>\n",
       "    <tr style=\"text-align: right;\">\n",
       "      <th></th>\n",
       "      <th>longitude</th>\n",
       "      <th>latitude</th>\n",
       "      <th>housing_median_age</th>\n",
       "      <th>total_rooms</th>\n",
       "      <th>total_bedrooms</th>\n",
       "      <th>population</th>\n",
       "      <th>households</th>\n",
       "      <th>median_income</th>\n",
       "      <th>median_house_value</th>\n",
       "    </tr>\n",
       "  </thead>\n",
       "  <tbody>\n",
       "    <tr>\n",
       "      <th>0</th>\n",
       "      <td>-114.31</td>\n",
       "      <td>34.19</td>\n",
       "      <td>15.0</td>\n",
       "      <td>5612.0</td>\n",
       "      <td>1283.0</td>\n",
       "      <td>1015.0</td>\n",
       "      <td>472.0</td>\n",
       "      <td>1.4936</td>\n",
       "      <td>66900.0</td>\n",
       "    </tr>\n",
       "    <tr>\n",
       "      <th>1</th>\n",
       "      <td>-114.47</td>\n",
       "      <td>34.40</td>\n",
       "      <td>19.0</td>\n",
       "      <td>7650.0</td>\n",
       "      <td>1901.0</td>\n",
       "      <td>1129.0</td>\n",
       "      <td>463.0</td>\n",
       "      <td>1.8200</td>\n",
       "      <td>80100.0</td>\n",
       "    </tr>\n",
       "    <tr>\n",
       "      <th>2</th>\n",
       "      <td>-114.56</td>\n",
       "      <td>33.69</td>\n",
       "      <td>17.0</td>\n",
       "      <td>720.0</td>\n",
       "      <td>174.0</td>\n",
       "      <td>333.0</td>\n",
       "      <td>117.0</td>\n",
       "      <td>1.6509</td>\n",
       "      <td>85700.0</td>\n",
       "    </tr>\n",
       "    <tr>\n",
       "      <th>3</th>\n",
       "      <td>-114.57</td>\n",
       "      <td>33.64</td>\n",
       "      <td>14.0</td>\n",
       "      <td>1501.0</td>\n",
       "      <td>337.0</td>\n",
       "      <td>515.0</td>\n",
       "      <td>226.0</td>\n",
       "      <td>3.1917</td>\n",
       "      <td>73400.0</td>\n",
       "    </tr>\n",
       "    <tr>\n",
       "      <th>4</th>\n",
       "      <td>-114.57</td>\n",
       "      <td>33.57</td>\n",
       "      <td>20.0</td>\n",
       "      <td>1454.0</td>\n",
       "      <td>326.0</td>\n",
       "      <td>624.0</td>\n",
       "      <td>262.0</td>\n",
       "      <td>1.9250</td>\n",
       "      <td>65500.0</td>\n",
       "    </tr>\n",
       "  </tbody>\n",
       "</table>\n",
       "</div>"
      ],
      "text/plain": [
       "   longitude  latitude  housing_median_age  total_rooms  total_bedrooms  \\\n",
       "0    -114.31     34.19                15.0       5612.0          1283.0   \n",
       "1    -114.47     34.40                19.0       7650.0          1901.0   \n",
       "2    -114.56     33.69                17.0        720.0           174.0   \n",
       "3    -114.57     33.64                14.0       1501.0           337.0   \n",
       "4    -114.57     33.57                20.0       1454.0           326.0   \n",
       "\n",
       "   population  households  median_income  median_house_value  \n",
       "0      1015.0       472.0         1.4936             66900.0  \n",
       "1      1129.0       463.0         1.8200             80100.0  \n",
       "2       333.0       117.0         1.6509             85700.0  \n",
       "3       515.0       226.0         3.1917             73400.0  \n",
       "4       624.0       262.0         1.9250             65500.0  "
      ]
     },
     "metadata": {},
     "output_type": "display_data"
    }
   ],
   "source": [
    "display(california_housing_dataframe.head())"
   ]
  },
  {
   "cell_type": "markdown",
   "metadata": {},
   "source": [
    "pandas의 또 다른 강력한 기능은 그래프입니다. 예를 들어, DataFrame.hist를 사용하면 열의 값 분포를 빠르게 연구 할 수 있습니다.\n",
    "\n"
   ]
  },
  {
   "cell_type": "code",
   "execution_count": 120,
   "metadata": {},
   "outputs": [
    {
     "data": {
      "image/png": "[encoded data removed]",
      "text/plain": [
       "<matplotlib.figure.Figure at 0x1a5615f29b0>"
      ]
     },
     "metadata": {},
     "output_type": "display_data"
    }
   ],
   "source": [
    "import matplotlib.pyplot as plt\n",
    "california_housing_dataframe.hist('housing_median_age')\n",
    "plt.show()"
   ]
  },
  {
   "cell_type": "markdown",
   "metadata": {},
   "source": [
    "### 데이터 엑세스"
   ]
  },
  {
   "cell_type": "code",
   "execution_count": 121,
   "metadata": {},
   "outputs": [
    {
     "name": "stdout",
     "output_type": "stream",
     "text": [
      "<class 'pandas.core.series.Series'>\n",
      "0    San Francisco\n",
      "1         San Jose\n",
      "2       Sacramento\n",
      "Name: City name, dtype: object\n"
     ]
    }
   ],
   "source": [
    "cities = pd.DataFrame({ 'City name': city_names, 'Population': population })\n",
    "print(type(cities['City name']))\n",
    "print(cities['City name'])"
   ]
  },
  {
   "cell_type": "code",
   "execution_count": 122,
   "metadata": {},
   "outputs": [
    {
     "name": "stdout",
     "output_type": "stream",
     "text": [
      "<class 'str'>\n",
      "San Jose\n"
     ]
    }
   ],
   "source": [
    "print(type(cities['City name'][1]))\n",
    "print(cities['City name'][1])"
   ]
  },
  {
   "cell_type": "code",
   "execution_count": 123,
   "metadata": {},
   "outputs": [
    {
     "name": "stdout",
     "output_type": "stream",
     "text": [
      "<class 'pandas.core.frame.DataFrame'>\n",
      "       City name  Population\n",
      "0  San Francisco      852469\n",
      "1       San Jose     1015785\n"
     ]
    }
   ],
   "source": [
    "print(type(cities[0:2]))\n",
    "print(cities[0:2])"
   ]
  },
  {
   "cell_type": "markdown",
   "metadata": {},
   "source": [
    "또한 pandas API는 고급 색인 생성 및 선택을위한 매우 풍부한 API를 제공하므로 여기에서 다루기에는 너무 광범위합니다.\n",
    "\n",
    "---\n",
    "### 데이터 조작\n",
    "Python의 기본 산술 연산을 Series에 적용 할 수 있습니다.\n",
    "\n"
   ]
  },
  {
   "cell_type": "code",
   "execution_count": 124,
   "metadata": {},
   "outputs": [
    {
     "name": "stdout",
     "output_type": "stream",
     "text": [
      "0     852.469\n",
      "1    1015.785\n",
      "2     485.199\n",
      "dtype: float64\n"
     ]
    }
   ],
   "source": [
    "print(population / 1000.)"
   ]
  },
  {
   "cell_type": "markdown",
   "metadata": {},
   "source": [
    "Numpy는 과학적 컴퓨팅을 위한 인기있는 툴킷입니다. pandas Series는 대부분의 Numpy 함수에 대한 인수로 사용할 수 있습니다.\n",
    "\n"
   ]
  },
  {
   "cell_type": "code",
   "execution_count": 125,
   "metadata": {},
   "outputs": [
    {
     "name": "stdout",
     "output_type": "stream",
     "text": [
      "0    13.655892\n",
      "1    13.831172\n",
      "2    13.092314\n",
      "dtype: float64\n"
     ]
    }
   ],
   "source": [
    "import numpy as np\n",
    "\n",
    "print(np.log(population))"
   ]
  },
  {
   "cell_type": "markdown",
   "metadata": {},
   "source": [
    "더 복잡한 단일 열 변환을 위해 Series.apply는 강력한 메커니즘을 제공합니다. 각 값에 대해 복잡한 처리를 할 수 있도록 λ 함수 인수를 허용합니다. 아래 예제는 인구가 백만 명이 넘는 지 여부를 나타내는 새로운 Series를 만듭니다.\n",
    "\n"
   ]
  },
  {
   "cell_type": "code",
   "execution_count": 126,
   "metadata": {},
   "outputs": [
    {
     "data": {
      "text/plain": [
       "0    False\n",
       "1     True\n",
       "2    False\n",
       "dtype: bool"
      ]
     },
     "execution_count": 126,
     "metadata": {},
     "output_type": "execute_result"
    }
   ],
   "source": [
    "population.apply(lambda val: val > 1000000)"
   ]
  },
  {
   "cell_type": "markdown",
   "metadata": {},
   "source": [
    "DataFrame 수정 또한 간단합니다. 예를 들어 다음 블록은 두 개의 Series를 기존 DataFrame에 추가합니다.\n",
    "\n"
   ]
  },
  {
   "cell_type": "code",
   "execution_count": 127,
   "metadata": {},
   "outputs": [
    {
     "data": {
      "text/html": [
       "<div>\n",
       "<style>\n",
       "    .dataframe thead tr:only-child th {\n",
       "        text-align: right;\n",
       "    }\n",
       "\n",
       "    .dataframe thead th {\n",
       "        text-align: left;\n",
       "    }\n",
       "\n",
       "    .dataframe tbody tr th {\n",
       "        vertical-align: top;\n",
       "    }\n",
       "</style>\n",
       "<table border=\"1\" class=\"dataframe\">\n",
       "  <thead>\n",
       "    <tr style=\"text-align: right;\">\n",
       "      <th></th>\n",
       "      <th>City name</th>\n",
       "      <th>Population</th>\n",
       "      <th>Area square miles</th>\n",
       "      <th>Population density</th>\n",
       "    </tr>\n",
       "  </thead>\n",
       "  <tbody>\n",
       "    <tr>\n",
       "      <th>0</th>\n",
       "      <td>San Francisco</td>\n",
       "      <td>852469</td>\n",
       "      <td>46.87</td>\n",
       "      <td>18187.945381</td>\n",
       "    </tr>\n",
       "    <tr>\n",
       "      <th>1</th>\n",
       "      <td>San Jose</td>\n",
       "      <td>1015785</td>\n",
       "      <td>176.53</td>\n",
       "      <td>5754.177760</td>\n",
       "    </tr>\n",
       "    <tr>\n",
       "      <th>2</th>\n",
       "      <td>Sacramento</td>\n",
       "      <td>485199</td>\n",
       "      <td>97.92</td>\n",
       "      <td>4955.055147</td>\n",
       "    </tr>\n",
       "  </tbody>\n",
       "</table>\n",
       "</div>"
      ],
      "text/plain": [
       "       City name  Population  Area square miles  Population density\n",
       "0  San Francisco      852469              46.87        18187.945381\n",
       "1       San Jose     1015785             176.53         5754.177760\n",
       "2     Sacramento      485199              97.92         4955.055147"
      ]
     },
     "metadata": {},
     "output_type": "display_data"
    }
   ],
   "source": [
    "cities['Area square miles'] = pd.Series([46.87, 176.53, 97.92])\n",
    "cities['Population density'] = cities['Population'] / cities['Area square miles']\n",
    "display(cities)"
   ]
  },
  {
   "cell_type": "markdown",
   "metadata": {},
   "source": [
    "### 연습\n",
    "다음 두 가지 모두가 참인 경우에만 참인 새 부울 열을 추가하여 cities 테이블을 수정하십시오.\n",
    "\n",
    "도시는 성자 이름을 딴 것입니다.\n",
    "도시의 면적은 50 평방 마일을 초과합니다."
   ]
  },
  {
   "cell_type": "code",
   "execution_count": 128,
   "metadata": {},
   "outputs": [
    {
     "data": {
      "text/html": [
       "<div>\n",
       "<style>\n",
       "    .dataframe thead tr:only-child th {\n",
       "        text-align: right;\n",
       "    }\n",
       "\n",
       "    .dataframe thead th {\n",
       "        text-align: left;\n",
       "    }\n",
       "\n",
       "    .dataframe tbody tr th {\n",
       "        vertical-align: top;\n",
       "    }\n",
       "</style>\n",
       "<table border=\"1\" class=\"dataframe\">\n",
       "  <thead>\n",
       "    <tr style=\"text-align: right;\">\n",
       "      <th></th>\n",
       "      <th>City name</th>\n",
       "      <th>Population</th>\n",
       "      <th>Area square miles</th>\n",
       "      <th>Population density</th>\n",
       "      <th>Is wide and has saint name</th>\n",
       "    </tr>\n",
       "  </thead>\n",
       "  <tbody>\n",
       "    <tr>\n",
       "      <th>0</th>\n",
       "      <td>San Francisco</td>\n",
       "      <td>852469</td>\n",
       "      <td>46.87</td>\n",
       "      <td>18187.945381</td>\n",
       "      <td>False</td>\n",
       "    </tr>\n",
       "    <tr>\n",
       "      <th>1</th>\n",
       "      <td>San Jose</td>\n",
       "      <td>1015785</td>\n",
       "      <td>176.53</td>\n",
       "      <td>5754.177760</td>\n",
       "      <td>True</td>\n",
       "    </tr>\n",
       "    <tr>\n",
       "      <th>2</th>\n",
       "      <td>Sacramento</td>\n",
       "      <td>485199</td>\n",
       "      <td>97.92</td>\n",
       "      <td>4955.055147</td>\n",
       "      <td>False</td>\n",
       "    </tr>\n",
       "  </tbody>\n",
       "</table>\n",
       "</div>"
      ],
      "text/plain": [
       "       City name  Population  Area square miles  Population density  \\\n",
       "0  San Francisco      852469              46.87        18187.945381   \n",
       "1       San Jose     1015785             176.53         5754.177760   \n",
       "2     Sacramento      485199              97.92         4955.055147   \n",
       "\n",
       "   Is wide and has saint name  \n",
       "0                       False  \n",
       "1                        True  \n",
       "2                       False  "
      ]
     },
     "metadata": {},
     "output_type": "display_data"
    }
   ],
   "source": [
    "cities['Is wide and has saint name'] = (cities['Area square miles'] > 50) & cities['City name'].apply(lambda name: name.startswith('San'))\n",
    "display(cities)"
   ]
  },
  {
   "cell_type": "markdown",
   "metadata": {},
   "source": [
    "### 인덱스\n",
    "Series 및 DataFrame 개체는 행 순서를 제어하는 인덱스 속성도 정의합니다. 기본적으로 생성시 pandas는 원본 데이터의 순서를 반영하는 인덱스를 만듭니다. 생성 된 인덱스 값은 안정적입니다. 다시 말하면 순서가 바뀌지 않습니다.\n",
    "\n"
   ]
  },
  {
   "cell_type": "code",
   "execution_count": null,
   "metadata": {
    "collapsed": true
   },
   "outputs": [],
   "source": [
    "print(city_names.index)"
   ]
  },
  {
   "cell_type": "code",
   "execution_count": null,
   "metadata": {
    "collapsed": true
   },
   "outputs": [],
   "source": [
    "print(list(cities.index))"
   ]
  },
  {
   "cell_type": "markdown",
   "metadata": {},
   "source": [
    "수동으로 행의 순서를 변경하려면 DataFrame.reindex를 호출하십시오. 예를 들어, 다음은 도시 이름별로 정렬하는 것과 동일한 효과가 있습니다.\n",
    "\n"
   ]
  },
  {
   "cell_type": "code",
   "execution_count": null,
   "metadata": {
    "collapsed": true
   },
   "outputs": [],
   "source": [
    "print(cities.reindex([2, 0, 1]))"
   ]
  },
  {
   "cell_type": "markdown",
   "metadata": {},
   "source": [
    "다시 색인하는 것은 DataFrame을 섞는 좋은 방법입니다. 아래의 예제에서 우리는 배열과 같은 인덱스를 가져 와서 Numpy의 random.permutation 함수에 전달합니다.이 함수는 값을 제자리에 셔플합니다. 이 shuffled 배열로 reindex를 호출하면 데이터 프레임이 동일한 방식으로 셔플됩니다. 셀을 여러 번 실행 해보십시오!\n",
    "\n"
   ]
  },
  {
   "cell_type": "code",
   "execution_count": 129,
   "metadata": {},
   "outputs": [
    {
     "data": {
      "text/html": [
       "<div>\n",
       "<style>\n",
       "    .dataframe thead tr:only-child th {\n",
       "        text-align: right;\n",
       "    }\n",
       "\n",
       "    .dataframe thead th {\n",
       "        text-align: left;\n",
       "    }\n",
       "\n",
       "    .dataframe tbody tr th {\n",
       "        vertical-align: top;\n",
       "    }\n",
       "</style>\n",
       "<table border=\"1\" class=\"dataframe\">\n",
       "  <thead>\n",
       "    <tr style=\"text-align: right;\">\n",
       "      <th></th>\n",
       "      <th>City name</th>\n",
       "      <th>Population</th>\n",
       "      <th>Area square miles</th>\n",
       "      <th>Population density</th>\n",
       "      <th>Is wide and has saint name</th>\n",
       "    </tr>\n",
       "  </thead>\n",
       "  <tbody>\n",
       "    <tr>\n",
       "      <th>2</th>\n",
       "      <td>Sacramento</td>\n",
       "      <td>485199</td>\n",
       "      <td>97.92</td>\n",
       "      <td>4955.055147</td>\n",
       "      <td>False</td>\n",
       "    </tr>\n",
       "    <tr>\n",
       "      <th>0</th>\n",
       "      <td>San Francisco</td>\n",
       "      <td>852469</td>\n",
       "      <td>46.87</td>\n",
       "      <td>18187.945381</td>\n",
       "      <td>False</td>\n",
       "    </tr>\n",
       "    <tr>\n",
       "      <th>1</th>\n",
       "      <td>San Jose</td>\n",
       "      <td>1015785</td>\n",
       "      <td>176.53</td>\n",
       "      <td>5754.177760</td>\n",
       "      <td>True</td>\n",
       "    </tr>\n",
       "  </tbody>\n",
       "</table>\n",
       "</div>"
      ],
      "text/plain": [
       "       City name  Population  Area square miles  Population density  \\\n",
       "2     Sacramento      485199              97.92         4955.055147   \n",
       "0  San Francisco      852469              46.87        18187.945381   \n",
       "1       San Jose     1015785             176.53         5754.177760   \n",
       "\n",
       "   Is wide and has saint name  \n",
       "2                       False  \n",
       "0                       False  \n",
       "1                        True  "
      ]
     },
     "metadata": {},
     "output_type": "display_data"
    }
   ],
   "source": [
    "display(cities.reindex(np.random.permutation(cities.index)))"
   ]
  },
  {
   "cell_type": "markdown",
   "metadata": {},
   "source": [
    "### 연습2\n",
    "reindex 는 원래 DataFrame의 색인 값에 없는 색인 값을 사용할 수 있습니다. 시도해보고 그런 값을 사용하면 어떻게되는지 확인해 보세요! 왜 이것이 허용될까요?\n",
    "\n"
   ]
  },
  {
   "cell_type": "code",
   "execution_count": 130,
   "metadata": {},
   "outputs": [
    {
     "data": {
      "text/html": [
       "<div>\n",
       "<style>\n",
       "    .dataframe thead tr:only-child th {\n",
       "        text-align: right;\n",
       "    }\n",
       "\n",
       "    .dataframe thead th {\n",
       "        text-align: left;\n",
       "    }\n",
       "\n",
       "    .dataframe tbody tr th {\n",
       "        vertical-align: top;\n",
       "    }\n",
       "</style>\n",
       "<table border=\"1\" class=\"dataframe\">\n",
       "  <thead>\n",
       "    <tr style=\"text-align: right;\">\n",
       "      <th></th>\n",
       "      <th>City name</th>\n",
       "      <th>Population</th>\n",
       "      <th>Area square miles</th>\n",
       "      <th>Population density</th>\n",
       "      <th>Is wide and has saint name</th>\n",
       "    </tr>\n",
       "  </thead>\n",
       "  <tbody>\n",
       "    <tr>\n",
       "      <th>0</th>\n",
       "      <td>San Francisco</td>\n",
       "      <td>852469.0</td>\n",
       "      <td>46.87</td>\n",
       "      <td>18187.945381</td>\n",
       "      <td>False</td>\n",
       "    </tr>\n",
       "    <tr>\n",
       "      <th>4</th>\n",
       "      <td>NaN</td>\n",
       "      <td>NaN</td>\n",
       "      <td>NaN</td>\n",
       "      <td>NaN</td>\n",
       "      <td>NaN</td>\n",
       "    </tr>\n",
       "    <tr>\n",
       "      <th>5</th>\n",
       "      <td>NaN</td>\n",
       "      <td>NaN</td>\n",
       "      <td>NaN</td>\n",
       "      <td>NaN</td>\n",
       "      <td>NaN</td>\n",
       "    </tr>\n",
       "    <tr>\n",
       "      <th>2</th>\n",
       "      <td>Sacramento</td>\n",
       "      <td>485199.0</td>\n",
       "      <td>97.92</td>\n",
       "      <td>4955.055147</td>\n",
       "      <td>False</td>\n",
       "    </tr>\n",
       "  </tbody>\n",
       "</table>\n",
       "</div>"
      ],
      "text/plain": [
       "       City name  Population  Area square miles  Population density  \\\n",
       "0  San Francisco    852469.0              46.87        18187.945381   \n",
       "4            NaN         NaN                NaN                 NaN   \n",
       "5            NaN         NaN                NaN                 NaN   \n",
       "2     Sacramento    485199.0              97.92         4955.055147   \n",
       "\n",
       "  Is wide and has saint name  \n",
       "0                      False  \n",
       "4                        NaN  \n",
       "5                        NaN  \n",
       "2                      False  "
      ]
     },
     "execution_count": 130,
     "metadata": {},
     "output_type": "execute_result"
    }
   ],
   "source": [
    "# 종종 인덱스 값이 실제 데이터에 기반하고 있는 경우가 있습니다.\n",
    "# 브라우저 이름의 인덱스를 사용하는 pandas의 reindex 문서가 좋은 예입니다:\n",
    "# http://pandas.pydata.org/pandas-docs/stable/generated/pandas.DataFrame.reindex.html\n",
    "# 존재하지 않는 값을 허용하는 것은 존재하지 않는 값에 대해 우려할 필요 없이\n",
    "# 외부의 값을 reindex 할 수 있도록 하는 쉬운 방법입니다.\n",
    "# 존재하지 않는 값을 NaN으로 채우는 예입니다:\n",
    "\n",
    "cities.reindex([0, 4, 5, 2])"
   ]
  },
  {
   "cell_type": "markdown",
   "metadata": {},
   "source": [
    "### 그룹화\n",
    "DataFrame을 몇가지 규칙에 따라 그룹화할 수가 있습니다. SQL 과 같이 다양한 group by 명령들을 지원합니다. group by는 지정한 열의 값으로 데이터들을 묶는 기능을 합니다. 붓꽃 데이터로 한 번 확인해봅시다.\n",
    "\n",
    "\n",
    "\\"
   ]
  },
  {
   "cell_type": "code",
   "execution_count": 131,
   "metadata": {},
   "outputs": [
    {
     "data": {
      "text/html": [
       "<div>\n",
       "<style>\n",
       "    .dataframe thead tr:only-child th {\n",
       "        text-align: right;\n",
       "    }\n",
       "\n",
       "    .dataframe thead th {\n",
       "        text-align: left;\n",
       "    }\n",
       "\n",
       "    .dataframe tbody tr th {\n",
       "        vertical-align: top;\n",
       "    }\n",
       "</style>\n",
       "<table border=\"1\" class=\"dataframe\">\n",
       "  <thead>\n",
       "    <tr style=\"text-align: right;\">\n",
       "      <th></th>\n",
       "      <th>sepal_length</th>\n",
       "      <th>sepal_width</th>\n",
       "      <th>petal_length</th>\n",
       "      <th>petal_width</th>\n",
       "      <th>species</th>\n",
       "    </tr>\n",
       "  </thead>\n",
       "  <tbody>\n",
       "    <tr>\n",
       "      <th>0</th>\n",
       "      <td>5.1</td>\n",
       "      <td>3.5</td>\n",
       "      <td>1.4</td>\n",
       "      <td>0.2</td>\n",
       "      <td>setosa</td>\n",
       "    </tr>\n",
       "    <tr>\n",
       "      <th>1</th>\n",
       "      <td>4.9</td>\n",
       "      <td>3.0</td>\n",
       "      <td>1.4</td>\n",
       "      <td>0.2</td>\n",
       "      <td>setosa</td>\n",
       "    </tr>\n",
       "    <tr>\n",
       "      <th>2</th>\n",
       "      <td>4.7</td>\n",
       "      <td>3.2</td>\n",
       "      <td>1.3</td>\n",
       "      <td>0.2</td>\n",
       "      <td>setosa</td>\n",
       "    </tr>\n",
       "    <tr>\n",
       "      <th>3</th>\n",
       "      <td>4.6</td>\n",
       "      <td>3.1</td>\n",
       "      <td>1.5</td>\n",
       "      <td>0.2</td>\n",
       "      <td>setosa</td>\n",
       "    </tr>\n",
       "    <tr>\n",
       "      <th>4</th>\n",
       "      <td>5.0</td>\n",
       "      <td>3.6</td>\n",
       "      <td>1.4</td>\n",
       "      <td>0.2</td>\n",
       "      <td>setosa</td>\n",
       "    </tr>\n",
       "  </tbody>\n",
       "</table>\n",
       "</div>"
      ],
      "text/plain": [
       "   sepal_length  sepal_width  petal_length  petal_width species\n",
       "0           5.1          3.5           1.4          0.2  setosa\n",
       "1           4.9          3.0           1.4          0.2  setosa\n",
       "2           4.7          3.2           1.3          0.2  setosa\n",
       "3           4.6          3.1           1.5          0.2  setosa\n",
       "4           5.0          3.6           1.4          0.2  setosa"
      ]
     },
     "metadata": {},
     "output_type": "display_data"
    }
   ],
   "source": [
    "import pandas as pd\n",
    "iris = pd.read_csv(\"http://datasets.lablup.ai/public/tutorials/iris.csv\")\n",
    "display(iris.head())"
   ]
  },
  {
   "cell_type": "code",
   "execution_count": 132,
   "metadata": {},
   "outputs": [
    {
     "name": "stdout",
     "output_type": "stream",
     "text": [
      "species\n",
      "setosa        5.006\n",
      "versicolor    5.936\n",
      "virginica     6.588\n",
      "Name: sepal_length, dtype: float64\n"
     ]
    }
   ],
   "source": [
    "print(iris.groupby('species')['sepal_length'].mean())"
   ]
  },
  {
   "cell_type": "markdown",
   "metadata": {},
   "source": [
    "### 데이터가 빠진 경우\n",
    "데이터를 다루다보면 일부 데이터가 누락된 경우를 흔히 접하게 됩니다. 이러한 경우를 pandas로 처리해 봅시다.\n",
    "\n"
   ]
  },
  {
   "cell_type": "code",
   "execution_count": 133,
   "metadata": {},
   "outputs": [
    {
     "name": "stdout",
     "output_type": "stream",
     "text": [
      "0    1.0\n",
      "1    2.0\n",
      "2    3.0\n",
      "3    NaN\n",
      "dtype: float64\n"
     ]
    }
   ],
   "source": [
    "import numpy as np\n",
    "missing_series = pd.Series([1, 2, 3, np.nan])   # 일부 데이터가 누락된 Series를 만듭니다.\n",
    "print(missing_series)"
   ]
  },
  {
   "cell_type": "code",
   "execution_count": 134,
   "metadata": {},
   "outputs": [
    {
     "name": "stdout",
     "output_type": "stream",
     "text": [
      "0    1.0\n",
      "1    2.0\n",
      "2    3.0\n",
      "3    5.0\n",
      "dtype: float64\n"
     ]
    }
   ],
   "source": [
    "print(missing_series.fillna(5))    # 데이터가 누락된 부분을 5로 채웁니다."
   ]
  },
  {
   "cell_type": "code",
   "execution_count": 135,
   "metadata": {},
   "outputs": [
    {
     "name": "stdout",
     "output_type": "stream",
     "text": [
      "0    1.0\n",
      "1    2.0\n",
      "2    3.0\n",
      "dtype: float64\n"
     ]
    }
   ],
   "source": [
    "print(missing_series.dropna())    # 데이터가 누락된 경우 무시합니다."
   ]
  },
  {
   "cell_type": "markdown",
   "metadata": {},
   "source": [
    "---\n",
    "## TensorFlow 프로그래밍 컨셉\n",
    "\n",
    "다음 개념에 중점을 둔 TensorFlow 프로그래밍 모델의 기초를 배웁니다.\n",
    "- 텐서 (tensors)\n",
    "- 작업 (operations)\n",
    "- 그래프 (graphs) \n",
    "- 세션들 (sessions)\n",
    "기본 그래프를 만드는 간단한 TensorFlow 프로그램과 그래프를 실행하는 세션 만들기\n",
    "\n",
    "TensorFlow 프로그래밍 모델은 사용자가 만난 다른 프로그래밍 모델과 다를 수 있습니다. 그러므로 꼭 차근차근 열람하시기 바랍니다."
   ]
  },
  {
   "cell_type": "markdown",
   "metadata": {},
   "source": [
    "### 개념 개요\n",
    "TensorFlow는 임의의 차원의 배열인 텐서 (tensors)에서 유래한 이름입니다. TensorFlow를 사용하면 아주 많은 수의 차원을 가진 텐서로 작업 할 수 있습니다. 즉, 다음과 같은 평범한 차원에서 많은 작업이 이루어질 것입니다.\n",
    "\n",
    "- 스칼라는 0-d 배열 (0차 텐서)입니다. 예를 들어, \"Howdy\"또는 5\n",
    "- 벡터는 1차원 배열 (1차 텐서)입니다. 예를 들어 [2, 3, 5, 7, 11] 또는 [5]\n",
    "- 행렬은 2차원 배열 (2차 텐서)입니다. 예를 들어, [[3.1, 8.2, 5.9] [4.3, -2.7, 6.5]]\n",
    "TensorFlow 작업(operations)은 텐서를 만들고, 파괴하고 조작합니다. 일반적인 TensorFlow 프로그램의 코드는 대부분 작업입니다.\n",
    "\n",
    "TensorFlow 그래프graph (계산 그래프(computational graph) 또는 데이터 흐름 그래프 (dataflow graph) 라고도 함)는 그래프 데이터 구조입니다. 많은 TensorFlow 프로그램은 하나의 그래프로 구성되지만 TensorFlow 프로그램은 선택적으로 여러 개의 그래프를 만들 수 있습니다. 그래프의 각 노드는 연산에 해당합니다. 그래프의 연결선은 텐서입니다. 그래프를 따라 텐서가 흐르고 각 노드에서 작업에 의해 조작됩니다. 한 연산의 출력 텐서는 종종 후속 연산의 입력 텐서가 됩니다. TensorFlow는 게으른 실행 모델(lazy execution model) 을 구현합니다. 즉, 노드는 관련 노드의 필요에 따라 필요할 때만 계산됩니다.\n",
    "\n",
    "텐서는 그래프에 상수 (constants) 또는 변수 (variables) 로 저장할 수 있습니다. 짐작할 수 있듯이 상수는 값을 변경할 수 없는 텐서를 담고, 변수는 값을 변경할 수 있는 텐서를 담습니다. 그러나 여러분이 짐작하지 못했던 것은 상수와 변수가 그래프에서 더 많은 작업일 뿐이라는 것입니다. 상수는 항상 동일한 텐서 값을 반환하는 작업입니다. 변수는 할당 된 텐서를 반환하는 작업입니다.\n",
    "\n",
    "상수를 정의하려면 tf.constant 연산자를 사용하고 해당 값을 전달하세요. 다음은 예입니다."
   ]
  },
  {
   "cell_type": "code",
   "execution_count": 136,
   "metadata": {
    "collapsed": true
   },
   "outputs": [],
   "source": [
    "import tensorflow as tf"
   ]
  },
  {
   "cell_type": "code",
   "execution_count": 137,
   "metadata": {},
   "outputs": [
    {
     "name": "stdout",
     "output_type": "stream",
     "text": [
      "Tensor(\"Const_1:0\", shape=(1,), dtype=float32)\n"
     ]
    }
   ],
   "source": [
    "x = tf.constant([5.2])\n",
    "print(x)"
   ]
  },
  {
   "cell_type": "markdown",
   "metadata": {},
   "source": [
    "마찬가지로 다음과 같은 변수를 만들 수 있습니다.\n",
    "\n"
   ]
  },
  {
   "cell_type": "code",
   "execution_count": 138,
   "metadata": {},
   "outputs": [
    {
     "name": "stdout",
     "output_type": "stream",
     "text": [
      "<tf.Variable 'Variable:0' shape=(1,) dtype=int32_ref>\n"
     ]
    }
   ],
   "source": [
    "y = tf.Variable([5])\n",
    "print(y)"
   ]
  },
  {
   "cell_type": "markdown",
   "metadata": {},
   "source": [
    "또는 변수를 먼저 생성하고 나중에 이와 같이 값을 지정할 수 있습니다 (항상 기본값을 지정해야 함).\n",
    "\n"
   ]
  },
  {
   "cell_type": "code",
   "execution_count": 139,
   "metadata": {},
   "outputs": [
    {
     "name": "stdout",
     "output_type": "stream",
     "text": [
      "Tensor(\"Assign:0\", shape=(1,), dtype=int32_ref)\n"
     ]
    }
   ],
   "source": [
    "y = tf.Variable([0])\n",
    "y = y.assign([5])\n",
    "print(y)"
   ]
  },
  {
   "cell_type": "markdown",
   "metadata": {},
   "source": [
    "일부 상수나 변수를 정의한 후에는 tf.add와 같은 다른 작업과 결합 할 수 있습니다. tf.add 작업을 실행할 때 tf.constant 또는 tf.Variable 연산을 호출하여 값을 얻은 다음 해당 값의 합계로 새로운 텐서를 반환합니다.\n",
    "\n",
    "tf.Variables 사용과의 중요한 차이점은 `tf.global_variables_initializer` 연산을 생성하고 세션을 시작할 때 이를 호출하여 명시 적으로 초기화 해야한다는 것입니다.\n",
    "\n",
    "그래프는 TensorFlow 세션 내에서 실행되어야합니다. 세션(session) 은 실행되는 그래프의 모든 상태를 유지합니다. 또한 세션은 (프로그램이 일부 분산 계산 프레임 워크에서 실행된다고 가정할 경우) 여러 시스템에 그래프 실행을 분산시킬 수 있습니다.\n",
    "\n",
    "따라서 TensorFlow 프로그래밍은 기본적으로 다음을 포함합니다.\n",
    "\n",
    "- 상수, 변수 및 연산을 그래프로 조합합니다.\n",
    "- 세션 내에서 이러한 상수, 변수 및 연산을 평가합니다."
   ]
  },
  {
   "cell_type": "markdown",
   "metadata": {},
   "source": [
    "---\n",
    "## 간단한 TensorFlow 프로그램 만들기\n",
    "\n",
    "### import 구문 제공\n",
    "거의 모든 Python 프로그램에서와 마찬가지로 import 문을 지정하여 시작합니다. 물론 TensorFlow 프로그램을 실행하는 데 필요한 import 세트는 프로그램에서 액세스할 기능에 따라 다릅니다. 최소한 모든 TensorFlow 프로그램에서 import tensorflow 문을 제공해야합니다.\n"
   ]
  },
  {
   "cell_type": "code",
   "execution_count": 140,
   "metadata": {
    "collapsed": true
   },
   "outputs": [],
   "source": [
    "import tensorflow as tf"
   ]
  },
  {
   "cell_type": "markdown",
   "metadata": {},
   "source": [
    "일반적인 import 문은 다음과 같습니다."
   ]
  },
  {
   "cell_type": "code",
   "execution_count": 141,
   "metadata": {
    "collapsed": true
   },
   "outputs": [],
   "source": [
    "import matplotlib.pyplot as plt # Dataset 시각화. 데이터 시각화를 위해 사용.\n",
    "import numpy as np # 저수준 수치해석 파이썬 라이브러리. 데이터를 준비하는 과정에 주로 사용.\n",
    "import pandas as pd # 고수준 수치해석 파이썬 라이브러리. 데이터를 엑셀처럼 고수준에서 다루는 과정에 주로 사용."
   ]
  },
  {
   "cell_type": "markdown",
   "metadata": {},
   "source": [
    "TensorFlow는 기본 그래프default graph를 제공합니다. 그러나 명시적으로 자체 Graph를 만드는 것이 좋습니다. (일반적으로, Estimator와 같은 상위 수준 API를 사용합니다만, 저수준의 TensorFlow 코드를 작성하는 경우 명시 적으로 상태를 추적하도록 그래프를 선언하는 것이 좋습니다. (각 셀에서 다른 그래프로 작업하고 싶을 수도 있으므로, 그래프를 테스트할 때는필수적입니다.)\n",
    "\n"
   ]
  },
  {
   "cell_type": "code",
   "execution_count": 142,
   "metadata": {},
   "outputs": [
    {
     "name": "stdout",
     "output_type": "stream",
     "text": [
      "13\n"
     ]
    }
   ],
   "source": [
    "# graph를 만듭니다.\n",
    "g = tf.Graph()\n",
    "\n",
    "# 그래프를 기본 \"default\"그래프로 지정합니다.\n",
    "with g.as_default():\n",
    "  # 아래의 세가지 연산으로 구성된 그래프를 조합합니다:\n",
    "  #   * 피연산자를 만들기 위한 두개의 tf.constant 작업.\n",
    "  #   * 두 피연산자를 더하기 위한 하나의 tf.add 작업.\n",
    "  x = tf.constant(8, name=\"x_const\")\n",
    "  y = tf.constant(5, name=\"y_const\")\n",
    "  sum = tf.add(x, y, name=\"x_y_sum\")\n",
    "\n",
    "  # 이제 세션을 생성합니다.\n",
    "  # 새션을 기본 그래프를 실행할 것입니다.\n",
    "  with tf.Session() as sess:\n",
    "    print(sum.eval())"
   ]
  },
  {
   "cell_type": "markdown",
   "metadata": {},
   "source": [
    "### 연습 : 코드 블록에 세 번째 피연산자 가져 오기\n",
    "\n",
    "보다 구체적으로 다음을 수행하십시오.\n",
    "\n",
    "1. 앞의 코드 블록에 세 번째 스칼라 정수 피연산자를 도입하십시오.\n",
    "2. 세 번째 피연산자를 sum에 추가하면 새로운 합계가 산출됩니다.\n",
    "3. 수정 된 코드 블록을 다시 실행하십시오. (다른 코드 블록을 재실행 할 필요가 없습니다.) 프로그램이 올바른 총계를 생성 했습니까?\n"
   ]
  },
  {
   "cell_type": "code",
   "execution_count": 143,
   "metadata": {},
   "outputs": [
    {
     "name": "stdout",
     "output_type": "stream",
     "text": [
      "17\n"
     ]
    }
   ],
   "source": [
    "import tensorflow as tf\n",
    "\n",
    "# graph를 만듭니다.\n",
    "g = tf.Graph()\n",
    "\n",
    "# 그래프를 기본 \"default\"그래프로 지정합니다.\n",
    "with g.as_default():\n",
    "  # 아래의 세가지 연산으로 구성된 그래프를 조합합니다:\n",
    "  # (텐서를 생성하는 것은 하나의 연산입니다.)\n",
    "  x = tf.constant(8, name=\"x_const\")\n",
    "  y = tf.constant(5, name=\"y_const\")\n",
    "  my_sum = tf.add(x, y, name=\"x_y_sum\")\n",
    "\n",
    "  # 과제 1: 세 번째 스칼라 정수 피연산자를 도입합니다.\n",
    "\n",
    "  z = tf.constant(4, name=\"z_const\")\n",
    "  # 과제 2: 세 번째 피연산자를 추가하여 새로운 합계를 산출합니다.\n",
    "  new_sum = tf.add(my_sum, z, name=\"x_y_z_sum\")\n",
    "\n",
    "  # 세션을 생성합니다.\n",
    "  # 세션은 default graph를 실행합니다.\n",
    "  with tf.Session() as sess:\n",
    "    # 과제 3: 프로그램이 올바른 총계를 생성했는지 확인합니다.\n",
    "    print(new_sum.eval())"
   ]
  },
  {
   "cell_type": "markdown",
   "metadata": {},
   "source": [
    "기본적인 TensorFlow 그래프를 더 자세히 살펴 보려면 다음 자습서를 사용해보십시오.\n",
    "\n",
    "https://www.codeonweb.com/entry/9936efe9-c1d3-4928-9e5c-3030054d97cb"
   ]
  },
  {
   "cell_type": "markdown",
   "metadata": {},
   "source": [
    "---\n",
    "## 텐서 다루기\n",
    "### 벡터 추가\n",
    "텐서에서 많은 일반적인 수학 연산을 수행 할 수 있습니다 (TF API. 다음 코드는 정확히 6 개의 요소를 갖는 벡터 (1-D 텐서)를 생성하고 조작합니다."
   ]
  },
  {
   "cell_type": "code",
   "execution_count": 144,
   "metadata": {},
   "outputs": [
    {
     "name": "stdout",
     "output_type": "stream",
     "text": [
      "[ 3  4  6  8 12 14]\n"
     ]
    }
   ],
   "source": [
    "with tf.Graph().as_default():\n",
    "  # 6 요소 벡터 (1-D 텐서)를 만듭니다.\n",
    "  primes = tf.constant([2, 3, 5, 7, 11, 13], dtype=tf.int32)\n",
    "\n",
    "  # 다른 6 요소 벡터를 만듭니다. 벡터의 각 요소는 1로 초기화됩니다. \n",
    "  # 첫 번째 인수는 텐서의 모양(shape)입니다 (아래 모양 참조).\n",
    "\n",
    "  ones = tf.ones([6], dtype=tf.int32)\n",
    "\n",
    "  # 두 개의 텐서를 더합니다. 결과 텐서는 6 요소 벡터입니다.\n",
    "  just_beyond_primes = tf.add(primes, ones)\n",
    "\n",
    "  # 기본 그래프를 실행하는 세션을 만듭니다.\n",
    "  with tf.Session() as sess:\n",
    "    print(just_beyond_primes.eval())"
   ]
  },
  {
   "cell_type": "markdown",
   "metadata": {},
   "source": [
    "### 텐서 모양\n",
    "모양(shape)은 텐서의 크기와 차원 수를 특성화하는 데 사용됩니다. 텐서의 모양은 list로 표현되며 i 번째 요소는 차원 i의 크기를 나타냅니다. 리스트의 길이는 텐서의 랭크 (즉, 차원의 수)를 의미합니다.\n",
    "\n",
    "자세한 내용은 TensorFlow 설명서를 참조하십시오.\n",
    "https://www.tensorflow.org/programmers_guide/\n",
    "\n",
    "몇 가지 기본 예를 봅시다 :"
   ]
  },
  {
   "cell_type": "code",
   "execution_count": 145,
   "metadata": {},
   "outputs": [
    {
     "name": "stdout",
     "output_type": "stream",
     "text": [
      "scalar has shape () and value:\n",
      " 0.0\n",
      "vector has shape (3,) and value:\n",
      " [ 0.  0.  0.]\n",
      "matrix has shape (2, 3) and value:\n",
      " [[ 0.  0.  0.]\n",
      " [ 0.  0.  0.]]\n"
     ]
    }
   ],
   "source": [
    "with tf.Graph().as_default():\n",
    "  # scalar 는 0차원 텐서입니다.\n",
    "  scalar = tf.zeros([])\n",
    "\n",
    "  # 3개의 요소를 갖는 벡터.\n",
    "  vector = tf.zeros([3])\n",
    "\n",
    "  # 2개의 행과 3개의 열로 구성된 행렬\n",
    "  matrix = tf.zeros([2, 3])\n",
    "\n",
    "  with tf.Session() as sess:\n",
    "    print('scalar has shape', scalar.get_shape(), 'and value:\\n', scalar.eval())\n",
    "    print('vector has shape', vector.get_shape(), 'and value:\\n', vector.eval())\n",
    "    print('matrix has shape', matrix.get_shape(), 'and value:\\n', matrix.eval())"
   ]
  },
  {
   "cell_type": "markdown",
   "metadata": {},
   "source": [
    "### 브로드캐스팅\n",
    "\n",
    "수학에서는 동일한 모양의 텐서에만 요소 별 연산 (예 : addition 및 equals)을 수행 할 수 있습니다. 그러나 TensorFlow에서는 전통적으로 호환되지 않는 텐서 (tensors)에 대한 연산을 수행 할 수 있습니다. 브로드캐스팅 - numpy에서 빌린 개념 - 은 TensorFlow가 작업 내의 작은 배열을 자동으로 확대하여 요소 단위 작업에 적합한 모양으로 만듭니다.\n",
    "\n",
    "텐서가 브로드캐스트되면, 그 차원을 따르는 항목들은 개념적으로 복사 됩니다. (성능상의 이유로 실제로 복사되지는 않습니다. 브로드캐스팅은 성능 최적화를 하도록 고안되었습니다.)\n",
    "\n",
    "예를 들어, 브로드캐스팅은 다음을 가능하게합니다.\n",
    "\n",
    "- 피연산자에 크기 [6] 텐서가 필요한 경우 크기 [1] 또는 크기 [] 텐서가 피연산자로 사용될 수 있습니다.\n",
    "- 연산에 [4, 6] 크기의 텐서가 필요한 경우 다음 크기 중 하나를 피연산자로 사용할 수 있습니다.\n",
    ">- [1, 6]\n",
    " - [6]\n",
    " - []\n",
    "- 연산에 크기 [3, 5, 6] 텐서가 필요한 경우 다음 크기 중 하나를 피연산자로 사용할 수 있습니다.\n",
    "> - [1, 5, 6]\n",
    " - [3, 1 ,6]\n",
    " - [3, 5, 1]\n",
    " - [1, 1, 1]\n",
    " - [5, 6]\n",
    " - [1, 6]\n",
    " - [6]\n",
    " - [1]\n",
    " - []\n",
    " \n",
    "전체 규칙은 읽기 쉬운 numpy 브로드캐스팅 문서에 잘 설명되어 있습니다.\n",
    "\n",
    "다음 코드는 이전과 동일한 텐서 합을 수행하지만 브로드캐스팅을 사용합니다."
   ]
  },
  {
   "cell_type": "code",
   "execution_count": 146,
   "metadata": {},
   "outputs": [
    {
     "name": "stdout",
     "output_type": "stream",
     "text": [
      "[ 3  4  6  8 12 14]\n"
     ]
    }
   ],
   "source": [
    "with tf.Graph().as_default():\n",
    "  # 6개의 요소로 구성된 벡터 (1차원 텐서)를 만듭니다.\n",
    "  primes = tf.constant([2, 3, 5, 7, 11, 13], dtype=tf.int32)\n",
    "\n",
    "  # 값이 1인 상수 스칼라를 만듭니다.\n",
    "  ones = tf.constant(1, dtype=tf.int32)\n",
    "\n",
    "  # 두 텐서를 더한다. 결과 텐서는 6개의 요소로 구성된 벡터입니다.\n",
    "  just_beyond_primes = tf.add(primes, ones)\n",
    "\n",
    "  with tf.Session() as sess:\n",
    "    print(just_beyond_primes.eval())"
   ]
  },
  {
   "cell_type": "markdown",
   "metadata": {},
   "source": [
    "### 행렬 곱\n",
    "선형 대수학에서 두 개의 행렬을 곱할 때 첫 번째 행렬의 열 수는 두 번째 행렬의 행 수와 같아야합니다.\n",
    "\n",
    "- 3x4 행렬에 4x2 행렬을 곱하는 것은 유효합니다. 이렇게하면 3x2 행렬이됩니다.\n",
    "- 4x2 행렬에 3x4 행렬을 곱하는 것은 유효하지 않습니다."
   ]
  },
  {
   "cell_type": "code",
   "execution_count": 147,
   "metadata": {},
   "outputs": [
    {
     "name": "stdout",
     "output_type": "stream",
     "text": [
      "[[35 58]\n",
      " [35 33]\n",
      " [ 1 -4]]\n"
     ]
    }
   ],
   "source": [
    "with tf.Graph().as_default():\n",
    "  # 3 행 4 열의 행렬 (2-D 텐서)을 만듭니다.\n",
    "  x = tf.constant([[5, 2, 4, 3], [5, 1, 6, -2], [-1, 3, -1, -2]],\n",
    "                  dtype=tf.int32)\n",
    "\n",
    "  # 4 행 2 열의 행렬을 만듭니다.\n",
    "  y = tf.constant([[2, 2], [3, 5], [4, 5], [1, 6]], dtype=tf.int32)\n",
    "\n",
    "  # 두 피연산자 행렬을 곱합니다.\n",
    "  # 결과 행렬은 3 행 2 열이 될 것입니다.\n",
    "  matrix_multiply_result = tf.matmul(x, y)\n",
    "\n",
    "  with tf.Session() as sess:\n",
    "    print(matrix_multiply_result.eval())"
   ]
  },
  {
   "cell_type": "markdown",
   "metadata": {},
   "source": [
    "### 텐서 모양 변형\n",
    "텐서 합과 행렬 곱셈이 피연산자에 큰 제약을 부과하는 경우 TensorFlow 프로그래머는 종종 텐서를 변형해야합니다. tf.reshape 메서드를 사용하여 텐서를 다시 만듭니다. 예를 들어, 20x2 텐서를 2x20 텐서 또는 10x4 텐서로 바꿀 수 있습니다. tf.reshape를 사용하여 텐서의 차원 수 (\"랭크\")를 변경할 수도 있습니다. 예를 들어, 20x2 텐서를 1-D 40 요소 텐서 또는 3-D 5x2x4 텐서로 바꿀 수 있습니다.\n",
    "\n"
   ]
  },
  {
   "cell_type": "code",
   "execution_count": 148,
   "metadata": {},
   "outputs": [
    {
     "name": "stdout",
     "output_type": "stream",
     "text": [
      "[[5 2]\n",
      " [4 3]]\n"
     ]
    }
   ],
   "source": [
    "with tf.Graph().as_default():\n",
    "  # 4개의 요소 벡터를 만듭니다.\n",
    "  a = tf.constant([5, 2, 4, 3], dtype=tf.int32)\n",
    "\n",
    "  # 4 요소 벡터를 2x2 행렬로 모양을 변형합니다.\n",
    "  reshaped_matrix = tf.reshape(a, [2,2])\n",
    "\n",
    "  with tf.Session() as sess:\n",
    "    print(reshaped_matrix.eval())"
   ]
  },
  {
   "cell_type": "markdown",
   "metadata": {},
   "source": [
    "### 연습 1: 두 개의 텐서를 곱하기 위해 변형 시키십시오.\n",
    "\n",
    "다음 두 벡터는 행렬 곱셈과 호환되지 않습니다.\n",
    "\n",
    "- a = tf.constant ([5, 3, 2, 7, 1, 4])\n",
    "- b = tf.constant ([4, 6, 3])\n",
    "\n",
    "이 벡터를 행렬 곱셈과 호환되는 피연산자로 변형해 봅시다. 그런 다음, 변형한 텐서끼리 행렬 곱셈 연산을 수행해봅시다.\n",
    "\n",
    "위 두 벡터를 이용해서 (3, 6) 모양을 가진 행렬을 만들어보세요. (단, 행렬 곱셈 tf.matmul 을 이용하시오)"
   ]
  },
  {
   "cell_type": "code",
   "execution_count": 150,
   "metadata": {},
   "outputs": [
    {
     "name": "stdout",
     "output_type": "stream",
     "text": [
      "[[44]\n",
      " [46]]\n"
     ]
    }
   ],
   "source": [
    "import tensorflow as tf\n",
    "\n",
    "\n",
    "with tf.Graph().as_default(), tf.Session() as sess:\n",
    "  # 과제 1: 두 텐서를 곱하기 위해 변형합니다.\n",
    "\n",
    "  # 행렬곱이 불가능한 원래의 두 피연산자입니다:\n",
    "  a = tf.constant([5, 3, 2, 7, 1, 4])\n",
    "  b = tf.constant([4, 6, 3])\n",
    "  # 첫 번째 피연산자의 열 갯수와 두 번째 피연산자의 행 갯수가 동일하여\n",
    "  # 연산이 가능하게 하기 위해 최소한 둘 중 하나의 피연산자는\n",
    "  # 변형하여야 합니다.\n",
    "\n",
    "  # 벡터 \"a\"를 2-D 2x3 행렬로 변형합니다:\n",
    "  reshaped_a = tf.reshape(a, [2,3])\n",
    "\n",
    "  # 벡터 \"b\"를 2-D 3x1 행렬로 변형합니다:\n",
    "  reshaped_b = tf.reshape(b, [3,1])\n",
    "\n",
    "  # 이제 첫 번째 피연산자의 열 갯수와\n",
    "  # 두 번째 피연산자의 행 갯수가 같습니다.\n",
    "  # 따라서 두 피연산자를 행렬곱할 수 있습니다.\n",
    "  c = tf.matmul(reshaped_a, reshaped_b)\n",
    "  print(c.eval())\n",
    "\n",
    "  # 다른 방법의 예: [6,1] x [1, 3] -> [6,3]"
   ]
  },
  {
   "cell_type": "markdown",
   "metadata": {},
   "source": [
    "### 변수, 초기화 및 할당\n",
    "\n",
    "지금까지 우리가 보여준 모든 개념은 상태 비의존적이었습니다. eval()을 호출하면 항상 동일한 결과가 반환됩니다. TensorFlow 변수 개체(tf.Variable)를 사용하면 값을 바꾸는 것도 가능합니다. 또한, 상수(Constant)를 초기값으로 줄 수도 있고, 정규분포를 초기화 함수(initializer)로 사용하여 초기화하는 것도 가능합니다.\n",
    "\n"
   ]
  },
  {
   "cell_type": "code",
   "execution_count": 151,
   "metadata": {
    "collapsed": true
   },
   "outputs": [],
   "source": [
    "g = tf.Graph()\n",
    "with g.as_default():\n",
    "  # 초기값이 3인 변수를 만든다\n",
    "  v = tf.Variable([3])\n",
    "\n",
    "  # 형태가 [1]인 변수를 랜덤값으로 초기화하여 만든다.\n",
    "  # 랜덤은 평균 1, 표준편자가 0.35인 정규 분포로부터 샘플링한다.\n",
    "  w = tf.Variable(tf.random_normal([1], mean=1.0, stddev=0.35))"
   ]
  },
  {
   "cell_type": "markdown",
   "metadata": {},
   "source": [
    "TensorFlow의 특징 중 하나는 변수 초기화가 자동으로 수행되지 않는다 는 것입니다. 예를 들어 다음 블록은 오류를 발생시킵니다.\n",
    "\n"
   ]
  },
  {
   "cell_type": "code",
   "execution_count": 152,
   "metadata": {},
   "outputs": [
    {
     "name": "stdout",
     "output_type": "stream",
     "text": [
      "Caught expected error:  Attempting to use uninitialized value Variable\n",
      "\t [[Node: _retval_Variable_0_0 = _Retval[T=DT_INT32, index=0, _device=\"/job:localhost/replica:0/task:0/cpu:0\"](Variable)]]\n"
     ]
    }
   ],
   "source": [
    "with g.as_default():\n",
    "  with tf.Session() as sess:\n",
    "    try:\n",
    "      v.eval()\n",
    "    except tf.errors.FailedPreconditionError as e:\n",
    "      print(\"Caught expected error: \", e)"
   ]
  },
  {
   "cell_type": "markdown",
   "metadata": {},
   "source": [
    "변수를 초기화하는 가장 쉬운 방법은 global_variables_initializer를 호출하는 것입니다. Session.run() 사용은 eval() 과 거의 같습니다.\n",
    "\n"
   ]
  },
  {
   "cell_type": "code",
   "execution_count": 153,
   "metadata": {},
   "outputs": [
    {
     "name": "stdout",
     "output_type": "stream",
     "text": [
      "[3]\n",
      "[ 0.71373159]\n"
     ]
    }
   ],
   "source": [
    "with g.as_default():\n",
    "  with tf.Session() as sess:\n",
    "    initialization = tf.global_variables_initializer()\n",
    "    sess.run(initialization)\n",
    "    # 이제, 변수는 평소처럼 읽을 수 있습니다. 할당된 값들이 들어 있습니다다.\n",
    "    print(v.eval())\n",
    "    print(w.eval())"
   ]
  },
  {
   "cell_type": "markdown",
   "metadata": {},
   "source": [
    "변수는 초기화되면 동일한 세션 내에서 값을 유지합니다. 그러나 새 세션을 시작할 때 세션을 다시 초기화해야합니다.\n",
    "\n"
   ]
  },
  {
   "cell_type": "code",
   "execution_count": 154,
   "metadata": {},
   "outputs": [
    {
     "name": "stdout",
     "output_type": "stream",
     "text": [
      "[ 0.70439339]\n",
      "[ 0.70439339]\n",
      "[ 0.70439339]\n"
     ]
    }
   ],
   "source": [
    "with g.as_default():\n",
    "  with tf.Session() as sess:\n",
    "    sess.run(tf.global_variables_initializer())\n",
    "    # 아래의 세 출력은 같은 값을 출력할 것입니다.\n",
    "    print(w.eval())\n",
    "    print(w.eval())\n",
    "    print(w.eval())"
   ]
  },
  {
   "cell_type": "markdown",
   "metadata": {},
   "source": [
    "변수의 값을 변경하려면 할당assign op를 사용하십시오. assign op를 만드는 것 만으로는 아무 효과가 없습니다. 초기화와 마찬가지로 원하는 효과를 얻기 전에 할당 op를 실행해야합니다.\n",
    "\n",
    "변수의 값을 변경하기 위해서는 tf.assign(variable, value) 을 사용하십시오. assign op를 만드는 것 만으로는 동작하지 않습니다. 우선 정의한 후, assign 을 실행해야 실제 반영이 됩니다.\n",
    "\n",
    "주의할 점은\n",
    "\n",
    "1. tf.assign 을 사용해 operation을 만들고\n",
    "2. 만들어진 operation을 session을 통해 실행해야 비로소 값이 바뀐다는 점입니다."
   ]
  },
  {
   "cell_type": "code",
   "execution_count": 156,
   "metadata": {},
   "outputs": [
    {
     "name": "stdout",
     "output_type": "stream",
     "text": [
      "[3]\n",
      "[3]\n",
      "[7]\n"
     ]
    }
   ],
   "source": [
    "with g.as_default():\n",
    "  with tf.Session() as sess:\n",
    "    sess.run(tf.global_variables_initializer())\n",
    "    # 이 명령은 변수의 초기값을 출력합니다.\n",
    "    print(v.eval())\n",
    "\n",
    "    assignment = tf.assign(v, [7])\n",
    "    # 변수는 아직 변경되지 않았음!\n",
    "    print(v.eval())\n",
    "\n",
    "    # assignment op. 를 실행합니다.\n",
    "    sess.run(assignment)\n",
    "    # 이제 변수가 업데이트 되었습니다.\n",
    "    print(v.eval())"
   ]
  },
  {
   "cell_type": "markdown",
   "metadata": {},
   "source": [
    "불러오기 및 저장하기과 같이 여기에서 다루지 않은 변수에 대한 더 많은 주제가 있습니다. 자세한 내용은 TensorFlow 문서(영문)를 참조하십시오.\n",
    "\n",
    "https://www.tensorflow.org/programmers_guide/variables"
   ]
  },
  {
   "cell_type": "markdown",
   "metadata": {},
   "source": [
    "### 연습 2 : 두 주사위를 10회 던지는 경우를 시뮬레이션 하십시오.\n",
    "\n",
    "주사위 시뮬레이션을 만들어 (10, 3) 모양의 2-D 텐서를 완성하십시오.\n",
    "\n",
    "열 1과 2는 각각 하나의 주사위를 던진 값입니다.\n",
    "3 열은 동일한 행에 있는 두 개의 던진 값의 합계를 유지합니다.\n",
    "예를 들어 첫 번째 행은 다음과 같은 열 값을 포함 할 수 있습니다.\n",
    "\n",
    "- 열 1은 4를 저장합니다.\n",
    "- 열 2는 3을 저장합니다.\n",
    "- 열 3은 7을 저장합니다.\n",
    "\n",
    "dice-1\tdice-2\tsum\n",
    "4\t3\t7\n",
    "2\t4\t6"
   ]
  },
  {
   "cell_type": "code",
   "execution_count": 157,
   "metadata": {},
   "outputs": [
    {
     "name": "stdout",
     "output_type": "stream",
     "text": [
      "[[ 4  2  6]\n",
      " [ 6  5 11]\n",
      " [ 2  3  5]\n",
      " [ 1  1  2]\n",
      " [ 3  5  8]\n",
      " [ 5  1  6]\n",
      " [ 5  6 11]\n",
      " [ 6  5 11]\n",
      " [ 5  6 11]\n",
      " [ 1  3  4]]\n"
     ]
    }
   ],
   "source": [
    "with tf.Graph().as_default(), tf.Session() as sess:\n",
    "  # 과제 2: 두 주사위를 10회 던지는 경우를 시뮬레이션 하세요.\n",
    "  # 결과를 10x3 행렬에 저장하세요.\n",
    "\n",
    "  # 주사위 던지기를 각각 분리된 10x1 행렬에 배치합니다.\n",
    "  # 하나의 10x2 행렬에 넣을 수도 있지만 같은 행렬의 다른 열을 추가하는 것은 까다롭습니다.\n",
    "  # 두 개의 1차원 텐서(벡터)에 배치할 수도 있지만\n",
    "  # 이 경우에는 결과를 변환해야 합니다.\n",
    "  dice1 = tf.Variable(tf.random_uniform([10, 1],\n",
    "                                        minval=1, maxval=7,\n",
    "                                        dtype=tf.int32))\n",
    "  dice2 = tf.Variable(tf.random_uniform([10, 1],\n",
    "                                        minval=1, maxval=7,\n",
    "                                        dtype=tf.int32))\n",
    "\n",
    "  # 주사위 1과 주사위 2가 같은 형태와 크기를 가지므로 더할 수 있습니다.\n",
    "  dice_sum = tf.add(dice1, dice2)\n",
    "\n",
    "  # 이제 세 개의 분리된 10x1 행렬을 가지고 있습니다.\n",
    "  # 하나의 10x3 행렬을 만들기 위해 차원 1을 따라 concatenate 합니다.\n",
    "  resulting_matrix = tf.concat(\n",
    "      values=[dice1, dice2, dice_sum], axis=1)\n",
    "\n",
    "  # graph 내에서 변수가 아직 초기화되지 않았으니\n",
    "  # 조치를 취합니다!\n",
    "  sess.run(tf.global_variables_initializer())\n",
    "\n",
    "  print(resulting_matrix.eval())"
   ]
  },
  {
   "cell_type": "markdown",
   "metadata": {},
   "source": [
    "---\n",
    "## TensorFlow 시작하기\n",
    "\n",
    "- 기본적인 TensorFlow 개념을 학습합니다.\n",
    "- TensorFlow의 LinearRegressor 클래스를 사용하여 하나의 입력 특징을 기반으로 도시 블록의 입도에 따른 주택 가격의 중간 값을 예측합니다.\n",
    "- RMSE (Root Mean Squared Error)를 사용하여 모델의 예측 정확도 평가\n",
    "- 하이퍼 매개변수 (hyper parameters)를 조정하여 모델의 정확성을 향상시킵니다.\n",
    "\n",
    "캘리포니아의 1990년 인구 조사 데이터를 사용합니다."
   ]
  },
  {
   "cell_type": "markdown",
   "metadata": {},
   "source": [
    "### 설정"
   ]
  },
  {
   "cell_type": "code",
   "execution_count": 159,
   "metadata": {},
   "outputs": [
    {
     "ename": "ImportError",
     "evalue": "No module named 'sklearn'",
     "output_type": "error",
     "traceback": [
      "\u001b[1;31m---------------------------------------------------------------------------\u001b[0m",
      "\u001b[1;31mImportError\u001b[0m                               Traceback (most recent call last)",
      "\u001b[1;32m<ipython-input-159-cefbe1553d06>\u001b[0m in \u001b[0;36m<module>\u001b[1;34m()\u001b[0m\n\u001b[0;32m     16\u001b[0m \u001b[1;31m# estimator 는 TensorFlow 모델 작성을 위한 고수준 API입니다.\u001b[0m\u001b[1;33m\u001b[0m\u001b[1;33m\u001b[0m\u001b[0m\n\u001b[0;32m     17\u001b[0m \u001b[1;31m# 자세한 설명은 아래에서 다시 보게 될 것입니다.\u001b[0m\u001b[1;33m\u001b[0m\u001b[1;33m\u001b[0m\u001b[0m\n\u001b[1;32m---> 18\u001b[1;33m \u001b[1;32mfrom\u001b[0m \u001b[0msklearn\u001b[0m \u001b[1;32mimport\u001b[0m \u001b[0mmetrics\u001b[0m\u001b[1;33m\u001b[0m\u001b[0m\n\u001b[0m\u001b[0;32m     19\u001b[0m \u001b[1;32mimport\u001b[0m \u001b[0mtensorflow\u001b[0m \u001b[1;32mas\u001b[0m \u001b[0mtf\u001b[0m\u001b[1;33m\u001b[0m\u001b[0m\n\u001b[0;32m     20\u001b[0m \u001b[1;32mfrom\u001b[0m \u001b[0mtensorflow\u001b[0m\u001b[1;33m.\u001b[0m\u001b[0mcontrib\u001b[0m\u001b[1;33m.\u001b[0m\u001b[0mlearn\u001b[0m\u001b[1;33m.\u001b[0m\u001b[0mpython\u001b[0m\u001b[1;33m.\u001b[0m\u001b[0mlearn\u001b[0m \u001b[1;32mimport\u001b[0m \u001b[0mlearn_io\u001b[0m\u001b[1;33m,\u001b[0m \u001b[0mestimator\u001b[0m\u001b[1;33m\u001b[0m\u001b[0m\n",
      "\u001b[1;31mImportError\u001b[0m: No module named 'sklearn'"
     ]
    }
   ],
   "source": [
    "# 파이썬 기본 수학 라이브러리\n",
    "import math\n",
    "\n",
    "# 시각화 라이브러리들\n",
    "# from sorna.display import display\n",
    "from matplotlib import cm\n",
    "from matplotlib import gridspec\n",
    "from matplotlib import pyplot as plt\n",
    "\n",
    "# 수치 해석 및 데이터 핸들링 라이브러리들\n",
    "import numpy as np\n",
    "import pandas as pd\n",
    "\n",
    "# 기계학습 라이브러리들\n",
    "# learn_io 는 pd.DataFrame 을 TensorFlow로 불러오기 위해 사용됩니다. \n",
    "# estimator 는 TensorFlow 모델 작성을 위한 고수준 API입니다.\n",
    "# 자세한 설명은 아래에서 다시 보게 될 것입니다.\n",
    "from sklearn import metrics\n",
    "import tensorflow as tf\n",
    "from tensorflow.contrib.learn.python.learn import learn_io, estimator\n",
    "\n",
    "# 기타 로그 옵션 (중요하지 않습니다)\n",
    "tf.logging.set_verbosity(tf.logging.ERROR)\n",
    "pd.options.display.max_rows = 10\n",
    "pd.options.display.float_format = '{:.1f}'.format"
   ]
  },
  {
   "cell_type": "markdown",
   "metadata": {},
   "source": [
    "* learn_io 는 pd.DataFrame 을 TensorFlow로 불러오기 위해 사용됩니다.\n",
    "* estimator 는 TensorFlow 모델 작성을 위한 고수준 API입니다.\n",
    "\n",
    "그런 다음 데이터셋을 불러옵니다."
   ]
  },
  {
   "cell_type": "code",
   "execution_count": 160,
   "metadata": {
    "collapsed": true
   },
   "outputs": [],
   "source": [
    "california_housing_dataframe = pd.read_csv(\"http://datasets.lablup.ai/public/tutorials/california_housing_train.csv\", sep=\",\")"
   ]
  },
  {
   "cell_type": "markdown",
   "metadata": {},
   "source": [
    "확률경사하강법(Stochastic Gradient Descent)의 성능에 해를 끼칠 수 있는 순서에 의한 영향을 받지 않도록 데이터를 무작위로 추출합니다. 또한 median_house_value를 천단위로 조정하여, 일반적으로 사용하는 범위의 학습율로 조금 더 쉽게 배울 수 있습니다.\n",
    "\n"
   ]
  },
  {
   "cell_type": "code",
   "execution_count": 161,
   "metadata": {},
   "outputs": [
    {
     "data": {
      "text/html": [
       "<div>\n",
       "<style>\n",
       "    .dataframe thead tr:only-child th {\n",
       "        text-align: right;\n",
       "    }\n",
       "\n",
       "    .dataframe thead th {\n",
       "        text-align: left;\n",
       "    }\n",
       "\n",
       "    .dataframe tbody tr th {\n",
       "        vertical-align: top;\n",
       "    }\n",
       "</style>\n",
       "<table border=\"1\" class=\"dataframe\">\n",
       "  <thead>\n",
       "    <tr style=\"text-align: right;\">\n",
       "      <th></th>\n",
       "      <th>longitude</th>\n",
       "      <th>latitude</th>\n",
       "      <th>housing_median_age</th>\n",
       "      <th>total_rooms</th>\n",
       "      <th>total_bedrooms</th>\n",
       "      <th>population</th>\n",
       "      <th>households</th>\n",
       "      <th>median_income</th>\n",
       "      <th>median_house_value</th>\n",
       "    </tr>\n",
       "  </thead>\n",
       "  <tbody>\n",
       "    <tr>\n",
       "      <th>15155</th>\n",
       "      <td>-122.26</td>\n",
       "      <td>37.57</td>\n",
       "      <td>23.0</td>\n",
       "      <td>7995.0</td>\n",
       "      <td>1254.0</td>\n",
       "      <td>3484.0</td>\n",
       "      <td>1198.0</td>\n",
       "      <td>6.5948</td>\n",
       "      <td>404.000</td>\n",
       "    </tr>\n",
       "    <tr>\n",
       "      <th>12943</th>\n",
       "      <td>-121.84</td>\n",
       "      <td>37.39</td>\n",
       "      <td>31.0</td>\n",
       "      <td>5524.0</td>\n",
       "      <td>914.0</td>\n",
       "      <td>2848.0</td>\n",
       "      <td>879.0</td>\n",
       "      <td>5.5592</td>\n",
       "      <td>229.900</td>\n",
       "    </tr>\n",
       "    <tr>\n",
       "      <th>3287</th>\n",
       "      <td>-117.87</td>\n",
       "      <td>34.11</td>\n",
       "      <td>34.0</td>\n",
       "      <td>1324.0</td>\n",
       "      <td>211.0</td>\n",
       "      <td>799.0</td>\n",
       "      <td>228.0</td>\n",
       "      <td>4.5234</td>\n",
       "      <td>192.200</td>\n",
       "    </tr>\n",
       "    <tr>\n",
       "      <th>5309</th>\n",
       "      <td>-118.14</td>\n",
       "      <td>33.78</td>\n",
       "      <td>44.0</td>\n",
       "      <td>2101.0</td>\n",
       "      <td>496.0</td>\n",
       "      <td>1038.0</td>\n",
       "      <td>500.0</td>\n",
       "      <td>3.1080</td>\n",
       "      <td>217.900</td>\n",
       "    </tr>\n",
       "    <tr>\n",
       "      <th>11475</th>\n",
       "      <td>-121.25</td>\n",
       "      <td>38.66</td>\n",
       "      <td>26.0</td>\n",
       "      <td>3670.0</td>\n",
       "      <td>556.0</td>\n",
       "      <td>1616.0</td>\n",
       "      <td>550.0</td>\n",
       "      <td>5.0200</td>\n",
       "      <td>169.600</td>\n",
       "    </tr>\n",
       "    <tr>\n",
       "      <th>14620</th>\n",
       "      <td>-122.17</td>\n",
       "      <td>37.76</td>\n",
       "      <td>47.0</td>\n",
       "      <td>2118.0</td>\n",
       "      <td>413.0</td>\n",
       "      <td>965.0</td>\n",
       "      <td>382.0</td>\n",
       "      <td>2.1842</td>\n",
       "      <td>107.900</td>\n",
       "    </tr>\n",
       "    <tr>\n",
       "      <th>14649</th>\n",
       "      <td>-122.17</td>\n",
       "      <td>37.43</td>\n",
       "      <td>24.0</td>\n",
       "      <td>3924.0</td>\n",
       "      <td>1142.0</td>\n",
       "      <td>7174.0</td>\n",
       "      <td>950.0</td>\n",
       "      <td>4.0972</td>\n",
       "      <td>387.500</td>\n",
       "    </tr>\n",
       "    <tr>\n",
       "      <th>995</th>\n",
       "      <td>-117.09</td>\n",
       "      <td>32.55</td>\n",
       "      <td>8.0</td>\n",
       "      <td>6533.0</td>\n",
       "      <td>1217.0</td>\n",
       "      <td>4797.0</td>\n",
       "      <td>1177.0</td>\n",
       "      <td>3.9583</td>\n",
       "      <td>144.400</td>\n",
       "    </tr>\n",
       "    <tr>\n",
       "      <th>11682</th>\n",
       "      <td>-121.30</td>\n",
       "      <td>38.63</td>\n",
       "      <td>31.0</td>\n",
       "      <td>1817.0</td>\n",
       "      <td>372.0</td>\n",
       "      <td>992.0</td>\n",
       "      <td>339.0</td>\n",
       "      <td>3.0972</td>\n",
       "      <td>150.000</td>\n",
       "    </tr>\n",
       "    <tr>\n",
       "      <th>8458</th>\n",
       "      <td>-118.48</td>\n",
       "      <td>34.07</td>\n",
       "      <td>37.0</td>\n",
       "      <td>4042.0</td>\n",
       "      <td>549.0</td>\n",
       "      <td>1318.0</td>\n",
       "      <td>542.0</td>\n",
       "      <td>12.8665</td>\n",
       "      <td>500.001</td>\n",
       "    </tr>\n",
       "    <tr>\n",
       "      <th>14450</th>\n",
       "      <td>-122.13</td>\n",
       "      <td>37.69</td>\n",
       "      <td>17.0</td>\n",
       "      <td>2380.0</td>\n",
       "      <td>769.0</td>\n",
       "      <td>1216.0</td>\n",
       "      <td>643.0</td>\n",
       "      <td>3.3950</td>\n",
       "      <td>271.300</td>\n",
       "    </tr>\n",
       "    <tr>\n",
       "      <th>13505</th>\n",
       "      <td>-121.96</td>\n",
       "      <td>37.51</td>\n",
       "      <td>22.0</td>\n",
       "      <td>5811.0</td>\n",
       "      <td>1125.0</td>\n",
       "      <td>3215.0</td>\n",
       "      <td>1086.0</td>\n",
       "      <td>4.4107</td>\n",
       "      <td>223.500</td>\n",
       "    </tr>\n",
       "    <tr>\n",
       "      <th>3174</th>\n",
       "      <td>-117.84</td>\n",
       "      <td>33.78</td>\n",
       "      <td>24.0</td>\n",
       "      <td>3817.0</td>\n",
       "      <td>787.0</td>\n",
       "      <td>1656.0</td>\n",
       "      <td>713.0</td>\n",
       "      <td>4.2500</td>\n",
       "      <td>248.000</td>\n",
       "    </tr>\n",
       "    <tr>\n",
       "      <th>3290</th>\n",
       "      <td>-117.87</td>\n",
       "      <td>34.09</td>\n",
       "      <td>36.0</td>\n",
       "      <td>1267.0</td>\n",
       "      <td>191.0</td>\n",
       "      <td>640.0</td>\n",
       "      <td>200.0</td>\n",
       "      <td>5.2405</td>\n",
       "      <td>220.000</td>\n",
       "    </tr>\n",
       "    <tr>\n",
       "      <th>9793</th>\n",
       "      <td>-119.68</td>\n",
       "      <td>36.32</td>\n",
       "      <td>26.0</td>\n",
       "      <td>592.0</td>\n",
       "      <td>121.0</td>\n",
       "      <td>268.0</td>\n",
       "      <td>116.0</td>\n",
       "      <td>1.7596</td>\n",
       "      <td>120.800</td>\n",
       "    </tr>\n",
       "    <tr>\n",
       "      <th>7679</th>\n",
       "      <td>-118.37</td>\n",
       "      <td>33.82</td>\n",
       "      <td>39.0</td>\n",
       "      <td>2794.0</td>\n",
       "      <td>444.0</td>\n",
       "      <td>1319.0</td>\n",
       "      <td>441.0</td>\n",
       "      <td>5.8780</td>\n",
       "      <td>387.800</td>\n",
       "    </tr>\n",
       "    <tr>\n",
       "      <th>4515</th>\n",
       "      <td>-118.04</td>\n",
       "      <td>33.78</td>\n",
       "      <td>25.0</td>\n",
       "      <td>3715.0</td>\n",
       "      <td>575.0</td>\n",
       "      <td>1640.0</td>\n",
       "      <td>572.0</td>\n",
       "      <td>5.7705</td>\n",
       "      <td>247.100</td>\n",
       "    </tr>\n",
       "    <tr>\n",
       "      <th>7835</th>\n",
       "      <td>-118.39</td>\n",
       "      <td>33.88</td>\n",
       "      <td>35.0</td>\n",
       "      <td>1267.0</td>\n",
       "      <td>216.0</td>\n",
       "      <td>521.0</td>\n",
       "      <td>191.0</td>\n",
       "      <td>6.0441</td>\n",
       "      <td>470.000</td>\n",
       "    </tr>\n",
       "    <tr>\n",
       "      <th>10790</th>\n",
       "      <td>-120.69</td>\n",
       "      <td>35.52</td>\n",
       "      <td>26.0</td>\n",
       "      <td>2758.0</td>\n",
       "      <td>571.0</td>\n",
       "      <td>1291.0</td>\n",
       "      <td>522.0</td>\n",
       "      <td>2.9250</td>\n",
       "      <td>181.400</td>\n",
       "    </tr>\n",
       "    <tr>\n",
       "      <th>16030</th>\n",
       "      <td>-122.44</td>\n",
       "      <td>37.72</td>\n",
       "      <td>52.0</td>\n",
       "      <td>2890.0</td>\n",
       "      <td>571.0</td>\n",
       "      <td>1769.0</td>\n",
       "      <td>541.0</td>\n",
       "      <td>3.8274</td>\n",
       "      <td>252.000</td>\n",
       "    </tr>\n",
       "    <tr>\n",
       "      <th>9438</th>\n",
       "      <td>-119.25</td>\n",
       "      <td>35.79</td>\n",
       "      <td>8.0</td>\n",
       "      <td>3271.0</td>\n",
       "      <td>797.0</td>\n",
       "      <td>2700.0</td>\n",
       "      <td>688.0</td>\n",
       "      <td>1.7418</td>\n",
       "      <td>62.200</td>\n",
       "    </tr>\n",
       "    <tr>\n",
       "      <th>12672</th>\n",
       "      <td>-121.76</td>\n",
       "      <td>38.94</td>\n",
       "      <td>48.0</td>\n",
       "      <td>540.0</td>\n",
       "      <td>110.0</td>\n",
       "      <td>234.0</td>\n",
       "      <td>74.0</td>\n",
       "      <td>3.6111</td>\n",
       "      <td>67.500</td>\n",
       "    </tr>\n",
       "    <tr>\n",
       "      <th>3663</th>\n",
       "      <td>-117.92</td>\n",
       "      <td>33.82</td>\n",
       "      <td>10.0</td>\n",
       "      <td>1548.0</td>\n",
       "      <td>506.0</td>\n",
       "      <td>1535.0</td>\n",
       "      <td>424.0</td>\n",
       "      <td>4.5057</td>\n",
       "      <td>152.400</td>\n",
       "    </tr>\n",
       "    <tr>\n",
       "      <th>14085</th>\n",
       "      <td>-122.06</td>\n",
       "      <td>37.94</td>\n",
       "      <td>19.0</td>\n",
       "      <td>4005.0</td>\n",
       "      <td>972.0</td>\n",
       "      <td>1896.0</td>\n",
       "      <td>893.0</td>\n",
       "      <td>2.5268</td>\n",
       "      <td>235.700</td>\n",
       "    </tr>\n",
       "    <tr>\n",
       "      <th>7107</th>\n",
       "      <td>-118.32</td>\n",
       "      <td>33.98</td>\n",
       "      <td>49.0</td>\n",
       "      <td>1993.0</td>\n",
       "      <td>446.0</td>\n",
       "      <td>1052.0</td>\n",
       "      <td>394.0</td>\n",
       "      <td>2.2138</td>\n",
       "      <td>119.800</td>\n",
       "    </tr>\n",
       "    <tr>\n",
       "      <th>11521</th>\n",
       "      <td>-121.26</td>\n",
       "      <td>37.96</td>\n",
       "      <td>40.0</td>\n",
       "      <td>535.0</td>\n",
       "      <td>105.0</td>\n",
       "      <td>335.0</td>\n",
       "      <td>102.0</td>\n",
       "      <td>2.5234</td>\n",
       "      <td>62.800</td>\n",
       "    </tr>\n",
       "    <tr>\n",
       "      <th>5273</th>\n",
       "      <td>-118.14</td>\n",
       "      <td>33.97</td>\n",
       "      <td>31.0</td>\n",
       "      <td>2064.0</td>\n",
       "      <td>612.0</td>\n",
       "      <td>2461.0</td>\n",
       "      <td>573.0</td>\n",
       "      <td>2.0524</td>\n",
       "      <td>160.800</td>\n",
       "    </tr>\n",
       "    <tr>\n",
       "      <th>10350</th>\n",
       "      <td>-120.12</td>\n",
       "      <td>36.01</td>\n",
       "      <td>18.0</td>\n",
       "      <td>1165.0</td>\n",
       "      <td>334.0</td>\n",
       "      <td>1119.0</td>\n",
       "      <td>308.0</td>\n",
       "      <td>2.2167</td>\n",
       "      <td>48.500</td>\n",
       "    </tr>\n",
       "    <tr>\n",
       "      <th>6355</th>\n",
       "      <td>-118.26</td>\n",
       "      <td>34.15</td>\n",
       "      <td>14.0</td>\n",
       "      <td>2981.0</td>\n",
       "      <td>894.0</td>\n",
       "      <td>1941.0</td>\n",
       "      <td>863.0</td>\n",
       "      <td>3.0000</td>\n",
       "      <td>178.600</td>\n",
       "    </tr>\n",
       "    <tr>\n",
       "      <th>13656</th>\n",
       "      <td>-121.99</td>\n",
       "      <td>37.81</td>\n",
       "      <td>17.0</td>\n",
       "      <td>465.0</td>\n",
       "      <td>83.0</td>\n",
       "      <td>146.0</td>\n",
       "      <td>75.0</td>\n",
       "      <td>4.9018</td>\n",
       "      <td>188.500</td>\n",
       "    </tr>\n",
       "    <tr>\n",
       "      <th>...</th>\n",
       "      <td>...</td>\n",
       "      <td>...</td>\n",
       "      <td>...</td>\n",
       "      <td>...</td>\n",
       "      <td>...</td>\n",
       "      <td>...</td>\n",
       "      <td>...</td>\n",
       "      <td>...</td>\n",
       "      <td>...</td>\n",
       "    </tr>\n",
       "    <tr>\n",
       "      <th>6846</th>\n",
       "      <td>-118.30</td>\n",
       "      <td>33.99</td>\n",
       "      <td>44.0</td>\n",
       "      <td>1458.0</td>\n",
       "      <td>326.0</td>\n",
       "      <td>1159.0</td>\n",
       "      <td>283.0</td>\n",
       "      <td>1.1645</td>\n",
       "      <td>98.200</td>\n",
       "    </tr>\n",
       "    <tr>\n",
       "      <th>10924</th>\n",
       "      <td>-120.86</td>\n",
       "      <td>37.77</td>\n",
       "      <td>45.0</td>\n",
       "      <td>621.0</td>\n",
       "      <td>129.0</td>\n",
       "      <td>257.0</td>\n",
       "      <td>124.0</td>\n",
       "      <td>1.7188</td>\n",
       "      <td>109.400</td>\n",
       "    </tr>\n",
       "    <tr>\n",
       "      <th>14657</th>\n",
       "      <td>-122.18</td>\n",
       "      <td>38.29</td>\n",
       "      <td>18.0</td>\n",
       "      <td>1953.0</td>\n",
       "      <td>265.0</td>\n",
       "      <td>658.0</td>\n",
       "      <td>270.0</td>\n",
       "      <td>8.0113</td>\n",
       "      <td>393.000</td>\n",
       "    </tr>\n",
       "    <tr>\n",
       "      <th>7468</th>\n",
       "      <td>-118.36</td>\n",
       "      <td>34.18</td>\n",
       "      <td>34.0</td>\n",
       "      <td>1471.0</td>\n",
       "      <td>423.0</td>\n",
       "      <td>995.0</td>\n",
       "      <td>386.0</td>\n",
       "      <td>2.9583</td>\n",
       "      <td>188.700</td>\n",
       "    </tr>\n",
       "    <tr>\n",
       "      <th>12574</th>\n",
       "      <td>-121.67</td>\n",
       "      <td>38.54</td>\n",
       "      <td>13.0</td>\n",
       "      <td>6141.0</td>\n",
       "      <td>1019.0</td>\n",
       "      <td>2553.0</td>\n",
       "      <td>967.0</td>\n",
       "      <td>4.2432</td>\n",
       "      <td>326.500</td>\n",
       "    </tr>\n",
       "    <tr>\n",
       "      <th>2684</th>\n",
       "      <td>-117.68</td>\n",
       "      <td>34.08</td>\n",
       "      <td>21.0</td>\n",
       "      <td>5662.0</td>\n",
       "      <td>1185.0</td>\n",
       "      <td>3067.0</td>\n",
       "      <td>1055.0</td>\n",
       "      <td>3.3482</td>\n",
       "      <td>137.300</td>\n",
       "    </tr>\n",
       "    <tr>\n",
       "      <th>5003</th>\n",
       "      <td>-118.11</td>\n",
       "      <td>33.84</td>\n",
       "      <td>36.0</td>\n",
       "      <td>1523.0</td>\n",
       "      <td>263.0</td>\n",
       "      <td>717.0</td>\n",
       "      <td>278.0</td>\n",
       "      <td>4.8750</td>\n",
       "      <td>218.900</td>\n",
       "    </tr>\n",
       "    <tr>\n",
       "      <th>5402</th>\n",
       "      <td>-118.15</td>\n",
       "      <td>33.85</td>\n",
       "      <td>36.0</td>\n",
       "      <td>1435.0</td>\n",
       "      <td>249.0</td>\n",
       "      <td>606.0</td>\n",
       "      <td>234.0</td>\n",
       "      <td>4.1439</td>\n",
       "      <td>212.600</td>\n",
       "    </tr>\n",
       "    <tr>\n",
       "      <th>15104</th>\n",
       "      <td>-122.26</td>\n",
       "      <td>38.11</td>\n",
       "      <td>52.0</td>\n",
       "      <td>2573.0</td>\n",
       "      <td>639.0</td>\n",
       "      <td>1238.0</td>\n",
       "      <td>529.0</td>\n",
       "      <td>2.6708</td>\n",
       "      <td>109.700</td>\n",
       "    </tr>\n",
       "    <tr>\n",
       "      <th>538</th>\n",
       "      <td>-117.01</td>\n",
       "      <td>34.01</td>\n",
       "      <td>15.0</td>\n",
       "      <td>5592.0</td>\n",
       "      <td>891.0</td>\n",
       "      <td>2419.0</td>\n",
       "      <td>840.0</td>\n",
       "      <td>4.7193</td>\n",
       "      <td>135.200</td>\n",
       "    </tr>\n",
       "    <tr>\n",
       "      <th>6994</th>\n",
       "      <td>-118.31</td>\n",
       "      <td>33.95</td>\n",
       "      <td>44.0</td>\n",
       "      <td>2490.0</td>\n",
       "      <td>430.0</td>\n",
       "      <td>1305.0</td>\n",
       "      <td>411.0</td>\n",
       "      <td>4.8295</td>\n",
       "      <td>149.600</td>\n",
       "    </tr>\n",
       "    <tr>\n",
       "      <th>5434</th>\n",
       "      <td>-118.16</td>\n",
       "      <td>34.16</td>\n",
       "      <td>43.0</td>\n",
       "      <td>1276.0</td>\n",
       "      <td>226.0</td>\n",
       "      <td>545.0</td>\n",
       "      <td>209.0</td>\n",
       "      <td>4.1518</td>\n",
       "      <td>230.700</td>\n",
       "    </tr>\n",
       "    <tr>\n",
       "      <th>10704</th>\n",
       "      <td>-120.61</td>\n",
       "      <td>37.32</td>\n",
       "      <td>18.0</td>\n",
       "      <td>5009.0</td>\n",
       "      <td>826.0</td>\n",
       "      <td>2497.0</td>\n",
       "      <td>805.0</td>\n",
       "      <td>4.2500</td>\n",
       "      <td>146.300</td>\n",
       "    </tr>\n",
       "    <tr>\n",
       "      <th>2511</th>\n",
       "      <td>-117.63</td>\n",
       "      <td>33.62</td>\n",
       "      <td>9.0</td>\n",
       "      <td>4257.0</td>\n",
       "      <td>785.0</td>\n",
       "      <td>1293.0</td>\n",
       "      <td>745.0</td>\n",
       "      <td>3.7139</td>\n",
       "      <td>196.700</td>\n",
       "    </tr>\n",
       "    <tr>\n",
       "      <th>9095</th>\n",
       "      <td>-119.00</td>\n",
       "      <td>35.36</td>\n",
       "      <td>39.0</td>\n",
       "      <td>896.0</td>\n",
       "      <td>217.0</td>\n",
       "      <td>805.0</td>\n",
       "      <td>197.0</td>\n",
       "      <td>1.2500</td>\n",
       "      <td>42.500</td>\n",
       "    </tr>\n",
       "    <tr>\n",
       "      <th>11805</th>\n",
       "      <td>-121.33</td>\n",
       "      <td>38.69</td>\n",
       "      <td>15.0</td>\n",
       "      <td>3137.0</td>\n",
       "      <td>509.0</td>\n",
       "      <td>1635.0</td>\n",
       "      <td>544.0</td>\n",
       "      <td>4.6923</td>\n",
       "      <td>122.700</td>\n",
       "    </tr>\n",
       "    <tr>\n",
       "      <th>16620</th>\n",
       "      <td>-122.72</td>\n",
       "      <td>38.48</td>\n",
       "      <td>23.0</td>\n",
       "      <td>2296.0</td>\n",
       "      <td>356.0</td>\n",
       "      <td>902.0</td>\n",
       "      <td>334.0</td>\n",
       "      <td>6.0298</td>\n",
       "      <td>289.100</td>\n",
       "    </tr>\n",
       "    <tr>\n",
       "      <th>9113</th>\n",
       "      <td>-119.01</td>\n",
       "      <td>35.37</td>\n",
       "      <td>38.0</td>\n",
       "      <td>1702.0</td>\n",
       "      <td>380.0</td>\n",
       "      <td>1191.0</td>\n",
       "      <td>366.0</td>\n",
       "      <td>1.8801</td>\n",
       "      <td>57.800</td>\n",
       "    </tr>\n",
       "    <tr>\n",
       "      <th>10257</th>\n",
       "      <td>-119.99</td>\n",
       "      <td>38.93</td>\n",
       "      <td>23.0</td>\n",
       "      <td>1882.0</td>\n",
       "      <td>414.0</td>\n",
       "      <td>673.0</td>\n",
       "      <td>277.0</td>\n",
       "      <td>2.9091</td>\n",
       "      <td>141.900</td>\n",
       "    </tr>\n",
       "    <tr>\n",
       "      <th>6788</th>\n",
       "      <td>-118.30</td>\n",
       "      <td>34.17</td>\n",
       "      <td>16.0</td>\n",
       "      <td>1353.0</td>\n",
       "      <td>398.0</td>\n",
       "      <td>1211.0</td>\n",
       "      <td>357.0</td>\n",
       "      <td>3.1551</td>\n",
       "      <td>205.000</td>\n",
       "    </tr>\n",
       "    <tr>\n",
       "      <th>2741</th>\n",
       "      <td>-117.69</td>\n",
       "      <td>33.47</td>\n",
       "      <td>23.0</td>\n",
       "      <td>3499.0</td>\n",
       "      <td>722.0</td>\n",
       "      <td>1480.0</td>\n",
       "      <td>634.0</td>\n",
       "      <td>3.8600</td>\n",
       "      <td>300.000</td>\n",
       "    </tr>\n",
       "    <tr>\n",
       "      <th>14065</th>\n",
       "      <td>-122.05</td>\n",
       "      <td>37.34</td>\n",
       "      <td>31.0</td>\n",
       "      <td>1443.0</td>\n",
       "      <td>215.0</td>\n",
       "      <td>627.0</td>\n",
       "      <td>222.0</td>\n",
       "      <td>6.6087</td>\n",
       "      <td>416.500</td>\n",
       "    </tr>\n",
       "    <tr>\n",
       "      <th>15732</th>\n",
       "      <td>-122.40</td>\n",
       "      <td>37.76</td>\n",
       "      <td>52.0</td>\n",
       "      <td>1495.0</td>\n",
       "      <td>311.0</td>\n",
       "      <td>506.0</td>\n",
       "      <td>275.0</td>\n",
       "      <td>4.4375</td>\n",
       "      <td>320.000</td>\n",
       "    </tr>\n",
       "    <tr>\n",
       "      <th>9750</th>\n",
       "      <td>-119.65</td>\n",
       "      <td>36.37</td>\n",
       "      <td>4.0</td>\n",
       "      <td>3725.0</td>\n",
       "      <td>783.0</td>\n",
       "      <td>1478.0</td>\n",
       "      <td>600.0</td>\n",
       "      <td>3.5486</td>\n",
       "      <td>148.000</td>\n",
       "    </tr>\n",
       "    <tr>\n",
       "      <th>15193</th>\n",
       "      <td>-122.27</td>\n",
       "      <td>37.89</td>\n",
       "      <td>52.0</td>\n",
       "      <td>2640.0</td>\n",
       "      <td>366.0</td>\n",
       "      <td>973.0</td>\n",
       "      <td>355.0</td>\n",
       "      <td>7.2660</td>\n",
       "      <td>371.100</td>\n",
       "    </tr>\n",
       "    <tr>\n",
       "      <th>1346</th>\n",
       "      <td>-117.16</td>\n",
       "      <td>32.72</td>\n",
       "      <td>24.0</td>\n",
       "      <td>1232.0</td>\n",
       "      <td>663.0</td>\n",
       "      <td>1184.0</td>\n",
       "      <td>626.0</td>\n",
       "      <td>1.0391</td>\n",
       "      <td>162.500</td>\n",
       "    </tr>\n",
       "    <tr>\n",
       "      <th>10311</th>\n",
       "      <td>-120.07</td>\n",
       "      <td>36.97</td>\n",
       "      <td>28.0</td>\n",
       "      <td>1563.0</td>\n",
       "      <td>403.0</td>\n",
       "      <td>1564.0</td>\n",
       "      <td>408.0</td>\n",
       "      <td>1.5662</td>\n",
       "      <td>48.000</td>\n",
       "    </tr>\n",
       "    <tr>\n",
       "      <th>5564</th>\n",
       "      <td>-118.17</td>\n",
       "      <td>33.90</td>\n",
       "      <td>12.0</td>\n",
       "      <td>3653.0</td>\n",
       "      <td>993.0</td>\n",
       "      <td>3215.0</td>\n",
       "      <td>854.0</td>\n",
       "      <td>2.8681</td>\n",
       "      <td>114.200</td>\n",
       "    </tr>\n",
       "    <tr>\n",
       "      <th>844</th>\n",
       "      <td>-117.07</td>\n",
       "      <td>32.67</td>\n",
       "      <td>35.0</td>\n",
       "      <td>3200.0</td>\n",
       "      <td>725.0</td>\n",
       "      <td>1723.0</td>\n",
       "      <td>610.0</td>\n",
       "      <td>1.8977</td>\n",
       "      <td>95.600</td>\n",
       "    </tr>\n",
       "    <tr>\n",
       "      <th>10554</th>\n",
       "      <td>-120.44</td>\n",
       "      <td>34.65</td>\n",
       "      <td>30.0</td>\n",
       "      <td>2265.0</td>\n",
       "      <td>512.0</td>\n",
       "      <td>1402.0</td>\n",
       "      <td>471.0</td>\n",
       "      <td>1.9750</td>\n",
       "      <td>134.000</td>\n",
       "    </tr>\n",
       "  </tbody>\n",
       "</table>\n",
       "<p>100 rows × 9 columns</p>\n",
       "</div>"
      ],
      "text/plain": [
       "       longitude  latitude  housing_median_age  total_rooms  total_bedrooms  \\\n",
       "15155    -122.26     37.57                23.0       7995.0          1254.0   \n",
       "12943    -121.84     37.39                31.0       5524.0           914.0   \n",
       "3287     -117.87     34.11                34.0       1324.0           211.0   \n",
       "5309     -118.14     33.78                44.0       2101.0           496.0   \n",
       "11475    -121.25     38.66                26.0       3670.0           556.0   \n",
       "14620    -122.17     37.76                47.0       2118.0           413.0   \n",
       "14649    -122.17     37.43                24.0       3924.0          1142.0   \n",
       "995      -117.09     32.55                 8.0       6533.0          1217.0   \n",
       "11682    -121.30     38.63                31.0       1817.0           372.0   \n",
       "8458     -118.48     34.07                37.0       4042.0           549.0   \n",
       "14450    -122.13     37.69                17.0       2380.0           769.0   \n",
       "13505    -121.96     37.51                22.0       5811.0          1125.0   \n",
       "3174     -117.84     33.78                24.0       3817.0           787.0   \n",
       "3290     -117.87     34.09                36.0       1267.0           191.0   \n",
       "9793     -119.68     36.32                26.0        592.0           121.0   \n",
       "7679     -118.37     33.82                39.0       2794.0           444.0   \n",
       "4515     -118.04     33.78                25.0       3715.0           575.0   \n",
       "7835     -118.39     33.88                35.0       1267.0           216.0   \n",
       "10790    -120.69     35.52                26.0       2758.0           571.0   \n",
       "16030    -122.44     37.72                52.0       2890.0           571.0   \n",
       "9438     -119.25     35.79                 8.0       3271.0           797.0   \n",
       "12672    -121.76     38.94                48.0        540.0           110.0   \n",
       "3663     -117.92     33.82                10.0       1548.0           506.0   \n",
       "14085    -122.06     37.94                19.0       4005.0           972.0   \n",
       "7107     -118.32     33.98                49.0       1993.0           446.0   \n",
       "11521    -121.26     37.96                40.0        535.0           105.0   \n",
       "5273     -118.14     33.97                31.0       2064.0           612.0   \n",
       "10350    -120.12     36.01                18.0       1165.0           334.0   \n",
       "6355     -118.26     34.15                14.0       2981.0           894.0   \n",
       "13656    -121.99     37.81                17.0        465.0            83.0   \n",
       "...          ...       ...                 ...          ...             ...   \n",
       "6846     -118.30     33.99                44.0       1458.0           326.0   \n",
       "10924    -120.86     37.77                45.0        621.0           129.0   \n",
       "14657    -122.18     38.29                18.0       1953.0           265.0   \n",
       "7468     -118.36     34.18                34.0       1471.0           423.0   \n",
       "12574    -121.67     38.54                13.0       6141.0          1019.0   \n",
       "2684     -117.68     34.08                21.0       5662.0          1185.0   \n",
       "5003     -118.11     33.84                36.0       1523.0           263.0   \n",
       "5402     -118.15     33.85                36.0       1435.0           249.0   \n",
       "15104    -122.26     38.11                52.0       2573.0           639.0   \n",
       "538      -117.01     34.01                15.0       5592.0           891.0   \n",
       "6994     -118.31     33.95                44.0       2490.0           430.0   \n",
       "5434     -118.16     34.16                43.0       1276.0           226.0   \n",
       "10704    -120.61     37.32                18.0       5009.0           826.0   \n",
       "2511     -117.63     33.62                 9.0       4257.0           785.0   \n",
       "9095     -119.00     35.36                39.0        896.0           217.0   \n",
       "11805    -121.33     38.69                15.0       3137.0           509.0   \n",
       "16620    -122.72     38.48                23.0       2296.0           356.0   \n",
       "9113     -119.01     35.37                38.0       1702.0           380.0   \n",
       "10257    -119.99     38.93                23.0       1882.0           414.0   \n",
       "6788     -118.30     34.17                16.0       1353.0           398.0   \n",
       "2741     -117.69     33.47                23.0       3499.0           722.0   \n",
       "14065    -122.05     37.34                31.0       1443.0           215.0   \n",
       "15732    -122.40     37.76                52.0       1495.0           311.0   \n",
       "9750     -119.65     36.37                 4.0       3725.0           783.0   \n",
       "15193    -122.27     37.89                52.0       2640.0           366.0   \n",
       "1346     -117.16     32.72                24.0       1232.0           663.0   \n",
       "10311    -120.07     36.97                28.0       1563.0           403.0   \n",
       "5564     -118.17     33.90                12.0       3653.0           993.0   \n",
       "844      -117.07     32.67                35.0       3200.0           725.0   \n",
       "10554    -120.44     34.65                30.0       2265.0           512.0   \n",
       "\n",
       "       population  households  median_income  median_house_value  \n",
       "15155      3484.0      1198.0         6.5948             404.000  \n",
       "12943      2848.0       879.0         5.5592             229.900  \n",
       "3287        799.0       228.0         4.5234             192.200  \n",
       "5309       1038.0       500.0         3.1080             217.900  \n",
       "11475      1616.0       550.0         5.0200             169.600  \n",
       "14620       965.0       382.0         2.1842             107.900  \n",
       "14649      7174.0       950.0         4.0972             387.500  \n",
       "995        4797.0      1177.0         3.9583             144.400  \n",
       "11682       992.0       339.0         3.0972             150.000  \n",
       "8458       1318.0       542.0        12.8665             500.001  \n",
       "14450      1216.0       643.0         3.3950             271.300  \n",
       "13505      3215.0      1086.0         4.4107             223.500  \n",
       "3174       1656.0       713.0         4.2500             248.000  \n",
       "3290        640.0       200.0         5.2405             220.000  \n",
       "9793        268.0       116.0         1.7596             120.800  \n",
       "7679       1319.0       441.0         5.8780             387.800  \n",
       "4515       1640.0       572.0         5.7705             247.100  \n",
       "7835        521.0       191.0         6.0441             470.000  \n",
       "10790      1291.0       522.0         2.9250             181.400  \n",
       "16030      1769.0       541.0         3.8274             252.000  \n",
       "9438       2700.0       688.0         1.7418              62.200  \n",
       "12672       234.0        74.0         3.6111              67.500  \n",
       "3663       1535.0       424.0         4.5057             152.400  \n",
       "14085      1896.0       893.0         2.5268             235.700  \n",
       "7107       1052.0       394.0         2.2138             119.800  \n",
       "11521       335.0       102.0         2.5234              62.800  \n",
       "5273       2461.0       573.0         2.0524             160.800  \n",
       "10350      1119.0       308.0         2.2167              48.500  \n",
       "6355       1941.0       863.0         3.0000             178.600  \n",
       "13656       146.0        75.0         4.9018             188.500  \n",
       "...           ...         ...            ...                 ...  \n",
       "6846       1159.0       283.0         1.1645              98.200  \n",
       "10924       257.0       124.0         1.7188             109.400  \n",
       "14657       658.0       270.0         8.0113             393.000  \n",
       "7468        995.0       386.0         2.9583             188.700  \n",
       "12574      2553.0       967.0         4.2432             326.500  \n",
       "2684       3067.0      1055.0         3.3482             137.300  \n",
       "5003        717.0       278.0         4.8750             218.900  \n",
       "5402        606.0       234.0         4.1439             212.600  \n",
       "15104      1238.0       529.0         2.6708             109.700  \n",
       "538        2419.0       840.0         4.7193             135.200  \n",
       "6994       1305.0       411.0         4.8295             149.600  \n",
       "5434        545.0       209.0         4.1518             230.700  \n",
       "10704      2497.0       805.0         4.2500             146.300  \n",
       "2511       1293.0       745.0         3.7139             196.700  \n",
       "9095        805.0       197.0         1.2500              42.500  \n",
       "11805      1635.0       544.0         4.6923             122.700  \n",
       "16620       902.0       334.0         6.0298             289.100  \n",
       "9113       1191.0       366.0         1.8801              57.800  \n",
       "10257       673.0       277.0         2.9091             141.900  \n",
       "6788       1211.0       357.0         3.1551             205.000  \n",
       "2741       1480.0       634.0         3.8600             300.000  \n",
       "14065       627.0       222.0         6.6087             416.500  \n",
       "15732       506.0       275.0         4.4375             320.000  \n",
       "9750       1478.0       600.0         3.5486             148.000  \n",
       "15193       973.0       355.0         7.2660             371.100  \n",
       "1346       1184.0       626.0         1.0391             162.500  \n",
       "10311      1564.0       408.0         1.5662              48.000  \n",
       "5564       3215.0       854.0         2.8681             114.200  \n",
       "844        1723.0       610.0         1.8977              95.600  \n",
       "10554      1402.0       471.0         1.9750             134.000  \n",
       "\n",
       "[100 rows x 9 columns]"
      ]
     },
     "metadata": {},
     "output_type": "display_data"
    }
   ],
   "source": [
    "california_housing_dataframe = california_housing_dataframe.reindex(\n",
    "    np.random.permutation(california_housing_dataframe.index))\n",
    "california_housing_dataframe[\"median_house_value\"] /= 1000.0\n",
    "display(california_housing_dataframe.head(100))"
   ]
  },
  {
   "cell_type": "markdown",
   "metadata": {},
   "source": [
    "---\n",
    "### 데이터 검사\n",
    "작업하기 전에 데이터를 조금이라도 알고있는 것이 좋습니다.\n",
    "\n",
    "각 열에 대한 유용한 통계에 대한 간단한 요약을 확인할 것입니다. 여기에는 평균, 표준 편차, 최대, 최소 및 다양한 quantile과 같은 항목이 포함됩니다.\n",
    "\n"
   ]
  },
  {
   "cell_type": "code",
   "execution_count": null,
   "metadata": {
    "collapsed": true
   },
   "outputs": [],
   "source": [
    "display(california_housing_dataframe.describe())"
   ]
  },
  {
   "cell_type": "markdown",
   "metadata": {},
   "source": [
    "### 경사하강법\n",
    "경사 하강법은 함수의 기울기(그라디언트)를 이용하여 손실을 최소화 하는 최적화 방법입니다. 뒤에서 GradientDescentOptimizer를 이용하여 사용해 보겠습니다.\n"
   ]
  },
  {
   "cell_type": "markdown",
   "metadata": {},
   "source": [
    "### 첫 번째 모델 만들기\n",
    "\n",
    "이 연습에서는 median_house_value를 예측하려고합니다. 이 값이 우리의 레이블 (때로는 대상이라고도 함)이 됩니다. total_rooms를 입력 특징으로 사용하겠습니다.\n",
    "\n",
    "이 데이터는 도시 블록 수준에 해당하므로, 이 특징은 해당 블록의 총 객실 수 또는 해당 블록에 거주하는 총 사용자 수를 각각 반영합니다.\n",
    "\n",
    "모델을 학습하기 위해 TensorFlow contrib.learn 라이브러리에서 제공하는 LinearRegressor 인터페이스를 사용합니다. 이 라이브러리는 많은 입출력 파이프라인과 사용 가능하며, 데이터, 훈련 및 평가 과정을 편리하게 할 수 있는 인터페이스를 제공합니다.\n",
    "\n",
    "먼저 입력 특징(feature) 및, 대상을 정의하고 LinearRegressor 객체를 만듭니다.\n",
    "\n",
    "GradientDescentOptimizer는 미니배치 확률경사하강법 (Mini-Batch Stochastic Gradient Descent,SGD)를 구현합니다. 여기에서 mini-batch의 크기는 batch_size 매개 변수로 지정됩니다. optimizer의 learning_rate 매개 변수에 유의하십시오.이 매개 변수는 그라디언트 단계의 크기를 제어합니다. 안전을 위해 gradient_clip_norm 값도 포함합니다. 이것은 그라디언트가 너무 커서 그라데이션 강하에서 나쁜 결과가 나오는 경우를 피하도록 도와줍니다."
   ]
  },
  {
   "cell_type": "code",
   "execution_count": 162,
   "metadata": {},
   "outputs": [
    {
     "ename": "NameError",
     "evalue": "name 'learn_io' is not defined",
     "output_type": "error",
     "traceback": [
      "\u001b[1;31m---------------------------------------------------------------------------\u001b[0m",
      "\u001b[1;31mNameError\u001b[0m                                 Traceback (most recent call last)",
      "\u001b[1;32m<ipython-input-162-0475d232b4c6>\u001b[0m in \u001b[0;36m<module>\u001b[1;34m()\u001b[0m\n\u001b[0;32m      2\u001b[0m \u001b[0mtargets\u001b[0m \u001b[1;33m=\u001b[0m \u001b[0mcalifornia_housing_dataframe\u001b[0m\u001b[1;33m[\u001b[0m\u001b[1;34m\"median_house_value\"\u001b[0m\u001b[1;33m]\u001b[0m\u001b[1;33m\u001b[0m\u001b[0m\n\u001b[0;32m      3\u001b[0m \u001b[1;33m\u001b[0m\u001b[0m\n\u001b[1;32m----> 4\u001b[1;33m training_input_fn = learn_io.pandas_input_fn(\n\u001b[0m\u001b[0;32m      5\u001b[0m     x=my_feature, y=targets, num_epochs=None, batch_size=1)\n\u001b[0;32m      6\u001b[0m \u001b[1;33m\u001b[0m\u001b[0m\n",
      "\u001b[1;31mNameError\u001b[0m: name 'learn_io' is not defined"
     ]
    }
   ],
   "source": [
    "my_feature = california_housing_dataframe[[\"total_rooms\"]]\n",
    "targets = california_housing_dataframe[\"median_house_value\"]\n",
    "\n",
    "training_input_fn = learn_io.pandas_input_fn(\n",
    "    x=my_feature, y=targets, num_epochs=None, batch_size=1)\n",
    "\n",
    "feature_columns = [tf.contrib.layers.real_valued_column(\"total_rooms\", dimension=1)]\n",
    "\n",
    "linear_regressor = tf.contrib.learn.LinearRegressor(\n",
    "    feature_columns=feature_columns,\n",
    "    optimizer=tf.train.GradientDescentOptimizer(learning_rate=0.00001),\n",
    "    gradient_clip_norm=5.0,\n",
    ")"
   ]
  },
  {
   "cell_type": "markdown",
   "metadata": {},
   "source": [
    "특징 열과 대상 (레이블)에 fit()을 호출하면 모델을 학습하게 됩니다.\n",
    "\n"
   ]
  },
  {
   "cell_type": "code",
   "execution_count": null,
   "metadata": {
    "collapsed": true
   },
   "outputs": [],
   "source": [
    "_ = linear_regressor.fit(\n",
    "    input_fn=training_input_fn,\n",
    "    steps=100\n",
    ")"
   ]
  },
  {
   "cell_type": "markdown",
   "metadata": {},
   "source": [
    "훈련 데이터에 대한 예측을 만들어 훈련 데이터에 얼마나 잘 맞는지 봅시다.\n",
    "\n"
   ]
  },
  {
   "cell_type": "code",
   "execution_count": null,
   "metadata": {
    "collapsed": true
   },
   "outputs": [],
   "source": [
    "prediction_input_fn = learn_io.pandas_input_fn(\n",
    "    x=my_feature, y=targets, num_epochs=1, shuffle=False)\n",
    "\n",
    "predictions = list(linear_regressor.predict(input_fn=prediction_input_fn))\n",
    "mean_squared_error = metrics.mean_squared_error(predictions, targets)\n",
    "print(\"Mean Squared Error (on training data): %0.3f\" % mean_squared_error)\n",
    "print(\"Root Mean Squared Error (on training data): %0.3f\" % math.sqrt(mean_squared_error))"
   ]
  },
  {
   "cell_type": "markdown",
   "metadata": {},
   "source": [
    "### 모델 평가\n",
    "좋아요, 모델 훈련은 쉬웠습니다! 그러나 이것은 좋은 모델일까요? 오류의 크기를 어떻게 판단 하시겠습니까?\n",
    "\n",
    "평균 제곱 오류는 해석하기가 어려울 수 있으므로 대신 RMSE (평균 제곱근 편차)를 참조하십시오. RMSE는 원래 대상과 동일한 축척으로 해석 될 수있는 좋은 특성을 가지고 있습니다.\n",
    "\n",
    "RMSE를 실제값(y)의 최소값~최대값 범위와 비교하여 대략적으로 RMSE 값이 얼마나 큰 값인지 알 수 있습니다.\n",
    "\n",
    "더 잘 할 수 있을까요?\n",
    "\n",
    "이것은 모든 모델 개발자에게 중요한 질문입니다. 몇 가지 지침을 제공하는 데 도움이되는 몇 가지 기본 전략을 개발해 보겠습니다.\n",
    "\n",
    "우리가 할 수 있는 첫 번째 일은 전체 요약 통계의 관점에서 우리의 예측이 우리의 목표와 얼마나 잘 일치하는지 살펴 보는 것입니다."
   ]
  },
  {
   "cell_type": "code",
   "execution_count": 163,
   "metadata": {},
   "outputs": [
    {
     "ename": "NameError",
     "evalue": "name 'predictions' is not defined",
     "output_type": "error",
     "traceback": [
      "\u001b[1;31m---------------------------------------------------------------------------\u001b[0m",
      "\u001b[1;31mNameError\u001b[0m                                 Traceback (most recent call last)",
      "\u001b[1;32m<ipython-input-163-fd2245508aaa>\u001b[0m in \u001b[0;36m<module>\u001b[1;34m()\u001b[0m\n\u001b[0;32m      1\u001b[0m \u001b[0mcalibration_data\u001b[0m \u001b[1;33m=\u001b[0m \u001b[0mpd\u001b[0m\u001b[1;33m.\u001b[0m\u001b[0mDataFrame\u001b[0m\u001b[1;33m(\u001b[0m\u001b[1;33m)\u001b[0m\u001b[1;33m\u001b[0m\u001b[0m\n\u001b[1;32m----> 2\u001b[1;33m \u001b[0mcalibration_data\u001b[0m\u001b[1;33m[\u001b[0m\u001b[1;34m\"predictions\"\u001b[0m\u001b[1;33m]\u001b[0m \u001b[1;33m=\u001b[0m \u001b[0mpd\u001b[0m\u001b[1;33m.\u001b[0m\u001b[0mSeries\u001b[0m\u001b[1;33m(\u001b[0m\u001b[0mpredictions\u001b[0m\u001b[1;33m)\u001b[0m\u001b[1;33m\u001b[0m\u001b[0m\n\u001b[0m\u001b[0;32m      3\u001b[0m \u001b[0mcalibration_data\u001b[0m\u001b[1;33m[\u001b[0m\u001b[1;34m\"targets\"\u001b[0m\u001b[1;33m]\u001b[0m \u001b[1;33m=\u001b[0m \u001b[0mpd\u001b[0m\u001b[1;33m.\u001b[0m\u001b[0mSeries\u001b[0m\u001b[1;33m(\u001b[0m\u001b[0mtargets\u001b[0m\u001b[1;33m)\u001b[0m\u001b[1;33m\u001b[0m\u001b[0m\n\u001b[0;32m      4\u001b[0m \u001b[0mdisplay\u001b[0m\u001b[1;33m(\u001b[0m\u001b[0mcalibration_data\u001b[0m\u001b[1;33m.\u001b[0m\u001b[0mdescribe\u001b[0m\u001b[1;33m(\u001b[0m\u001b[1;33m)\u001b[0m\u001b[1;33m)\u001b[0m\u001b[1;33m\u001b[0m\u001b[0m\n",
      "\u001b[1;31mNameError\u001b[0m: name 'predictions' is not defined"
     ]
    }
   ],
   "source": [
    "calibration_data = pd.DataFrame()\n",
    "calibration_data[\"predictions\"] = pd.Series(predictions)\n",
    "calibration_data[\"targets\"] = pd.Series(targets)\n",
    "display(calibration_data.describe())"
   ]
  },
  {
   "cell_type": "markdown",
   "metadata": {},
   "source": [
    "이 정보가 도움이 될지도 모릅니다. 평균값은 모델의 RMSE와 어떤 차이가 있습니까? 다양한 분위수(quantile)는 어떻습니까?\n",
    "\n",
    "우리는 또한 우리가 배운 데이터와 선을 시각화 할 수 있습니다. 단일 특징에 대한 선형 회귀는 입력을 출력 x로 매핑하는 선으로 그릴 수 있습니다.\n",
    "\n",
    "먼저 데이터의 일정한 무작위 표본을 얻습니다. 이것은 산포도(scatter plot)을 읽기 쉽게 만드는 데 유용합니다."
   ]
  },
  {
   "cell_type": "code",
   "execution_count": 164,
   "metadata": {
    "collapsed": true
   },
   "outputs": [],
   "source": [
    "sample = california_housing_dataframe.sample(n=300)"
   ]
  },
  {
   "cell_type": "markdown",
   "metadata": {},
   "source": [
    "그런 다음 모형의 편향(bias) 항 및 특징 가중치를 함께 스캐터 플롯으로 그립니다. 선이 빨간색으로 보일 것입니다.\n",
    "\n"
   ]
  },
  {
   "cell_type": "code",
   "execution_count": 165,
   "metadata": {},
   "outputs": [
    {
     "ename": "NameError",
     "evalue": "name 'linear_regressor' is not defined",
     "output_type": "error",
     "traceback": [
      "\u001b[1;31m---------------------------------------------------------------------------\u001b[0m",
      "\u001b[1;31mNameError\u001b[0m                                 Traceback (most recent call last)",
      "\u001b[1;32m<ipython-input-165-1bf658d8ec52>\u001b[0m in \u001b[0;36m<module>\u001b[1;34m()\u001b[0m\n\u001b[0;32m      1\u001b[0m \u001b[0mx_0\u001b[0m \u001b[1;33m=\u001b[0m \u001b[0msample\u001b[0m\u001b[1;33m[\u001b[0m\u001b[1;34m\"total_rooms\"\u001b[0m\u001b[1;33m]\u001b[0m\u001b[1;33m.\u001b[0m\u001b[0mmin\u001b[0m\u001b[1;33m(\u001b[0m\u001b[1;33m)\u001b[0m\u001b[1;33m\u001b[0m\u001b[0m\n\u001b[0;32m      2\u001b[0m \u001b[0mx_1\u001b[0m \u001b[1;33m=\u001b[0m \u001b[0msample\u001b[0m\u001b[1;33m[\u001b[0m\u001b[1;34m\"total_rooms\"\u001b[0m\u001b[1;33m]\u001b[0m\u001b[1;33m.\u001b[0m\u001b[0mmax\u001b[0m\u001b[1;33m(\u001b[0m\u001b[1;33m)\u001b[0m\u001b[1;33m\u001b[0m\u001b[0m\n\u001b[1;32m----> 3\u001b[1;33m \u001b[0my_0\u001b[0m \u001b[1;33m=\u001b[0m \u001b[0mlinear_regressor\u001b[0m\u001b[1;33m.\u001b[0m\u001b[0mweights_\u001b[0m\u001b[1;33m[\u001b[0m\u001b[1;36m0\u001b[0m\u001b[1;33m]\u001b[0m \u001b[1;33m*\u001b[0m \u001b[0mx_0\u001b[0m \u001b[1;33m+\u001b[0m \u001b[0mlinear_regressor\u001b[0m\u001b[1;33m.\u001b[0m\u001b[0mbias_\u001b[0m\u001b[1;33m\u001b[0m\u001b[0m\n\u001b[0m\u001b[0;32m      4\u001b[0m \u001b[0my_1\u001b[0m \u001b[1;33m=\u001b[0m \u001b[0mlinear_regressor\u001b[0m\u001b[1;33m.\u001b[0m\u001b[0mweights_\u001b[0m\u001b[1;33m[\u001b[0m\u001b[1;36m0\u001b[0m\u001b[1;33m]\u001b[0m \u001b[1;33m*\u001b[0m \u001b[0mx_1\u001b[0m \u001b[1;33m+\u001b[0m \u001b[0mlinear_regressor\u001b[0m\u001b[1;33m.\u001b[0m\u001b[0mbias_\u001b[0m\u001b[1;33m\u001b[0m\u001b[0m\n\u001b[0;32m      5\u001b[0m \u001b[0mplt\u001b[0m\u001b[1;33m.\u001b[0m\u001b[0mplot\u001b[0m\u001b[1;33m(\u001b[0m\u001b[1;33m[\u001b[0m\u001b[0mx_0\u001b[0m\u001b[1;33m,\u001b[0m \u001b[0mx_1\u001b[0m\u001b[1;33m]\u001b[0m\u001b[1;33m,\u001b[0m \u001b[1;33m[\u001b[0m\u001b[0my_0\u001b[0m\u001b[1;33m,\u001b[0m \u001b[0my_1\u001b[0m\u001b[1;33m]\u001b[0m\u001b[1;33m,\u001b[0m \u001b[0mc\u001b[0m\u001b[1;33m=\u001b[0m\u001b[1;34m'r'\u001b[0m\u001b[1;33m)\u001b[0m\u001b[1;33m\u001b[0m\u001b[0m\n",
      "\u001b[1;31mNameError\u001b[0m: name 'linear_regressor' is not defined"
     ]
    }
   ],
   "source": [
    "x_0 = sample[\"total_rooms\"].min()\n",
    "x_1 = sample[\"total_rooms\"].max()\n",
    "y_0 = linear_regressor.weights_[0] * x_0 + linear_regressor.bias_\n",
    "y_1 = linear_regressor.weights_[0] * x_1 + linear_regressor.bias_\n",
    "plt.plot([x_0, x_1], [y_0, y_1], c='r')\n",
    "plt.ylabel(\"median_house_value\")\n",
    "plt.xlabel(\"total_rooms\")\n",
    "plt.scatter(sample[\"total_rooms\"], sample[\"median_house_value\"])\n",
    "plt.show()"
   ]
  },
  {
   "cell_type": "markdown",
   "metadata": {},
   "source": [
    "예측 모델(빨간선)을 보면 데이터를 제대로 예측하지 못하고 있 음을 알 수 있습니다. 위 요약 통계 (calibration_data.describe())를 다시 보고 이러한 사실을 알아 낼 수 있는지 확인하십시오. 이러한 초기 온전성 검사 과정을 통해 우리는 좀더 나은 모델을 찾아야 함을 알 수 있습니다.\n",
    "\n"
   ]
  },
  {
   "cell_type": "markdown",
   "metadata": {},
   "source": [
    "---\n",
    "### 모델 매개 변수 조정\n",
    "이 연습에서는 위의 모든 코드를 편의를 위해 단일 함수에 넣었습니다. 다른 매개 변수로 함수를 호출하여 그 영향을 볼 수 있습니다.\n",
    "\n",
    "이 함수에서 우리는 각 기간에 모델 개선을 관찰 할 수 있도록 균등하게 분할 된 10 개의 기간으로 진행할 것입니다.\n",
    "\n",
    "각 기간에 대해 훈련 손실을 계산하고 이를 그래프로 나타냅니다. 이는 모델이 수렴되는 시기를 판단하거나 반복이 더 필요한지 판단하는 데 도움이 될 수 있습니다.\n",
    "\n",
    "시간이 지남에 따라 모델의 가중치(weights)와 편향(bias)값의 변화 과정을 시각화하여 모델이 수렴했는지 확인할 수 있습니다.\n",
    "\n",
    "\n"
   ]
  },
  {
   "cell_type": "code",
   "execution_count": 166,
   "metadata": {
    "collapsed": true
   },
   "outputs": [],
   "source": [
    "def train_model(learning_rate, steps, batch_size, input_feature=\"total_rooms\"):\n",
    "  \"\"\"하나의 특징에 대한 선형 회귀 모델을 훈련합니다.\n",
    "\n",
    "  Args:\n",
    "    learning_rate: `float`, 학습율.\n",
    "    steps: 0이 아닌 `int`, 총 훈련 단계 수. 훈련 단계는 단일 배치를 사용하며,\n",
    "      forward 및 backward 패스로 구성됩니다.\n",
    "    batch_size: 0이 아닌 `int`, 배치 크기.\n",
    "    input_feature: 입력 특징으로 사용하기 위한 `california_housing_dataframe`의 지정한 열.  `string`\n",
    "  \"\"\"\n",
    "\n",
    "  periods = 10\n",
    "  steps_per_period = steps / periods\n",
    "\n",
    "  # total_rooms 의 데이터를 이용하여 median_house_value 를 예측하는 모델을 만들겠습니다.\n",
    "  # 이를 위해 다음과 같이 파이프라인을 정의합니다.\n",
    "  my_feature = input_feature\n",
    "  my_feature_column = california_housing_dataframe[[my_feature]]\n",
    "  my_label = \"median_house_value\"\n",
    "  targets = california_housing_dataframe[my_label]\n",
    "\n",
    "  # 특징 열 만들기\n",
    "  feature_columns = [tf.contrib.layers.real_valued_column(my_feature, dimension=1)]\n",
    "\n",
    "  # 입력 함수들 만들기\n",
    "  # 특징 열과 대상 (레이블)에 fit()을 호출하면 모델을 학습하게 됩니다. \n",
    "  # 학습 데이터는 learn_io.pandas_input_fn 을 이용하여 미니배치 형태로 구성됩니다.\n",
    "  training_input_fn = learn_io.pandas_input_fn(\n",
    "    x=my_feature_column, y=targets, num_epochs=None, batch_size=batch_size)\n",
    "  prediction_input_fn = learn_io.pandas_input_fn(\n",
    "    x=my_feature_column, y=targets, num_epochs=1, shuffle=False)\n",
    "\n",
    "  # 선형 회귀 오브젝트 만들기\n",
    "  linear_regressor = tf.contrib.learn.LinearRegressor(\n",
    "      feature_columns=feature_columns,\n",
    "      optimizer=tf.train.GradientDescentOptimizer(learning_rate=learning_rate),\n",
    "      gradient_clip_norm=5.0\n",
    "  )\n",
    "\n",
    "  # 각 주기별로 모델의 상태를 플롯하기 위해 준비\n",
    "  plt.clf()\n",
    "  plt.close()\n",
    "  plt.figure(figsize=(15, 6))\n",
    "  plt.subplot(1, 2, 1)\n",
    "  plt.title(\"Learned Line by Period\")\n",
    "  plt.ylabel(my_label)\n",
    "  plt.xlabel(my_feature)\n",
    "  sample = california_housing_dataframe.sample(n=300)\n",
    "  plt.scatter(sample[my_feature], sample[my_label])\n",
    "  colors = [cm.coolwarm(x) for x in np.linspace(-1, 1, periods)]\n",
    "\n",
    "  # 모델을 훈련 시키되 루프 내부에서 수행하여 손실 매트릭을 주기적으로 평가할 수 있습니다.\n",
    "  print(\"Training model...\")\n",
    "  print(\"RMSE (on training data):\")\n",
    "  root_mean_squared_errors = []\n",
    "  for period in range (0, periods):\n",
    "    # 이전 상태에서 시작하여 모델을 교육.\n",
    "    linear_regressor.fit(\n",
    "        input_fn=training_input_fn,\n",
    "        steps=steps_per_period\n",
    "    )\n",
    "    # 잠시 멈추고 예측을 계산합니다.\n",
    "    predictions = list(linear_regressor.predict(\n",
    "        input_fn=prediction_input_fn))\n",
    "    # 손실 계산.\n",
    "    root_mean_squared_error = math.sqrt(\n",
    "        metrics.mean_squared_error(predictions, targets))\n",
    "    # 주기적으로 현재의 손실을 출력.\n",
    "    print(\"  period %02d : %0.2f\" % (period, root_mean_squared_error))\n",
    "    # 이번 주기의 손실 매트릭을 리스트에 추가.\n",
    "    root_mean_squared_errors.append(root_mean_squared_error)\n",
    "    # 마지막으로 시간 경과에 따라 가중치와 편향을 추적합니다.\n",
    "    # 몇 가지 수학을 적용하여 데이터와 선이 깔끔하게 정리되도록 합니다.\n",
    "    y_extents = np.array([0, sample[my_label].max()])\n",
    "    x_extents = (y_extents - linear_regressor.bias_) / linear_regressor.weights_[0]\n",
    "    x_extents = np.maximum(np.minimum(x_extents,\n",
    "                                      sample[my_feature].max()),\n",
    "                           sample[my_feature].min())\n",
    "    y_extents = linear_regressor.weights_[0] * x_extents + linear_regressor.bias_\n",
    "    plt.plot(x_extents, y_extents, color=colors[period]) \n",
    "  print(\"Model training finished.\")\n",
    "\n",
    "  # 주기에 따른 손실 매트릭 그래프 출력\n",
    "  plt.subplot(1, 2, 2)\n",
    "  plt.ylabel('RMSE')\n",
    "  plt.xlabel('Periods')\n",
    "  plt.title(\"Root Mean Squared Error vs. Periods\")\n",
    "  plt.plot(root_mean_squared_errors)\n",
    "  plt.show()\n",
    "  # 보정 데이터가 있는 표를 출력합니다.\n",
    "  calibration_data = pd.DataFrame()\n",
    "  calibration_data[\"predictions\"] = pd.Series(predictions)\n",
    "  calibration_data[\"targets\"] = pd.Series(targets)\n",
    "  display(calibration_data.describe())\n",
    "\n",
    "  print(\"Final RMSE (on training data): %0.2f\" % root_mean_squared_error)"
   ]
  },
  {
   "cell_type": "markdown",
   "metadata": {},
   "source": [
    "---\n",
    "### 과제 1 : 손실을 개선하고 대상 분포에 더 맞게 조정하기\n",
    "\n",
    "목표는 RMSE에서 약 180 점 이하의 값을 얻으려고 시도하는 것입니다.\n",
    "\n",
    "시도한 지 5 분이 지나도 180점 이하의 RMSE를 얻지 못했을 때 가능한 조합에 대한 답안을 확인하십시오.\n",
    "\n"
   ]
  },
  {
   "cell_type": "code",
   "execution_count": null,
   "metadata": {
    "collapsed": true
   },
   "outputs": [],
   "source": [
    "train_model(\n",
    "    learning_rate=0.00001,\n",
    "    steps=100,\n",
    "    batch_size=1\n",
    ")"
   ]
  },
  {
   "cell_type": "code",
   "execution_count": 167,
   "metadata": {},
   "outputs": [
    {
     "ename": "NameError",
     "evalue": "name 'learn_io' is not defined",
     "output_type": "error",
     "traceback": [
      "\u001b[1;31m---------------------------------------------------------------------------\u001b[0m",
      "\u001b[1;31mNameError\u001b[0m                                 Traceback (most recent call last)",
      "\u001b[1;32m<ipython-input-167-b6508addbca3>\u001b[0m in \u001b[0;36m<module>\u001b[1;34m()\u001b[0m\n\u001b[0;32m      5\u001b[0m     \u001b[0mlearning_rate\u001b[0m\u001b[1;33m=\u001b[0m\u001b[1;36m0.00002\u001b[0m\u001b[1;33m,\u001b[0m\u001b[1;33m\u001b[0m\u001b[0m\n\u001b[0;32m      6\u001b[0m     \u001b[0msteps\u001b[0m\u001b[1;33m=\u001b[0m\u001b[1;36m500\u001b[0m\u001b[1;33m,\u001b[0m\u001b[1;33m\u001b[0m\u001b[0m\n\u001b[1;32m----> 7\u001b[1;33m     \u001b[0mbatch_size\u001b[0m\u001b[1;33m=\u001b[0m\u001b[1;36m5\u001b[0m\u001b[1;33m\u001b[0m\u001b[0m\n\u001b[0m\u001b[0;32m      8\u001b[0m )\n",
      "\u001b[1;32m<ipython-input-166-8f317ee18d57>\u001b[0m in \u001b[0;36mtrain_model\u001b[1;34m(learning_rate, steps, batch_size, input_feature)\u001b[0m\n\u001b[0;32m     26\u001b[0m   \u001b[1;31m# 특징 열과 대상 (레이블)에 fit()을 호출하면 모델을 학습하게 됩니다.\u001b[0m\u001b[1;33m\u001b[0m\u001b[1;33m\u001b[0m\u001b[0m\n\u001b[0;32m     27\u001b[0m   \u001b[1;31m# 학습 데이터는 learn_io.pandas_input_fn 을 이용하여 미니배치 형태로 구성됩니다.\u001b[0m\u001b[1;33m\u001b[0m\u001b[1;33m\u001b[0m\u001b[0m\n\u001b[1;32m---> 28\u001b[1;33m   training_input_fn = learn_io.pandas_input_fn(\n\u001b[0m\u001b[0;32m     29\u001b[0m     x=my_feature_column, y=targets, num_epochs=None, batch_size=batch_size)\n\u001b[0;32m     30\u001b[0m   prediction_input_fn = learn_io.pandas_input_fn(\n",
      "\u001b[1;31mNameError\u001b[0m: name 'learn_io' is not defined"
     ]
    }
   ],
   "source": [
    "# 아래는 가능한 하나의 설정값일 뿐입니다. 좋은 결과를 보여주는\n",
    "# 다른 매개 변수 조합이 있을 수 있습니다. 이 연습은 하나의 최선의 설정 조합을\n",
    "# 찾고자 하는 것이 아니라 매개 변수 설정을 탐색하는 경험을 얻고자 하는 것입니다.\n",
    "train_model(\n",
    "    learning_rate=0.00002,\n",
    "    steps=500,\n",
    "    batch_size=5\n",
    ")"
   ]
  },
  {
   "cell_type": "markdown",
   "metadata": {},
   "source": [
    "---\n",
    "### 모델 튜닝이란?\n",
    "\n",
    "모델의 가중치(weights) 와 편향값(bias)을 매개변수라고 하고 이 외에 학습을 시작하기 전에 정해지는 값들을 하이퍼 매개변수(hyper parameters)라고 합니다.\n",
    "\n",
    "다음과 같은 값들입니다.\n",
    "\n",
    "* 학습 속도(learning rate)\n",
    "* 배치 사이즈\n",
    "최적의 하이퍼 매개변수를 찾는 과정을 모델 튜닝 이라고 합니다.\n",
    "\n",
    "### 모델 튜닝을 위한 표준 방법이 있습니까?\n",
    "자주 묻는 질문입니다. 간단히 말해서 하이퍼 매개 변수들의 영향은 데이터에 따라 다릅니다. 그래서 쉽고 빠른 규칙이 없습니다. 데이터에 대해 실험을 반복하는 것만이 유일한 방법입니다.\n",
    "\n",
    "다음은 모델 튜닝을 돕기 위한 팁입니다.\n",
    "\n",
    "* 훈련 오류(error)는 꾸준히 감소하고 처음에는 가파르게 증가하다 일정한 값으로 수렴되면서 평평한 상태에 놓일 것입니다.\n",
    "* 모델이 수렴되지 않은 경우 더 오래 실행하십시오.\n",
    "* 학습 오류가 너무 느리게 감소하면 학습율 (learning rate)을 높이면 학습 속도가 빨라집니다.\n",
    "> 그러나 학습 속도가 너무 높으면 오히려 학습이 불가능해질 수 있습니다.\n",
    "* 훈련 오류가 격렬하게 변하는 경우 학습율을 줄이십시오.\n",
    "> 학습률이 낮을 경우 더 많은 단계와 더 큰 배치 크기로 결과를 좋게 만들 수 있습니다.\n",
    "* 배치 크기가 매우 작으면 불안정 할 수도 있습니다. (일반적으로 64, 128, 256, 512, 1024 등의 값을 선택합니다.) 먼저 100이나 1000과 같은 더 큰 값을 시도해보세요. 모델의 크기와 메모리 사이즈에 영향을 받기 때문에 메모리가 부족하면 배치 크기를 줄이십시오.\n",
    "\n",
    "위 방법은 데이터에 따라 다르기 때문에 이러한 규칙을 과신하지 마십시오. 항상 실험하고 확인하십시오.\n"
   ]
  },
  {
   "cell_type": "markdown",
   "metadata": {},
   "source": [
    "### 과제 2 : 다른 특징을 사용해 보기\n",
    "\n",
    "total_rooms 특징을 population 특징으로 대체하여 더 잘 수행 할 수 있는지 확인하십시오.\n",
    "\n"
   ]
  },
  {
   "cell_type": "code",
   "execution_count": 168,
   "metadata": {},
   "outputs": [
    {
     "ename": "NameError",
     "evalue": "name 'learn_io' is not defined",
     "output_type": "error",
     "traceback": [
      "\u001b[1;31m---------------------------------------------------------------------------\u001b[0m",
      "\u001b[1;31mNameError\u001b[0m                                 Traceback (most recent call last)",
      "\u001b[1;32m<ipython-input-168-db30f5ab825a>\u001b[0m in \u001b[0;36m<module>\u001b[1;34m()\u001b[0m\n\u001b[0;32m      3\u001b[0m     \u001b[0msteps\u001b[0m\u001b[1;33m=\u001b[0m\u001b[1;36m1000\u001b[0m\u001b[1;33m,\u001b[0m\u001b[1;33m\u001b[0m\u001b[0m\n\u001b[0;32m      4\u001b[0m     \u001b[0mbatch_size\u001b[0m\u001b[1;33m=\u001b[0m\u001b[1;36m5\u001b[0m\u001b[1;33m,\u001b[0m\u001b[1;33m\u001b[0m\u001b[0m\n\u001b[1;32m----> 5\u001b[1;33m     \u001b[0minput_feature\u001b[0m\u001b[1;33m=\u001b[0m\u001b[1;34m\"population\"\u001b[0m\u001b[1;33m\u001b[0m\u001b[0m\n\u001b[0m\u001b[0;32m      6\u001b[0m )\n",
      "\u001b[1;32m<ipython-input-166-8f317ee18d57>\u001b[0m in \u001b[0;36mtrain_model\u001b[1;34m(learning_rate, steps, batch_size, input_feature)\u001b[0m\n\u001b[0;32m     26\u001b[0m   \u001b[1;31m# 특징 열과 대상 (레이블)에 fit()을 호출하면 모델을 학습하게 됩니다.\u001b[0m\u001b[1;33m\u001b[0m\u001b[1;33m\u001b[0m\u001b[0m\n\u001b[0;32m     27\u001b[0m   \u001b[1;31m# 학습 데이터는 learn_io.pandas_input_fn 을 이용하여 미니배치 형태로 구성됩니다.\u001b[0m\u001b[1;33m\u001b[0m\u001b[1;33m\u001b[0m\u001b[0m\n\u001b[1;32m---> 28\u001b[1;33m   training_input_fn = learn_io.pandas_input_fn(\n\u001b[0m\u001b[0;32m     29\u001b[0m     x=my_feature_column, y=targets, num_epochs=None, batch_size=batch_size)\n\u001b[0;32m     30\u001b[0m   prediction_input_fn = learn_io.pandas_input_fn(\n",
      "\u001b[1;31mNameError\u001b[0m: name 'learn_io' is not defined"
     ]
    }
   ],
   "source": [
    "train_model(\n",
    "    learning_rate=0.00002,\n",
    "    steps=1000,\n",
    "    batch_size=5,\n",
    "    input_feature=\"population\"\n",
    ")"
   ]
  },
  {
   "cell_type": "markdown",
   "metadata": {},
   "source": [
    "---\n",
    "## 합성 특징과 특이값\n"
   ]
  },
  {
   "cell_type": "code",
   "execution_count": 169,
   "metadata": {},
   "outputs": [
    {
     "ename": "ImportError",
     "evalue": "No module named 'sorna'",
     "output_type": "error",
     "traceback": [
      "\u001b[1;31m---------------------------------------------------------------------------\u001b[0m",
      "\u001b[1;31mImportError\u001b[0m                               Traceback (most recent call last)",
      "\u001b[1;32m<ipython-input-169-3f23e0cf03cf>\u001b[0m in \u001b[0;36m<module>\u001b[1;34m()\u001b[0m\n\u001b[0;32m      1\u001b[0m \u001b[1;32mimport\u001b[0m \u001b[0mmath\u001b[0m\u001b[1;33m\u001b[0m\u001b[0m\n\u001b[0;32m      2\u001b[0m \u001b[1;33m\u001b[0m\u001b[0m\n\u001b[1;32m----> 3\u001b[1;33m \u001b[1;32mfrom\u001b[0m \u001b[0msorna\u001b[0m\u001b[1;33m.\u001b[0m\u001b[0mdisplay\u001b[0m \u001b[1;32mimport\u001b[0m \u001b[0mdisplay\u001b[0m\u001b[1;33m\u001b[0m\u001b[0m\n\u001b[0m\u001b[0;32m      4\u001b[0m \u001b[1;32mfrom\u001b[0m \u001b[0mmatplotlib\u001b[0m \u001b[1;32mimport\u001b[0m \u001b[0mcm\u001b[0m\u001b[1;33m\u001b[0m\u001b[0m\n\u001b[0;32m      5\u001b[0m \u001b[1;32mfrom\u001b[0m \u001b[0mmatplotlib\u001b[0m \u001b[1;32mimport\u001b[0m \u001b[0mgridspec\u001b[0m\u001b[1;33m\u001b[0m\u001b[0m\n",
      "\u001b[1;31mImportError\u001b[0m: No module named 'sorna'"
     ]
    }
   ],
   "source": [
    "import math\n",
    "\n",
    "from sorna.display import display\n",
    "from matplotlib import cm\n",
    "from matplotlib import gridspec\n",
    "import matplotlib.pyplot as plt\n",
    "import numpy as np\n",
    "import pandas as pd\n",
    "import sklearn.metrics as metrics\n",
    "import tensorflow as tf\n",
    "from tensorflow.contrib.learn.python.learn import learn_io\n",
    "\n",
    "tf.logging.set_verbosity(tf.logging.ERROR)\n",
    "pd.options.display.max_rows = 10\n",
    "pd.options.display.float_format = '{:.1f}'.format\n",
    "\n",
    "california_housing_dataframe = pd.read_csv(\"http://datasets.lablup.ai/public/tutorials/california_housing_train.csv\", sep=\",\")\n",
    "\n",
    "california_housing_dataframe = california_housing_dataframe.reindex(\n",
    "    np.random.permutation(california_housing_dataframe.index))\n",
    "california_housing_dataframe[\"median_house_value\"] /= 1000.0\n",
    "display(california_housing_dataframe.head(100))"
   ]
  },
  {
   "cell_type": "code",
   "execution_count": null,
   "metadata": {
    "collapsed": true
   },
   "outputs": [],
   "source": [
    "def train_model(learning_rate, steps, batch_size, input_feature):\n",
    "  \"\"\"선형 회귀 모델을 훈련합니다.\n",
    "\n",
    "  Args:\n",
    "    learning_rate: `float`, 학습율.\n",
    "    steps: 0이 아닌 `int`, 총 훈련 단계 수. \n",
    "      훈련 단계는 단일 배치를 사용하는 전진 및 역진 통과(forward/backward pass)로 구성됩니다. \n",
    "    batch_size: 0이 아닌 `int`, 배치 크기.\n",
    "    input_feature: 입력 특징으로 쓰기 위하여 `california_housing_dataframe`에서 지정한\n",
    "      열 이름 `string`.\n",
    "\n",
    "  Returns:\n",
    "    모델 훈련 후 목표 및 그에 해당하는 예측을 담은 Pandas `DataFrame`.\n",
    "  \"\"\"\n",
    "\n",
    "  periods = 10\n",
    "  steps_per_period = steps / periods\n",
    "\n",
    "  my_feature = input_feature\n",
    "  my_feature_column = california_housing_dataframe[[my_feature]].astype('float32')\n",
    "  my_label = \"median_house_value\"\n",
    "  targets = california_housing_dataframe[my_label].astype('float32')\n",
    "\n",
    "  # 입력 함수들 만들기\n",
    "  training_input_fn = learn_io.pandas_input_fn(\n",
    "     x=my_feature_column, y=targets,\n",
    "     num_epochs=None, batch_size=batch_size)\n",
    "  predict_training_input_fn = learn_io.pandas_input_fn(\n",
    "     x=my_feature_column, y=targets,\n",
    "     num_epochs=1, shuffle=False)\n",
    "\n",
    "  # 선형 회귀 객체 만들기\n",
    "  feature_columns = [tf.contrib.layers.real_valued_column(my_feature)]\n",
    "  linear_regressor = tf.contrib.learn.LinearRegressor(\n",
    "      feature_columns=feature_columns,\n",
    "      optimizer=tf.train.GradientDescentOptimizer(learning_rate=learning_rate),\n",
    "      gradient_clip_norm=5.0\n",
    "  )\n",
    "\n",
    "  # 각 주기별로 모델의 상태를 플롯하기 위해 준비\n",
    "  plt.figure(figsize=(15, 6))\n",
    "  plt.subplot(1, 2, 1)\n",
    "  plt.title(\"Learned Line by Period\")\n",
    "  plt.ylabel(my_label)\n",
    "  plt.xlabel(my_feature)\n",
    "  sample = california_housing_dataframe.sample(n=300)\n",
    "  plt.scatter(sample[my_feature], sample[my_label])\n",
    "  colors = [cm.coolwarm(x) for x in np.linspace(-1, 1, periods)]\n",
    "\n",
    "  # 모델을 훈련 시키되 루프 내부에서 수행하여 손실 매트릭을 주기적으로 평가할 수 있습니다.\n",
    "  print(\"Training model...\")\n",
    "  print(\"RMSE (on training data):\")\n",
    "  root_mean_squared_errors = []\n",
    "  for period in range (0, periods):\n",
    "    # 이전 상태에서 시작하여 모델을 교육.\n",
    "    linear_regressor.fit(\n",
    "        input_fn=training_input_fn,\n",
    "        steps=steps_per_period,\n",
    "    )\n",
    "    # 잠시 멈추고 예측을 계산합니다.\n",
    "    predictions = list(linear_regressor.predict(input_fn=predict_training_input_fn))\n",
    "    # 손실 계산.\n",
    "    root_mean_squared_error = math.sqrt(\n",
    "      metrics.mean_squared_error(predictions, targets))\n",
    "    # 주기적으로 현재의 손실을 출력.\n",
    "    print(\"  period %02d : %0.2f\" % (period, root_mean_squared_error))\n",
    "    # 이번 주기의 손실 매트릭을 리스트에 추가.\n",
    "    root_mean_squared_errors.append(root_mean_squared_error)\n",
    "    # 마지막으로 시간 경과에 따라 가중치와 편향을 추적합니다.\n",
    "    # 몇 가지 수학을 적용하여 데이터와 선이 깔끔하게 정리되도록 합니다.\n",
    "    y_extents = np.array([0, sample[my_label].max()])\n",
    "    x_extents = (y_extents - linear_regressor.bias_) / linear_regressor.weights_[0]\n",
    "    x_extents = np.maximum(np.minimum(x_extents,\n",
    "                                      sample[my_feature].max()),\n",
    "                           sample[my_feature].min())\n",
    "    y_extents = linear_regressor.weights_[0] * x_extents + linear_regressor.bias_\n",
    "    plt.plot(x_extents, y_extents, color=colors[period]) \n",
    "  print(\"Model training finished.\")\n",
    "\n",
    "  # 주기에 따른 손실 매트릭 그래프 출력\n",
    "  plt.subplot(1, 2, 2)\n",
    "  plt.ylabel('RMSE')\n",
    "  plt.xlabel('Periods')\n",
    "  plt.title(\"Root Mean Squared Error vs. Periods\")\n",
    "  plt.tight_layout()\n",
    "  plt.plot(root_mean_squared_errors)\n",
    "\n",
    "  # 보정 데이터가 있는 표를 출력합니다.\n",
    "  calibration_data = pd.DataFrame()\n",
    "  calibration_data[\"predictions\"] = pd.Series(predictions)\n",
    "  calibration_data[\"targets\"] = pd.Series(targets)\n",
    "  display(calibration_data.describe())\n",
    "\n",
    "  print(\"Final RMSE (on training data): %0.2f\" % root_mean_squared_error)\n",
    "\n",
    "  return calibration_data"
   ]
  },
  {
   "cell_type": "markdown",
   "metadata": {},
   "source": [
    "### 작업 1 : 합성 특징을 시도해봅시다.\n",
    "\n",
    "total_rooms 및 population 특징은 주어진 도시 블록에 대한 합계를 계산합니다.\n",
    "\n",
    "그러나 한 도시 블록이 다른 도시 블록보다 인구 밀도가 높으면 어떻게 될까요?\n",
    "\n",
    "우리는 두 가지 특징의 비율인 합성 특징을 만들어 시도할 수 있습니다.\n",
    "\n",
    "rooms_per_person이라는 특징을 만들고 이를 아래의 모델 코드 셀에서 입력으로 사용하십시오.\n",
    "\n",
    "이 단일 특징으로 얻을 수있는 최상의 성능은 무엇입니까? 성능이 좋을수록 회귀 직선이 데이터에 적합해야하며 최종 RMSE가 낮아야합니다."
   ]
  },
  {
   "cell_type": "code",
   "execution_count": null,
   "metadata": {
    "collapsed": true
   },
   "outputs": [],
   "source": [
    "california_housing_dataframe[\"rooms_per_person\"] = \n",
    "#\n",
    "# 여기에 코드를 입력하세요.\n",
    "#\n",
    "\n",
    "calibration_data = train_model(\n",
    "    learning_rate=0.00005,\n",
    "    steps=500,\n",
    "    batch_size=5,\n",
    "    input_feature=\"rooms_per_person\"\n",
    ")"
   ]
  },
  {
   "cell_type": "code",
   "execution_count": null,
   "metadata": {
    "collapsed": true
   },
   "outputs": [],
   "source": [
    "california_housing_dataframe[\"rooms_per_person\"] = (\n",
    "    california_housing_dataframe[\"total_rooms\"] / california_housing_dataframe[\"population\"])\n",
    "\n",
    "calibration_data = train_model(\n",
    "    learning_rate=0.05,\n",
    "    steps=500,\n",
    "    batch_size=5,\n",
    "    input_feature=\"rooms_per_person\")"
   ]
  },
  {
   "cell_type": "markdown",
   "metadata": {},
   "source": [
    "### 작업 2 : 특이값 확인하기\n",
    "\n",
    "예측 값과 목표 값의 산점도(scatter plot)를 작성하여 모델의 성능을 시각화 할 수 있습니다. 이상적으로, 이들은 완벽하게 상관 관계가 있는 대각선에 위치 할 것입니다.\n",
    "\n",
    "작업 1에서 rooms_per_person 으로 훈련한 모델로 Pyplot의 scatter()를 이용해 산점도를 그려봅시다.\n",
    "\n"
   ]
  },
  {
   "cell_type": "code",
   "execution_count": 170,
   "metadata": {},
   "outputs": [
    {
     "ename": "KeyError",
     "evalue": "'predictions'",
     "output_type": "error",
     "traceback": [
      "\u001b[1;31m---------------------------------------------------------------------------\u001b[0m",
      "\u001b[1;31mKeyError\u001b[0m                                  Traceback (most recent call last)",
      "\u001b[1;32m~\\AppData\\Local\\conda\\conda\\envs\\py35\\lib\\site-packages\\pandas\\core\\indexes\\base.py\u001b[0m in \u001b[0;36mget_loc\u001b[1;34m(self, key, method, tolerance)\u001b[0m\n\u001b[0;32m   2392\u001b[0m             \u001b[1;32mtry\u001b[0m\u001b[1;33m:\u001b[0m\u001b[1;33m\u001b[0m\u001b[0m\n\u001b[1;32m-> 2393\u001b[1;33m                 \u001b[1;32mreturn\u001b[0m \u001b[0mself\u001b[0m\u001b[1;33m.\u001b[0m\u001b[0m_engine\u001b[0m\u001b[1;33m.\u001b[0m\u001b[0mget_loc\u001b[0m\u001b[1;33m(\u001b[0m\u001b[0mkey\u001b[0m\u001b[1;33m)\u001b[0m\u001b[1;33m\u001b[0m\u001b[0m\n\u001b[0m\u001b[0;32m   2394\u001b[0m             \u001b[1;32mexcept\u001b[0m \u001b[0mKeyError\u001b[0m\u001b[1;33m:\u001b[0m\u001b[1;33m\u001b[0m\u001b[0m\n",
      "\u001b[1;32mpandas\\_libs\\index.pyx\u001b[0m in \u001b[0;36mpandas._libs.index.IndexEngine.get_loc (pandas\\_libs\\index.c:5239)\u001b[1;34m()\u001b[0m\n",
      "\u001b[1;32mpandas\\_libs\\index.pyx\u001b[0m in \u001b[0;36mpandas._libs.index.IndexEngine.get_loc (pandas\\_libs\\index.c:5085)\u001b[1;34m()\u001b[0m\n",
      "\u001b[1;32mpandas\\_libs\\hashtable_class_helper.pxi\u001b[0m in \u001b[0;36mpandas._libs.hashtable.PyObjectHashTable.get_item (pandas\\_libs\\hashtable.c:20405)\u001b[1;34m()\u001b[0m\n",
      "\u001b[1;32mpandas\\_libs\\hashtable_class_helper.pxi\u001b[0m in \u001b[0;36mpandas._libs.hashtable.PyObjectHashTable.get_item (pandas\\_libs\\hashtable.c:20359)\u001b[1;34m()\u001b[0m\n",
      "\u001b[1;31mKeyError\u001b[0m: 'predictions'",
      "\nDuring handling of the above exception, another exception occurred:\n",
      "\u001b[1;31mKeyError\u001b[0m                                  Traceback (most recent call last)",
      "\u001b[1;32m<ipython-input-170-cf6364ab1f2b>\u001b[0m in \u001b[0;36m<module>\u001b[1;34m()\u001b[0m\n\u001b[0;32m      8\u001b[0m \u001b[0mplt\u001b[0m\u001b[1;33m.\u001b[0m\u001b[0mfigure\u001b[0m\u001b[1;33m(\u001b[0m\u001b[0mfigsize\u001b[0m\u001b[1;33m=\u001b[0m\u001b[1;33m(\u001b[0m\u001b[1;36m15\u001b[0m\u001b[1;33m,\u001b[0m \u001b[1;36m6\u001b[0m\u001b[1;33m)\u001b[0m\u001b[1;33m)\u001b[0m\u001b[1;33m\u001b[0m\u001b[0m\n\u001b[0;32m      9\u001b[0m \u001b[0mplt\u001b[0m\u001b[1;33m.\u001b[0m\u001b[0msubplot\u001b[0m\u001b[1;33m(\u001b[0m\u001b[1;36m1\u001b[0m\u001b[1;33m,\u001b[0m \u001b[1;36m2\u001b[0m\u001b[1;33m,\u001b[0m \u001b[1;36m1\u001b[0m\u001b[1;33m)\u001b[0m\u001b[1;33m\u001b[0m\u001b[0m\n\u001b[1;32m---> 10\u001b[1;33m \u001b[0mplt\u001b[0m\u001b[1;33m.\u001b[0m\u001b[0mscatter\u001b[0m\u001b[1;33m(\u001b[0m\u001b[0mcalibration_data\u001b[0m\u001b[1;33m[\u001b[0m\u001b[1;34m\"predictions\"\u001b[0m\u001b[1;33m]\u001b[0m\u001b[1;33m,\u001b[0m \u001b[0mcalibration_data\u001b[0m\u001b[1;33m[\u001b[0m\u001b[1;34m\"targets\"\u001b[0m\u001b[1;33m]\u001b[0m\u001b[1;33m)\u001b[0m\u001b[1;33m\u001b[0m\u001b[0m\n\u001b[0m\u001b[0;32m     11\u001b[0m \u001b[0mplt\u001b[0m\u001b[1;33m.\u001b[0m\u001b[0msubplot\u001b[0m\u001b[1;33m(\u001b[0m\u001b[1;36m1\u001b[0m\u001b[1;33m,\u001b[0m \u001b[1;36m2\u001b[0m\u001b[1;33m,\u001b[0m \u001b[1;36m2\u001b[0m\u001b[1;33m)\u001b[0m\u001b[1;33m\u001b[0m\u001b[0m\n\u001b[0;32m     12\u001b[0m \u001b[0m_\u001b[0m \u001b[1;33m=\u001b[0m \u001b[0mcalifornia_housing_dataframe\u001b[0m\u001b[1;33m[\u001b[0m\u001b[1;34m\"rooms_per_person\"\u001b[0m\u001b[1;33m]\u001b[0m\u001b[1;33m.\u001b[0m\u001b[0mhist\u001b[0m\u001b[1;33m(\u001b[0m\u001b[1;33m)\u001b[0m\u001b[1;33m\u001b[0m\u001b[0m\n",
      "\u001b[1;32m~\\AppData\\Local\\conda\\conda\\envs\\py35\\lib\\site-packages\\pandas\\core\\frame.py\u001b[0m in \u001b[0;36m__getitem__\u001b[1;34m(self, key)\u001b[0m\n\u001b[0;32m   2060\u001b[0m             \u001b[1;32mreturn\u001b[0m \u001b[0mself\u001b[0m\u001b[1;33m.\u001b[0m\u001b[0m_getitem_multilevel\u001b[0m\u001b[1;33m(\u001b[0m\u001b[0mkey\u001b[0m\u001b[1;33m)\u001b[0m\u001b[1;33m\u001b[0m\u001b[0m\n\u001b[0;32m   2061\u001b[0m         \u001b[1;32melse\u001b[0m\u001b[1;33m:\u001b[0m\u001b[1;33m\u001b[0m\u001b[0m\n\u001b[1;32m-> 2062\u001b[1;33m             \u001b[1;32mreturn\u001b[0m \u001b[0mself\u001b[0m\u001b[1;33m.\u001b[0m\u001b[0m_getitem_column\u001b[0m\u001b[1;33m(\u001b[0m\u001b[0mkey\u001b[0m\u001b[1;33m)\u001b[0m\u001b[1;33m\u001b[0m\u001b[0m\n\u001b[0m\u001b[0;32m   2063\u001b[0m \u001b[1;33m\u001b[0m\u001b[0m\n\u001b[0;32m   2064\u001b[0m     \u001b[1;32mdef\u001b[0m \u001b[0m_getitem_column\u001b[0m\u001b[1;33m(\u001b[0m\u001b[0mself\u001b[0m\u001b[1;33m,\u001b[0m \u001b[0mkey\u001b[0m\u001b[1;33m)\u001b[0m\u001b[1;33m:\u001b[0m\u001b[1;33m\u001b[0m\u001b[0m\n",
      "\u001b[1;32m~\\AppData\\Local\\conda\\conda\\envs\\py35\\lib\\site-packages\\pandas\\core\\frame.py\u001b[0m in \u001b[0;36m_getitem_column\u001b[1;34m(self, key)\u001b[0m\n\u001b[0;32m   2067\u001b[0m         \u001b[1;31m# get column\u001b[0m\u001b[1;33m\u001b[0m\u001b[1;33m\u001b[0m\u001b[0m\n\u001b[0;32m   2068\u001b[0m         \u001b[1;32mif\u001b[0m \u001b[0mself\u001b[0m\u001b[1;33m.\u001b[0m\u001b[0mcolumns\u001b[0m\u001b[1;33m.\u001b[0m\u001b[0mis_unique\u001b[0m\u001b[1;33m:\u001b[0m\u001b[1;33m\u001b[0m\u001b[0m\n\u001b[1;32m-> 2069\u001b[1;33m             \u001b[1;32mreturn\u001b[0m \u001b[0mself\u001b[0m\u001b[1;33m.\u001b[0m\u001b[0m_get_item_cache\u001b[0m\u001b[1;33m(\u001b[0m\u001b[0mkey\u001b[0m\u001b[1;33m)\u001b[0m\u001b[1;33m\u001b[0m\u001b[0m\n\u001b[0m\u001b[0;32m   2070\u001b[0m \u001b[1;33m\u001b[0m\u001b[0m\n\u001b[0;32m   2071\u001b[0m         \u001b[1;31m# duplicate columns & possible reduce dimensionality\u001b[0m\u001b[1;33m\u001b[0m\u001b[1;33m\u001b[0m\u001b[0m\n",
      "\u001b[1;32m~\\AppData\\Local\\conda\\conda\\envs\\py35\\lib\\site-packages\\pandas\\core\\generic.py\u001b[0m in \u001b[0;36m_get_item_cache\u001b[1;34m(self, item)\u001b[0m\n\u001b[0;32m   1532\u001b[0m         \u001b[0mres\u001b[0m \u001b[1;33m=\u001b[0m \u001b[0mcache\u001b[0m\u001b[1;33m.\u001b[0m\u001b[0mget\u001b[0m\u001b[1;33m(\u001b[0m\u001b[0mitem\u001b[0m\u001b[1;33m)\u001b[0m\u001b[1;33m\u001b[0m\u001b[0m\n\u001b[0;32m   1533\u001b[0m         \u001b[1;32mif\u001b[0m \u001b[0mres\u001b[0m \u001b[1;32mis\u001b[0m \u001b[1;32mNone\u001b[0m\u001b[1;33m:\u001b[0m\u001b[1;33m\u001b[0m\u001b[0m\n\u001b[1;32m-> 1534\u001b[1;33m             \u001b[0mvalues\u001b[0m \u001b[1;33m=\u001b[0m \u001b[0mself\u001b[0m\u001b[1;33m.\u001b[0m\u001b[0m_data\u001b[0m\u001b[1;33m.\u001b[0m\u001b[0mget\u001b[0m\u001b[1;33m(\u001b[0m\u001b[0mitem\u001b[0m\u001b[1;33m)\u001b[0m\u001b[1;33m\u001b[0m\u001b[0m\n\u001b[0m\u001b[0;32m   1535\u001b[0m             \u001b[0mres\u001b[0m \u001b[1;33m=\u001b[0m \u001b[0mself\u001b[0m\u001b[1;33m.\u001b[0m\u001b[0m_box_item_values\u001b[0m\u001b[1;33m(\u001b[0m\u001b[0mitem\u001b[0m\u001b[1;33m,\u001b[0m \u001b[0mvalues\u001b[0m\u001b[1;33m)\u001b[0m\u001b[1;33m\u001b[0m\u001b[0m\n\u001b[0;32m   1536\u001b[0m             \u001b[0mcache\u001b[0m\u001b[1;33m[\u001b[0m\u001b[0mitem\u001b[0m\u001b[1;33m]\u001b[0m \u001b[1;33m=\u001b[0m \u001b[0mres\u001b[0m\u001b[1;33m\u001b[0m\u001b[0m\n",
      "\u001b[1;32m~\\AppData\\Local\\conda\\conda\\envs\\py35\\lib\\site-packages\\pandas\\core\\internals.py\u001b[0m in \u001b[0;36mget\u001b[1;34m(self, item, fastpath)\u001b[0m\n\u001b[0;32m   3588\u001b[0m \u001b[1;33m\u001b[0m\u001b[0m\n\u001b[0;32m   3589\u001b[0m             \u001b[1;32mif\u001b[0m \u001b[1;32mnot\u001b[0m \u001b[0misnull\u001b[0m\u001b[1;33m(\u001b[0m\u001b[0mitem\u001b[0m\u001b[1;33m)\u001b[0m\u001b[1;33m:\u001b[0m\u001b[1;33m\u001b[0m\u001b[0m\n\u001b[1;32m-> 3590\u001b[1;33m                 \u001b[0mloc\u001b[0m \u001b[1;33m=\u001b[0m \u001b[0mself\u001b[0m\u001b[1;33m.\u001b[0m\u001b[0mitems\u001b[0m\u001b[1;33m.\u001b[0m\u001b[0mget_loc\u001b[0m\u001b[1;33m(\u001b[0m\u001b[0mitem\u001b[0m\u001b[1;33m)\u001b[0m\u001b[1;33m\u001b[0m\u001b[0m\n\u001b[0m\u001b[0;32m   3591\u001b[0m             \u001b[1;32melse\u001b[0m\u001b[1;33m:\u001b[0m\u001b[1;33m\u001b[0m\u001b[0m\n\u001b[0;32m   3592\u001b[0m                 \u001b[0mindexer\u001b[0m \u001b[1;33m=\u001b[0m \u001b[0mnp\u001b[0m\u001b[1;33m.\u001b[0m\u001b[0marange\u001b[0m\u001b[1;33m(\u001b[0m\u001b[0mlen\u001b[0m\u001b[1;33m(\u001b[0m\u001b[0mself\u001b[0m\u001b[1;33m.\u001b[0m\u001b[0mitems\u001b[0m\u001b[1;33m)\u001b[0m\u001b[1;33m)\u001b[0m\u001b[1;33m[\u001b[0m\u001b[0misnull\u001b[0m\u001b[1;33m(\u001b[0m\u001b[0mself\u001b[0m\u001b[1;33m.\u001b[0m\u001b[0mitems\u001b[0m\u001b[1;33m)\u001b[0m\u001b[1;33m]\u001b[0m\u001b[1;33m\u001b[0m\u001b[0m\n",
      "\u001b[1;32m~\\AppData\\Local\\conda\\conda\\envs\\py35\\lib\\site-packages\\pandas\\core\\indexes\\base.py\u001b[0m in \u001b[0;36mget_loc\u001b[1;34m(self, key, method, tolerance)\u001b[0m\n\u001b[0;32m   2393\u001b[0m                 \u001b[1;32mreturn\u001b[0m \u001b[0mself\u001b[0m\u001b[1;33m.\u001b[0m\u001b[0m_engine\u001b[0m\u001b[1;33m.\u001b[0m\u001b[0mget_loc\u001b[0m\u001b[1;33m(\u001b[0m\u001b[0mkey\u001b[0m\u001b[1;33m)\u001b[0m\u001b[1;33m\u001b[0m\u001b[0m\n\u001b[0;32m   2394\u001b[0m             \u001b[1;32mexcept\u001b[0m \u001b[0mKeyError\u001b[0m\u001b[1;33m:\u001b[0m\u001b[1;33m\u001b[0m\u001b[0m\n\u001b[1;32m-> 2395\u001b[1;33m                 \u001b[1;32mreturn\u001b[0m \u001b[0mself\u001b[0m\u001b[1;33m.\u001b[0m\u001b[0m_engine\u001b[0m\u001b[1;33m.\u001b[0m\u001b[0mget_loc\u001b[0m\u001b[1;33m(\u001b[0m\u001b[0mself\u001b[0m\u001b[1;33m.\u001b[0m\u001b[0m_maybe_cast_indexer\u001b[0m\u001b[1;33m(\u001b[0m\u001b[0mkey\u001b[0m\u001b[1;33m)\u001b[0m\u001b[1;33m)\u001b[0m\u001b[1;33m\u001b[0m\u001b[0m\n\u001b[0m\u001b[0;32m   2396\u001b[0m \u001b[1;33m\u001b[0m\u001b[0m\n\u001b[0;32m   2397\u001b[0m         \u001b[0mindexer\u001b[0m \u001b[1;33m=\u001b[0m \u001b[0mself\u001b[0m\u001b[1;33m.\u001b[0m\u001b[0mget_indexer\u001b[0m\u001b[1;33m(\u001b[0m\u001b[1;33m[\u001b[0m\u001b[0mkey\u001b[0m\u001b[1;33m]\u001b[0m\u001b[1;33m,\u001b[0m \u001b[0mmethod\u001b[0m\u001b[1;33m=\u001b[0m\u001b[0mmethod\u001b[0m\u001b[1;33m,\u001b[0m \u001b[0mtolerance\u001b[0m\u001b[1;33m=\u001b[0m\u001b[0mtolerance\u001b[0m\u001b[1;33m)\u001b[0m\u001b[1;33m\u001b[0m\u001b[0m\n",
      "\u001b[1;32mpandas\\_libs\\index.pyx\u001b[0m in \u001b[0;36mpandas._libs.index.IndexEngine.get_loc (pandas\\_libs\\index.c:5239)\u001b[1;34m()\u001b[0m\n",
      "\u001b[1;32mpandas\\_libs\\index.pyx\u001b[0m in \u001b[0;36mpandas._libs.index.IndexEngine.get_loc (pandas\\_libs\\index.c:5085)\u001b[1;34m()\u001b[0m\n",
      "\u001b[1;32mpandas\\_libs\\hashtable_class_helper.pxi\u001b[0m in \u001b[0;36mpandas._libs.hashtable.PyObjectHashTable.get_item (pandas\\_libs\\hashtable.c:20405)\u001b[1;34m()\u001b[0m\n",
      "\u001b[1;32mpandas\\_libs\\hashtable_class_helper.pxi\u001b[0m in \u001b[0;36mpandas._libs.hashtable.PyObjectHashTable.get_item (pandas\\_libs\\hashtable.c:20359)\u001b[1;34m()\u001b[0m\n",
      "\u001b[1;31mKeyError\u001b[0m: 'predictions'"
     ]
    },
    {
     "data": {
      "image/png": "[encoded data removed]",
      "text/plain": [
       "<matplotlib.figure.Figure at 0x1a56b720cc0>"
      ]
     },
     "metadata": {},
     "output_type": "display_data"
    }
   ],
   "source": [
    "# 교정 데이터는 대부분의 분산점이 직선에 맞춰진 것을 보여줍니다.\n",
    "# 이 직선은 거의 수직인데 이 것은 나중에 다시 검토하도록 하겠습니다.\n",
    "# 지금은 이 직선에서 벗어나 있는 것들에 집중해 봅시다. 이들은\n",
    "# 갯수는 몇 개 안 된다는 것을 알 수 있습니다.\n",
    "# rooms_per_person의 히스토그램을 그려보면 입력 데이터에\n",
    "# 특이점이 있는 것을 알 수 있습니다.\n",
    "\n",
    "plt.figure(figsize=(15, 6))\n",
    "plt.subplot(1, 2, 1)\n",
    "plt.scatter(calibration_data[\"predictions\"], calibration_data[\"targets\"])\n",
    "plt.subplot(1, 2, 2)\n",
    "_ = california_housing_dataframe[\"rooms_per_person\"].hist()"
   ]
  },
  {
   "cell_type": "markdown",
   "metadata": {},
   "source": [
    "### 작업 3 : 특이값 제외하기\n",
    "\n",
    "rooms_per_person의 특이값 (outlier) 값을 일정한 최소 또는 최대치로 설정하여 모델 적합성을 향상시킬 수 있는지 확인하십시오.\n",
    "\n",
    "참고로, Pandas의 Series기능을 적용하는 방법에 대한 간단한 예제가 있습니다.\n"
   ]
  },
  {
   "cell_type": "code",
   "execution_count": null,
   "metadata": {
    "collapsed": true
   },
   "outputs": [],
   "source": [
    "clipped_feature = my_feature_column[\"my_feature_name\"].apply(lambda x: max(x, 0))"
   ]
  },
  {
   "cell_type": "markdown",
   "metadata": {},
   "source": [
    "위의 clipped_feature는 0보다 작은 값을 갖지 않습니다.\n",
    "\n"
   ]
  },
  {
   "cell_type": "code",
   "execution_count": 171,
   "metadata": {},
   "outputs": [
    {
     "ename": "KeyError",
     "evalue": "'rooms_per_person'",
     "output_type": "error",
     "traceback": [
      "\u001b[1;31m---------------------------------------------------------------------------\u001b[0m",
      "\u001b[1;31mKeyError\u001b[0m                                  Traceback (most recent call last)",
      "\u001b[1;32m~\\AppData\\Local\\conda\\conda\\envs\\py35\\lib\\site-packages\\pandas\\core\\indexes\\base.py\u001b[0m in \u001b[0;36mget_loc\u001b[1;34m(self, key, method, tolerance)\u001b[0m\n\u001b[0;32m   2392\u001b[0m             \u001b[1;32mtry\u001b[0m\u001b[1;33m:\u001b[0m\u001b[1;33m\u001b[0m\u001b[0m\n\u001b[1;32m-> 2393\u001b[1;33m                 \u001b[1;32mreturn\u001b[0m \u001b[0mself\u001b[0m\u001b[1;33m.\u001b[0m\u001b[0m_engine\u001b[0m\u001b[1;33m.\u001b[0m\u001b[0mget_loc\u001b[0m\u001b[1;33m(\u001b[0m\u001b[0mkey\u001b[0m\u001b[1;33m)\u001b[0m\u001b[1;33m\u001b[0m\u001b[0m\n\u001b[0m\u001b[0;32m   2394\u001b[0m             \u001b[1;32mexcept\u001b[0m \u001b[0mKeyError\u001b[0m\u001b[1;33m:\u001b[0m\u001b[1;33m\u001b[0m\u001b[0m\n",
      "\u001b[1;32mpandas\\_libs\\index.pyx\u001b[0m in \u001b[0;36mpandas._libs.index.IndexEngine.get_loc (pandas\\_libs\\index.c:5239)\u001b[1;34m()\u001b[0m\n",
      "\u001b[1;32mpandas\\_libs\\index.pyx\u001b[0m in \u001b[0;36mpandas._libs.index.IndexEngine.get_loc (pandas\\_libs\\index.c:5085)\u001b[1;34m()\u001b[0m\n",
      "\u001b[1;32mpandas\\_libs\\hashtable_class_helper.pxi\u001b[0m in \u001b[0;36mpandas._libs.hashtable.PyObjectHashTable.get_item (pandas\\_libs\\hashtable.c:20405)\u001b[1;34m()\u001b[0m\n",
      "\u001b[1;32mpandas\\_libs\\hashtable_class_helper.pxi\u001b[0m in \u001b[0;36mpandas._libs.hashtable.PyObjectHashTable.get_item (pandas\\_libs\\hashtable.c:20359)\u001b[1;34m()\u001b[0m\n",
      "\u001b[1;31mKeyError\u001b[0m: 'rooms_per_person'",
      "\nDuring handling of the above exception, another exception occurred:\n",
      "\u001b[1;31mKeyError\u001b[0m                                  Traceback (most recent call last)",
      "\u001b[1;32m<ipython-input-171-ea840a29578b>\u001b[0m in \u001b[0;36m<module>\u001b[1;34m()\u001b[0m\n\u001b[0;32m      2\u001b[0m \u001b[1;31m# 더블체크를 위해서 다시 히스토그램을 그려봅시다.\u001b[0m\u001b[1;33m\u001b[0m\u001b[1;33m\u001b[0m\u001b[0m\n\u001b[0;32m      3\u001b[0m california_housing_dataframe[\"rooms_per_person\"] = (\n\u001b[1;32m----> 4\u001b[1;33m     california_housing_dataframe[\"rooms_per_person\"]).apply(lambda x: min(x, 5))\n\u001b[0m\u001b[0;32m      5\u001b[0m \u001b[1;33m\u001b[0m\u001b[0m\n\u001b[0;32m      6\u001b[0m \u001b[0m_\u001b[0m \u001b[1;33m=\u001b[0m \u001b[0mcalifornia_housing_dataframe\u001b[0m\u001b[1;33m[\u001b[0m\u001b[1;34m\"rooms_per_person\"\u001b[0m\u001b[1;33m]\u001b[0m\u001b[1;33m.\u001b[0m\u001b[0mhist\u001b[0m\u001b[1;33m(\u001b[0m\u001b[1;33m)\u001b[0m\u001b[1;33m\u001b[0m\u001b[0m\n",
      "\u001b[1;32m~\\AppData\\Local\\conda\\conda\\envs\\py35\\lib\\site-packages\\pandas\\core\\frame.py\u001b[0m in \u001b[0;36m__getitem__\u001b[1;34m(self, key)\u001b[0m\n\u001b[0;32m   2060\u001b[0m             \u001b[1;32mreturn\u001b[0m \u001b[0mself\u001b[0m\u001b[1;33m.\u001b[0m\u001b[0m_getitem_multilevel\u001b[0m\u001b[1;33m(\u001b[0m\u001b[0mkey\u001b[0m\u001b[1;33m)\u001b[0m\u001b[1;33m\u001b[0m\u001b[0m\n\u001b[0;32m   2061\u001b[0m         \u001b[1;32melse\u001b[0m\u001b[1;33m:\u001b[0m\u001b[1;33m\u001b[0m\u001b[0m\n\u001b[1;32m-> 2062\u001b[1;33m             \u001b[1;32mreturn\u001b[0m \u001b[0mself\u001b[0m\u001b[1;33m.\u001b[0m\u001b[0m_getitem_column\u001b[0m\u001b[1;33m(\u001b[0m\u001b[0mkey\u001b[0m\u001b[1;33m)\u001b[0m\u001b[1;33m\u001b[0m\u001b[0m\n\u001b[0m\u001b[0;32m   2063\u001b[0m \u001b[1;33m\u001b[0m\u001b[0m\n\u001b[0;32m   2064\u001b[0m     \u001b[1;32mdef\u001b[0m \u001b[0m_getitem_column\u001b[0m\u001b[1;33m(\u001b[0m\u001b[0mself\u001b[0m\u001b[1;33m,\u001b[0m \u001b[0mkey\u001b[0m\u001b[1;33m)\u001b[0m\u001b[1;33m:\u001b[0m\u001b[1;33m\u001b[0m\u001b[0m\n",
      "\u001b[1;32m~\\AppData\\Local\\conda\\conda\\envs\\py35\\lib\\site-packages\\pandas\\core\\frame.py\u001b[0m in \u001b[0;36m_getitem_column\u001b[1;34m(self, key)\u001b[0m\n\u001b[0;32m   2067\u001b[0m         \u001b[1;31m# get column\u001b[0m\u001b[1;33m\u001b[0m\u001b[1;33m\u001b[0m\u001b[0m\n\u001b[0;32m   2068\u001b[0m         \u001b[1;32mif\u001b[0m \u001b[0mself\u001b[0m\u001b[1;33m.\u001b[0m\u001b[0mcolumns\u001b[0m\u001b[1;33m.\u001b[0m\u001b[0mis_unique\u001b[0m\u001b[1;33m:\u001b[0m\u001b[1;33m\u001b[0m\u001b[0m\n\u001b[1;32m-> 2069\u001b[1;33m             \u001b[1;32mreturn\u001b[0m \u001b[0mself\u001b[0m\u001b[1;33m.\u001b[0m\u001b[0m_get_item_cache\u001b[0m\u001b[1;33m(\u001b[0m\u001b[0mkey\u001b[0m\u001b[1;33m)\u001b[0m\u001b[1;33m\u001b[0m\u001b[0m\n\u001b[0m\u001b[0;32m   2070\u001b[0m \u001b[1;33m\u001b[0m\u001b[0m\n\u001b[0;32m   2071\u001b[0m         \u001b[1;31m# duplicate columns & possible reduce dimensionality\u001b[0m\u001b[1;33m\u001b[0m\u001b[1;33m\u001b[0m\u001b[0m\n",
      "\u001b[1;32m~\\AppData\\Local\\conda\\conda\\envs\\py35\\lib\\site-packages\\pandas\\core\\generic.py\u001b[0m in \u001b[0;36m_get_item_cache\u001b[1;34m(self, item)\u001b[0m\n\u001b[0;32m   1532\u001b[0m         \u001b[0mres\u001b[0m \u001b[1;33m=\u001b[0m \u001b[0mcache\u001b[0m\u001b[1;33m.\u001b[0m\u001b[0mget\u001b[0m\u001b[1;33m(\u001b[0m\u001b[0mitem\u001b[0m\u001b[1;33m)\u001b[0m\u001b[1;33m\u001b[0m\u001b[0m\n\u001b[0;32m   1533\u001b[0m         \u001b[1;32mif\u001b[0m \u001b[0mres\u001b[0m \u001b[1;32mis\u001b[0m \u001b[1;32mNone\u001b[0m\u001b[1;33m:\u001b[0m\u001b[1;33m\u001b[0m\u001b[0m\n\u001b[1;32m-> 1534\u001b[1;33m             \u001b[0mvalues\u001b[0m \u001b[1;33m=\u001b[0m \u001b[0mself\u001b[0m\u001b[1;33m.\u001b[0m\u001b[0m_data\u001b[0m\u001b[1;33m.\u001b[0m\u001b[0mget\u001b[0m\u001b[1;33m(\u001b[0m\u001b[0mitem\u001b[0m\u001b[1;33m)\u001b[0m\u001b[1;33m\u001b[0m\u001b[0m\n\u001b[0m\u001b[0;32m   1535\u001b[0m             \u001b[0mres\u001b[0m \u001b[1;33m=\u001b[0m \u001b[0mself\u001b[0m\u001b[1;33m.\u001b[0m\u001b[0m_box_item_values\u001b[0m\u001b[1;33m(\u001b[0m\u001b[0mitem\u001b[0m\u001b[1;33m,\u001b[0m \u001b[0mvalues\u001b[0m\u001b[1;33m)\u001b[0m\u001b[1;33m\u001b[0m\u001b[0m\n\u001b[0;32m   1536\u001b[0m             \u001b[0mcache\u001b[0m\u001b[1;33m[\u001b[0m\u001b[0mitem\u001b[0m\u001b[1;33m]\u001b[0m \u001b[1;33m=\u001b[0m \u001b[0mres\u001b[0m\u001b[1;33m\u001b[0m\u001b[0m\n",
      "\u001b[1;32m~\\AppData\\Local\\conda\\conda\\envs\\py35\\lib\\site-packages\\pandas\\core\\internals.py\u001b[0m in \u001b[0;36mget\u001b[1;34m(self, item, fastpath)\u001b[0m\n\u001b[0;32m   3588\u001b[0m \u001b[1;33m\u001b[0m\u001b[0m\n\u001b[0;32m   3589\u001b[0m             \u001b[1;32mif\u001b[0m \u001b[1;32mnot\u001b[0m \u001b[0misnull\u001b[0m\u001b[1;33m(\u001b[0m\u001b[0mitem\u001b[0m\u001b[1;33m)\u001b[0m\u001b[1;33m:\u001b[0m\u001b[1;33m\u001b[0m\u001b[0m\n\u001b[1;32m-> 3590\u001b[1;33m                 \u001b[0mloc\u001b[0m \u001b[1;33m=\u001b[0m \u001b[0mself\u001b[0m\u001b[1;33m.\u001b[0m\u001b[0mitems\u001b[0m\u001b[1;33m.\u001b[0m\u001b[0mget_loc\u001b[0m\u001b[1;33m(\u001b[0m\u001b[0mitem\u001b[0m\u001b[1;33m)\u001b[0m\u001b[1;33m\u001b[0m\u001b[0m\n\u001b[0m\u001b[0;32m   3591\u001b[0m             \u001b[1;32melse\u001b[0m\u001b[1;33m:\u001b[0m\u001b[1;33m\u001b[0m\u001b[0m\n\u001b[0;32m   3592\u001b[0m                 \u001b[0mindexer\u001b[0m \u001b[1;33m=\u001b[0m \u001b[0mnp\u001b[0m\u001b[1;33m.\u001b[0m\u001b[0marange\u001b[0m\u001b[1;33m(\u001b[0m\u001b[0mlen\u001b[0m\u001b[1;33m(\u001b[0m\u001b[0mself\u001b[0m\u001b[1;33m.\u001b[0m\u001b[0mitems\u001b[0m\u001b[1;33m)\u001b[0m\u001b[1;33m)\u001b[0m\u001b[1;33m[\u001b[0m\u001b[0misnull\u001b[0m\u001b[1;33m(\u001b[0m\u001b[0mself\u001b[0m\u001b[1;33m.\u001b[0m\u001b[0mitems\u001b[0m\u001b[1;33m)\u001b[0m\u001b[1;33m]\u001b[0m\u001b[1;33m\u001b[0m\u001b[0m\n",
      "\u001b[1;32m~\\AppData\\Local\\conda\\conda\\envs\\py35\\lib\\site-packages\\pandas\\core\\indexes\\base.py\u001b[0m in \u001b[0;36mget_loc\u001b[1;34m(self, key, method, tolerance)\u001b[0m\n\u001b[0;32m   2393\u001b[0m                 \u001b[1;32mreturn\u001b[0m \u001b[0mself\u001b[0m\u001b[1;33m.\u001b[0m\u001b[0m_engine\u001b[0m\u001b[1;33m.\u001b[0m\u001b[0mget_loc\u001b[0m\u001b[1;33m(\u001b[0m\u001b[0mkey\u001b[0m\u001b[1;33m)\u001b[0m\u001b[1;33m\u001b[0m\u001b[0m\n\u001b[0;32m   2394\u001b[0m             \u001b[1;32mexcept\u001b[0m \u001b[0mKeyError\u001b[0m\u001b[1;33m:\u001b[0m\u001b[1;33m\u001b[0m\u001b[0m\n\u001b[1;32m-> 2395\u001b[1;33m                 \u001b[1;32mreturn\u001b[0m \u001b[0mself\u001b[0m\u001b[1;33m.\u001b[0m\u001b[0m_engine\u001b[0m\u001b[1;33m.\u001b[0m\u001b[0mget_loc\u001b[0m\u001b[1;33m(\u001b[0m\u001b[0mself\u001b[0m\u001b[1;33m.\u001b[0m\u001b[0m_maybe_cast_indexer\u001b[0m\u001b[1;33m(\u001b[0m\u001b[0mkey\u001b[0m\u001b[1;33m)\u001b[0m\u001b[1;33m)\u001b[0m\u001b[1;33m\u001b[0m\u001b[0m\n\u001b[0m\u001b[0;32m   2396\u001b[0m \u001b[1;33m\u001b[0m\u001b[0m\n\u001b[0;32m   2397\u001b[0m         \u001b[0mindexer\u001b[0m \u001b[1;33m=\u001b[0m \u001b[0mself\u001b[0m\u001b[1;33m.\u001b[0m\u001b[0mget_indexer\u001b[0m\u001b[1;33m(\u001b[0m\u001b[1;33m[\u001b[0m\u001b[0mkey\u001b[0m\u001b[1;33m]\u001b[0m\u001b[1;33m,\u001b[0m \u001b[0mmethod\u001b[0m\u001b[1;33m=\u001b[0m\u001b[0mmethod\u001b[0m\u001b[1;33m,\u001b[0m \u001b[0mtolerance\u001b[0m\u001b[1;33m=\u001b[0m\u001b[0mtolerance\u001b[0m\u001b[1;33m)\u001b[0m\u001b[1;33m\u001b[0m\u001b[0m\n",
      "\u001b[1;32mpandas\\_libs\\index.pyx\u001b[0m in \u001b[0;36mpandas._libs.index.IndexEngine.get_loc (pandas\\_libs\\index.c:5239)\u001b[1;34m()\u001b[0m\n",
      "\u001b[1;32mpandas\\_libs\\index.pyx\u001b[0m in \u001b[0;36mpandas._libs.index.IndexEngine.get_loc (pandas\\_libs\\index.c:5085)\u001b[1;34m()\u001b[0m\n",
      "\u001b[1;32mpandas\\_libs\\hashtable_class_helper.pxi\u001b[0m in \u001b[0;36mpandas._libs.hashtable.PyObjectHashTable.get_item (pandas\\_libs\\hashtable.c:20405)\u001b[1;34m()\u001b[0m\n",
      "\u001b[1;32mpandas\\_libs\\hashtable_class_helper.pxi\u001b[0m in \u001b[0;36mpandas._libs.hashtable.PyObjectHashTable.get_item (pandas\\_libs\\hashtable.c:20359)\u001b[1;34m()\u001b[0m\n",
      "\u001b[1;31mKeyError\u001b[0m: 'rooms_per_person'"
     ]
    }
   ],
   "source": [
    "# 작업 2의 히스토그램은 대부분의 값이 5 이하 임을 보여줍니다.\n",
    "# 더블체크를 위해서 다시 히스토그램을 그려봅시다.\n",
    "california_housing_dataframe[\"rooms_per_person\"] = (\n",
    "    california_housing_dataframe[\"rooms_per_person\"]).apply(lambda x: min(x, 5))\n",
    "\n",
    "_ = california_housing_dataframe[\"rooms_per_person\"].hist()\n",
    "\n",
    "# clipping이 잘 동작하는 지 확인하기 위해, 다시 훈련시켜서 교정 데이터를 한번 더 출력시켜 봅시다.\n",
    "\n",
    "calibration_data = train_model(\n",
    "    learning_rate=0.05,\n",
    "    steps=500,\n",
    "    batch_size=5,\n",
    "    input_feature=\"rooms_per_person\")\n",
    "_ = plt.scatter(calibration_data[\"predictions\"], calibration_data[\"targets\"])"
   ]
  },
  {
   "cell_type": "markdown",
   "metadata": {},
   "source": [
    "---\n",
    "## 검증\n",
    "\n",
    "- 모델의 효율성을 향상시키기 위해 단일 특징 대신 여러 특징들을 사용해 봅니다.\n",
    "- 모델 입력 데이터의 디버그 문제를 짚어 봅니다.\n",
    "- 테스트 데이터 세트를 사용하여 모델이 검증 데이터를 오버피팅하는지 확인해 봅니다.\n",
    "\n",
    "이전 실습과 마찬가지로, 1990년 인구 조사 데이터를 대상으로 도시 블록 수준에서 median_house_value를 시도하고 예측하기 위해 캘리포니아 주택 데이터 세트와 함께 작업하겠습니다.\n",
    "\n",
    "먼저 데이터를 불러오고 준비해 봅시다.\n",
    "\n",
    "\n",
    "\n"
   ]
  },
  {
   "cell_type": "code",
   "execution_count": null,
   "metadata": {
    "collapsed": true
   },
   "outputs": [],
   "source": [
    "import math\n",
    "\n",
    "from sorna.display import display\n",
    "from matplotlib import cm\n",
    "from matplotlib import gridspec\n",
    "from matplotlib import pyplot as plt\n",
    "import numpy as np\n",
    "import pandas as pd\n",
    "from sklearn import metrics\n",
    "import tensorflow as tf\n",
    "\n",
    "tf.logging.set_verbosity(tf.logging.ERROR)\n",
    "pd.options.display.max_rows = 10\n",
    "pd.options.display.float_format = '{:.1f}'.format\n",
    "\n",
    "california_housing_dataframe = pd.read_csv(\"http://datasets.lablup.ai/public/tutorials/california_housing_train.csv\", sep=\",\")\n",
    "\n",
    "# california_housing_dataframe = california_housing_dataframe.reindex(\n",
    "#     np.random.permutation(california_housing_dataframe.index))"
   ]
  },
  {
   "cell_type": "code",
   "execution_count": null,
   "metadata": {
    "collapsed": true
   },
   "outputs": [],
   "source": [
    "def preprocess_features(california_housing_dataframe):\n",
    "  \"\"\"캘리포니아 주거 데이터 세트로부터 입력 특징을 준비합니다.\n",
    "\n",
    "  Args:\n",
    "    california_housing_dataframe: 캘리포니아 주거 데이터 세트의 데이터가 든 Pandas DataFrame\n",
    "  Returns:\n",
    "    모델에서 사용할 (합성 특징들을 포함한) 특징이 든 DataFrame.\n",
    "  \"\"\"\n",
    "  selected_features = california_housing_dataframe[\n",
    "    [\"latitude\",\n",
    "     \"longitude\",\n",
    "     \"housing_median_age\",\n",
    "     \"total_rooms\",\n",
    "     \"total_bedrooms\",\n",
    "     \"population\",\n",
    "     \"households\",\n",
    "     \"median_income\"]]\n",
    "  processed_features = selected_features.copy()\n",
    "  # 합성 특징 만들기.\n",
    "  processed_features[\"rooms_per_person\"] = (\n",
    "    california_housing_dataframe[\"total_rooms\"] /\n",
    "    california_housing_dataframe[\"population\"])\n",
    "  return processed_features\n",
    "\n",
    "def preprocess_targets(california_housing_dataframe):\n",
    "  \"\"\"캘리포니아 주거 데이터로부터 목표 특징 (레이블)들을 준비합니다.\n",
    "\n",
    "  Args:\n",
    "    california_housing_dataframe: 캘리포니아 주거 데이터 세트의 데이터가 든 Pandas DataFrame\n",
    "  Returns:\n",
    "    목표 특징을 포함한 DataFrame.\n",
    "  \"\"\"\n",
    "  output_targets = pd.DataFrame()\n",
    "  # 목표를 1000달러 단위로 스케일.\n",
    "  output_targets[\"median_house_value\"] = (\n",
    "    california_housing_dataframe[\"median_house_value\"] / 1000.0)\n",
    "  return output_targets"
   ]
  },
  {
   "cell_type": "markdown",
   "metadata": {},
   "source": [
    "훈련 데이터로 17000개 중에서 처음 12000개를 선택하겠습니다."
   ]
  },
  {
   "cell_type": "code",
   "execution_count": 172,
   "metadata": {},
   "outputs": [
    {
     "ename": "NameError",
     "evalue": "name 'preprocess_features' is not defined",
     "output_type": "error",
     "traceback": [
      "\u001b[1;31m---------------------------------------------------------------------------\u001b[0m",
      "\u001b[1;31mNameError\u001b[0m                                 Traceback (most recent call last)",
      "\u001b[1;32m<ipython-input-172-e5d66c608f71>\u001b[0m in \u001b[0;36m<module>\u001b[1;34m()\u001b[0m\n\u001b[1;32m----> 1\u001b[1;33m \u001b[0mtraining_examples\u001b[0m \u001b[1;33m=\u001b[0m \u001b[0mpreprocess_features\u001b[0m\u001b[1;33m(\u001b[0m\u001b[0mcalifornia_housing_dataframe\u001b[0m\u001b[1;33m.\u001b[0m\u001b[0mhead\u001b[0m\u001b[1;33m(\u001b[0m\u001b[1;36m12000\u001b[0m\u001b[1;33m)\u001b[0m\u001b[1;33m)\u001b[0m\u001b[1;33m\u001b[0m\u001b[0m\n\u001b[0m\u001b[0;32m      2\u001b[0m \u001b[0mdisplay\u001b[0m\u001b[1;33m(\u001b[0m\u001b[0mtraining_examples\u001b[0m\u001b[1;33m.\u001b[0m\u001b[0mdescribe\u001b[0m\u001b[1;33m(\u001b[0m\u001b[1;33m)\u001b[0m\u001b[1;33m)\u001b[0m\u001b[1;33m\u001b[0m\u001b[0m\n",
      "\u001b[1;31mNameError\u001b[0m: name 'preprocess_features' is not defined"
     ]
    }
   ],
   "source": [
    "training_examples = preprocess_features(california_housing_dataframe.head(12000))\n",
    "display(training_examples.describe())"
   ]
  },
  {
   "cell_type": "code",
   "execution_count": null,
   "metadata": {
    "collapsed": true
   },
   "outputs": [],
   "source": [
    "training_targets = preprocess_targets(california_housing_dataframe.head(12000))\n",
    "display(training_targets.describe())"
   ]
  },
  {
   "cell_type": "markdown",
   "metadata": {},
   "source": [
    "검증 데이터로 17000개 중에서 마지막 5000개를 선택하겠습니다.\n",
    "\n"
   ]
  },
  {
   "cell_type": "code",
   "execution_count": 173,
   "metadata": {},
   "outputs": [
    {
     "ename": "NameError",
     "evalue": "name 'preprocess_features' is not defined",
     "output_type": "error",
     "traceback": [
      "\u001b[1;31m---------------------------------------------------------------------------\u001b[0m",
      "\u001b[1;31mNameError\u001b[0m                                 Traceback (most recent call last)",
      "\u001b[1;32m<ipython-input-173-5d3afce5375b>\u001b[0m in \u001b[0;36m<module>\u001b[1;34m()\u001b[0m\n\u001b[1;32m----> 1\u001b[1;33m \u001b[0mvalidation_examples\u001b[0m \u001b[1;33m=\u001b[0m \u001b[0mpreprocess_features\u001b[0m\u001b[1;33m(\u001b[0m\u001b[0mcalifornia_housing_dataframe\u001b[0m\u001b[1;33m.\u001b[0m\u001b[0mtail\u001b[0m\u001b[1;33m(\u001b[0m\u001b[1;36m5000\u001b[0m\u001b[1;33m)\u001b[0m\u001b[1;33m)\u001b[0m\u001b[1;33m\u001b[0m\u001b[0m\n\u001b[0m\u001b[0;32m      2\u001b[0m \u001b[0mdisplay\u001b[0m\u001b[1;33m(\u001b[0m\u001b[0mvalidation_examples\u001b[0m\u001b[1;33m.\u001b[0m\u001b[0mdescribe\u001b[0m\u001b[1;33m(\u001b[0m\u001b[1;33m)\u001b[0m\u001b[1;33m)\u001b[0m\u001b[1;33m\u001b[0m\u001b[0m\n",
      "\u001b[1;31mNameError\u001b[0m: name 'preprocess_features' is not defined"
     ]
    }
   ],
   "source": [
    "validation_examples = preprocess_features(california_housing_dataframe.tail(5000))\n",
    "display(validation_examples.describe())"
   ]
  },
  {
   "cell_type": "code",
   "execution_count": null,
   "metadata": {
    "collapsed": true
   },
   "outputs": [],
   "source": [
    "validation_targets = preprocess_targets(california_housing_dataframe.tail(5000))\n",
    "display(validation_targets.describe())"
   ]
  },
  {
   "cell_type": "markdown",
   "metadata": {},
   "source": [
    "### 데이터 검사\n",
    "위의 데이터를 살펴 보겠습니다. 사용할 수 있는 '9' 개의 입력 특징이 있습니다.\n",
    "\n",
    "테이블을 빠르게 훑어 보시면서 일관성을 체크해보세요. 정상적으로 보입니까?\n",
    "\n",
    "직접 데이터를 살펴보십시오. 다 괜찮아 보이시나요? 얼마나 많은 문제점을 발견 할 수 있는지 봅시다. 통계에 대한 배경 지식이 없어도 걱정하지 마십시오. 상식적이기만 하면 충분히 발견할 수 있습니다.\n",
    "\n",
    "데이터를 직접 검토 한 후에는 데이터를 확인하는 방법에 대한 추가 고려 사항을 확인하십시오.\n",
    "\n",
    "특히 latitude(위도) 및 longitude(경도) 두 가지 특징에 대해 자세히 살펴 보겠습니다. 이들은 해당 도시 블록의 지리적 좌표입니다.\n",
    "\n",
    "이것으로 멋진 시각화를 만들 수 있습니다 - latitude 및 longitude를 그려보고 색상을 사용하여 median_house_value를 표시해 봅시다."
   ]
  },
  {
   "cell_type": "code",
   "execution_count": 174,
   "metadata": {},
   "outputs": [
    {
     "ename": "NameError",
     "evalue": "name 'validation_examples' is not defined",
     "output_type": "error",
     "traceback": [
      "\u001b[1;31m---------------------------------------------------------------------------\u001b[0m",
      "\u001b[1;31mNameError\u001b[0m                                 Traceback (most recent call last)",
      "\u001b[1;32m<ipython-input-174-8721491adb8c>\u001b[0m in \u001b[0;36m<module>\u001b[1;34m()\u001b[0m\n\u001b[0;32m      8\u001b[0m \u001b[0max\u001b[0m\u001b[1;33m.\u001b[0m\u001b[0mset_autoscalex_on\u001b[0m\u001b[1;33m(\u001b[0m\u001b[1;32mFalse\u001b[0m\u001b[1;33m)\u001b[0m\u001b[1;33m\u001b[0m\u001b[0m\n\u001b[0;32m      9\u001b[0m \u001b[0max\u001b[0m\u001b[1;33m.\u001b[0m\u001b[0mset_xlim\u001b[0m\u001b[1;33m(\u001b[0m\u001b[1;33m[\u001b[0m\u001b[1;33m-\u001b[0m\u001b[1;36m126\u001b[0m\u001b[1;33m,\u001b[0m \u001b[1;33m-\u001b[0m\u001b[1;36m112\u001b[0m\u001b[1;33m]\u001b[0m\u001b[1;33m)\u001b[0m\u001b[1;33m\u001b[0m\u001b[0m\n\u001b[1;32m---> 10\u001b[1;33m plt.scatter(validation_examples[\"longitude\"],\n\u001b[0m\u001b[0;32m     11\u001b[0m             \u001b[0mvalidation_examples\u001b[0m\u001b[1;33m[\u001b[0m\u001b[1;34m\"latitude\"\u001b[0m\u001b[1;33m]\u001b[0m\u001b[1;33m,\u001b[0m\u001b[1;33m\u001b[0m\u001b[0m\n\u001b[0;32m     12\u001b[0m             \u001b[0mcmap\u001b[0m\u001b[1;33m=\u001b[0m\u001b[1;34m\"coolwarm\"\u001b[0m\u001b[1;33m,\u001b[0m\u001b[1;33m\u001b[0m\u001b[0m\n",
      "\u001b[1;31mNameError\u001b[0m: name 'validation_examples' is not defined"
     ]
    },
    {
     "data": {
      "image/png": "[encoded data removed]",
      "text/plain": [
       "<matplotlib.figure.Figure at 0x1a56b7627b8>"
      ]
     },
     "metadata": {},
     "output_type": "display_data"
    }
   ],
   "source": [
    "plt.figure(figsize=(13, 8))\n",
    "\n",
    "ax = plt.subplot(1, 2, 1)\n",
    "ax.set_title(\"Validation Data\")\n",
    "\n",
    "ax.set_autoscaley_on(False)\n",
    "ax.set_ylim([32, 43])\n",
    "ax.set_autoscalex_on(False)\n",
    "ax.set_xlim([-126, -112])\n",
    "plt.scatter(validation_examples[\"longitude\"],\n",
    "            validation_examples[\"latitude\"],\n",
    "            cmap=\"coolwarm\",\n",
    "            c=validation_targets[\"median_house_value\"] / validation_targets[\"median_house_value\"].max())\n",
    "\n",
    "ax = plt.subplot(1,2,2)\n",
    "ax.set_title(\"Training Data\")\n",
    "\n",
    "ax.set_autoscaley_on(False)\n",
    "ax.set_ylim([32, 43])\n",
    "ax.set_autoscalex_on(False)\n",
    "ax.set_xlim([-126, -112])\n",
    "plt.scatter(training_examples[\"longitude\"],\n",
    "            training_examples[\"latitude\"],\n",
    "            cmap=\"coolwarm\",\n",
    "            c=training_targets[\"median_house_value\"] / training_targets[\"median_house_value\"].max())\n",
    "_ = plt.plot()\n",
    "plt.show()"
   ]
  },
  {
   "cell_type": "markdown",
   "metadata": {},
   "source": [
    "잠시만요... 샌프란시스코와 로스앤젤레스와 같이 값비싼 지역에 빨간색이 표시된, 캘리포니아 주에 대한 멋진 지도가 나왔어야 합니다.\n",
    "\n",
    "훈련 세트의 결과는 실제지도 와 비교하면 그럭저럭 비슷하지만, 검증 데이터의 결과는 분명히 그렇지 않습니다.\n",
    "\n",
    "다시 올라가서 일관성 체크 데이터를 다시 보십시오.\n",
    "\n",
    "훈련 데이터와 검증 데이터간의 특징 또는 목표의 분포가 다른 점이 있습니까?\n",
    "\n",
    "핵심 문제들을 알려면 Answer에서 힌트를 확인하십시오.\n",
    "\n",
    "### 작업 1 : 데이터 가져 오기 및 전처리 코드로 돌아가서 버그가 있는지 확인하기\n",
    "\n",
    "그렇다면 위에서 버그를 수정하십시오. 1~2분 이상 쓰지 마십시오. 버그를 찾을 수 없는 경우 Answer에서 힌트를 확인하십시오.\n",
    "\n",
    "문제를 찾아서 고쳐봤을 때 위에 위도를 그리는 latitude / longitude 코드를 다시 실행하고 일관성 체크 결과가 나아지는지 확인하십시오.\n",
    "\n",
    "그런데 여기서 중요한 교훈이 있습니다.\n",
    "\n",
    "ML에서의 디버깅은 종종 코드 디버깅보다는 데이터 디버깅입니다.\n",
    "\n",
    "데이터가 잘못되면 가장 진보된 ML 코드조차도 아무것도 할 수 없습니다."
   ]
  },
  {
   "cell_type": "markdown",
   "metadata": {},
   "source": [
    "### 작업 2 : 모델을 훈련시키고 평가하십시오.\n",
    "\n",
    "다른 하이퍼 매개 변수 설정을 시도하는 데 5분 정도를 사용해 봅시다. 최대한의 검증 성능을 얻으세요.\n",
    "\n",
    "TensorFlow Estimators 라이브러리에서 제공하는LinearRegressor 인터페이스를 사용하여 linear_regressor를 설정하는 코드를 작성하십시오.\n",
    "\n",
    "이전 연습의 코드를 사용하는 것은 괜찮습니다. 적절한 데이터 세트를 대상으로 fit()및 predict()를 호출 하고 싶을겁니다.\n",
    "\n",
    "단일 특징 대신 여러 입력 특징을 사용하는 경우에는 특별한 함수가 필요하지 않습니다. Estimators 인터페이스에서 Pandas DataFrame 객체를 사용할 수 있습니다.\n",
    "\n",
    "DataFrame에 여러 특징이 정의되어있는 경우 (우리가 했던것과 마찬가지로) 그 모든 특징들이 사용됩니다.\n",
    "\n",
    "훈련 데이터 및 검증 데이터의 손실을 비교하십시오.\n",
    "\n",
    "단일 원시 특징에서 RMSE (root mean square error)는 약 180이었습니다.\n",
    "\n",
    "여러 특징을 사용할 수 있게 된 지금 얼마나 더 나아졌는지 확인하십시오.\n",
    "\n",
    "앞에서 살펴본 일관성 검사 방법 중 일부를 사용하십시오. 다음과 같은 방법들입니다.\n",
    "\n",
    "* 예상 분포와 실제 목표 값을 비교\n",
    "> 예상 값과 목표 값의 산점도 (scatter plot) 시각화\n",
    " '위도'와 '경도'를 사용하여 검증 데이터의 두 가지 산점도 시각화\n",
    " - 실제 목표 인median_house_value를 보여주는 산점도\n",
    " - 비교를 위해 예측한 median_house_value에 색을 입혀 보여주는 산점도\n"
   ]
  },
  {
   "cell_type": "code",
   "execution_count": null,
   "metadata": {
    "collapsed": true
   },
   "outputs": [],
   "source": [
    "# 이 것은 단지 하나의 가능한 답입니다. 좋은 결과를 주는\n",
    "# 다른 매개 변수 조합이 있을 수 있습니다.\n",
    "# 이 과제는 최고의 답을 찾는 것이 아니라\n",
    "# 매개 변수 설정을 탐색하는 경험을 쌓는 것이 목적입니다.\n",
    "\n",
    "def train_model(\n",
    "    learning_rate,\n",
    "    steps,\n",
    "    batch_size,\n",
    "    training_examples,\n",
    "    training_targets,\n",
    "    validation_examples,\n",
    "    validation_targets):\n",
    "  \"\"\"선형 회귀 모델을 훈련합니다.\n",
    "\n",
    "  이 함수는 훈련뿐만 아니라 시간 경과에 따른 훈련 및 검증 손실의 플롯 등 훈련 진행 정보도 보여줍니다.\n",
    "\n",
    "  Args:\n",
    "    learning_rate: `float`, 학습율.\n",
    "    steps: 0이 아닌 `int`, 총 훈련 단계 수. \n",
    "      훈련 단계는 단일 배치를 사용하는 전진 및 역진 통과(forward/backward pass)로 구성됩니다. \n",
    "    batch_size: 0이 아닌 `int`, 배치 크기.\n",
    "    training_examples: 훈련을 위한 입력 특징으로 사용할 `california_housing_dataframe`\n",
    "      내의 하나 또는 여러개의 열이 든 `DataFrame`\n",
    "    training_targets: 훈련을 위한 목표로 사용할 `california_housing_dataframe`\n",
    "      내의 하나의 열이 든 `DataFrame`\n",
    "    validation_examples: 검증을 위한 입력 특징으로 사용할 `california_housing_dataframe`\n",
    "      내의 하나 또는 여러개의 열이 든 `DataFrame`\n",
    "    validation_targets: 검증을 위한 목표로 사용할 `california_housing_dataframe`\n",
    "      내의 하나의 열이 든 `DataFrame`\n",
    "\n",
    "  Returns:\n",
    "    훈련 데이터로 훈련한 `LinearRegressor` 객체.\n",
    "  \"\"\"\n",
    "\n",
    "  periods = 10\n",
    "  steps_per_period = steps / periods\n",
    "\n",
    "  # 입력 함수 생성.\n",
    "  training_input_fn = learn_io.pandas_input_fn(\n",
    "     x=training_examples, y=training_targets[\"median_house_value\"],\n",
    "     num_epochs=None, batch_size=batch_size)\n",
    "  predict_training_input_fn = learn_io.pandas_input_fn(\n",
    "     x=training_examples, y=training_targets[\"median_house_value\"],\n",
    "     num_epochs=1, shuffle=False)\n",
    "  predict_validation_input_fn = learn_io.pandas_input_fn(\n",
    "      x=validation_examples, y=validation_targets[\"median_house_value\"],\n",
    "      num_epochs=1, shuffle=False)\n",
    "\n",
    "  # 선형 회귀 객체 생성.\n",
    "  feature_columns = set([tf.contrib.layers.real_valued_column(my_feature) for my_feature in training_examples])\n",
    "  linear_regressor = tf.contrib.learn.LinearRegressor(\n",
    "      feature_columns=feature_columns,\n",
    "      optimizer=tf.train.GradientDescentOptimizer(learning_rate=learning_rate),\n",
    "      gradient_clip_norm=5.0\n",
    "  )\n",
    "\n",
    "  # 모델을 훈련 시키되 루프 내부에서 수행하여 손실 매트릭을 주기적으로 평가할 수 있게 합니다.\n",
    "  print \"Training model...\"\n",
    "  print \"RMSE (on training data):\"\n",
    "  training_rmse = []\n",
    "  validation_rmse = []\n",
    "  for period in range (0, periods):\n",
    "    # 이전 상태에서 시작하여 모델을 교육.\n",
    "    linear_regressor.fit(\n",
    "        input_fn=training_input_fn,\n",
    "        steps=steps_per_period,\n",
    "    )\n",
    "    # 잠시 멈추고 예측을 계산합니다.\n",
    "    training_predictions = list(linear_regressor.predict(input_fn=predict_training_input_fn))\n",
    "    validation_predictions = list(linear_regressor.predict(input_fn=predict_validation_input_fn))\n",
    "    # 훈련 및 검증 손실 계산.\n",
    "    training_root_mean_squared_error = math.sqrt(\n",
    "        metrics.mean_squared_error(training_predictions, training_targets))\n",
    "    validation_root_mean_squared_error = math.sqrt(\n",
    "        metrics.mean_squared_error(validation_predictions, validation_targets))\n",
    "    # 주기적으로 현재의 손실을 출력.\n",
    "    print \"  period %02d : %0.2f\" % (period, training_root_mean_squared_error)\n",
    "    # 이번 주기의 손실 매트릭을 리스트에 추가.\n",
    "    training_rmse.append(training_root_mean_squared_error)\n",
    "    validation_rmse.append(validation_root_mean_squared_error)\n",
    "  print \"Model training finished.\"\n",
    "\n",
    "  # 주기에 따른 손실 매트릭 그래프 출력\n",
    "  plt.ylabel(\"RMSE\")\n",
    "  plt.xlabel(\"Periods\")\n",
    "  plt.title(\"Root Mean Squared Error vs. Periods\")\n",
    "  plt.tight_layout()\n",
    "  plt.plot(training_rmse, label=\"training\")\n",
    "  plt.plot(validation_rmse, label=\"validation\")\n",
    "  plt.legend()\n",
    "\n",
    "  return linear_regressor\n",
    "\n",
    "linear_regressor = train_model(\n",
    "    learning_rate=0.00003,\n",
    "    steps=500,\n",
    "    batch_size=5,\n",
    "    training_examples=training_examples,\n",
    "    training_targets=training_targets,\n",
    "    validation_examples=validation_examples,\n",
    "    validation_targets=validation_targets)"
   ]
  },
  {
   "cell_type": "markdown",
   "metadata": {},
   "source": [
    "### 작업 3 : 테스트 데이터 평가\n",
    "\n",
    "아래 셀에서 테스트 데이터 세트를 불러와서 모델을 평가하십시오.\n",
    "\n",
    "검증 데이터에 대해 많은 반복 작업을 수행했습니다. 그 결과 혹시 특정 표본 데이터의 특색에 지나치게 오버피팅되지 않았는지 확인합시다.\n",
    "\n",
    "테스트 데이터 세트는 여기에 있습니다.\n",
    "\n",
    "테스트 성능과 검증 성능을 비교하면 어떻습니까? 이 모델의 일반적인 성능에 대해 무엇을 알려주나요?"
   ]
  },
  {
   "cell_type": "code",
   "execution_count": 175,
   "metadata": {},
   "outputs": [
    {
     "ename": "SyntaxError",
     "evalue": "invalid syntax (<ipython-input-175-665334d862ed>, line 20)",
     "output_type": "error",
     "traceback": [
      "\u001b[1;36m  File \u001b[1;32m\"<ipython-input-175-665334d862ed>\"\u001b[1;36m, line \u001b[1;32m20\u001b[0m\n\u001b[1;33m    print \"Final RMSE (on test data): %0.2f\" % root_mean_squared_error\u001b[0m\n\u001b[1;37m                                           ^\u001b[0m\n\u001b[1;31mSyntaxError\u001b[0m\u001b[1;31m:\u001b[0m invalid syntax\n"
     ]
    }
   ],
   "source": [
    "# 아래 코드와 같이 맞는 데이터 파일을 로딩하여 전처리하고\n",
    "# `predict`와 `mean_squared_error`를 사용하면 됩니다.\n",
    "\n",
    "# 모든 기록을 다 사용할 것이므로 테스트 데이터는 무작위로 섞는 과정을\n",
    "# 별도로 거칠 필요가 없음에 주의하세요.\n",
    "\n",
    "california_housing_test_data = pd.read_csv(\"https://datalabs.lablup.ai/public/tutorials/california_housing_test.csv\", sep=\",\")\n",
    "\n",
    "test_examples = preprocess_features(california_housing_test_data)\n",
    "test_targets = preprocess_targets(california_housing_test_data)\n",
    "\n",
    "predict_test_input_fn = learn_io.pandas_input_fn(\n",
    "      x=test_examples, y=test_targets[\"median_house_value\"],\n",
    "      num_epochs=1, shuffle=False)\n",
    "\n",
    "test_predictions = list(linear_regressor.predict(input_fn=predict_test_input_fn))\n",
    "root_mean_squared_error = math.sqrt(\n",
    "    metrics.mean_squared_error(test_predictions, test_targets))\n",
    "\n",
    "print \"Final RMSE (on test data): %0.2f\" % root_mean_squared_error"
   ]
  },
  {
   "cell_type": "markdown",
   "metadata": {},
   "source": [
    "---\n",
    "## 특징 집합(feature sets)\n",
    "* 복잡한 특징 집합과 비교해도 비슷하게 잘 동작하는 가장 작은 특징 집합을 만들어 봅니다.\n",
    "\n",
    "지금까지 우리는 모든 특징을 모델에 던졌습니다. 특징이 적은 모델은 리소스가 적고 유지 관리가 쉽습니다. 특징을 줄여봅시다.\n",
    "\n"
   ]
  },
  {
   "cell_type": "code",
   "execution_count": null,
   "metadata": {
    "collapsed": true
   },
   "outputs": [],
   "source": [
    "import math\n",
    "\n",
    "from sorna.display import display\n",
    "from matplotlib import cm\n",
    "from matplotlib import gridspec\n",
    "from matplotlib import pyplot as plt\n",
    "import numpy as np\n",
    "import pandas as pd\n",
    "from sklearn import metrics\n",
    "import tensorflow as tf\n",
    "from tensorflow.contrib.learn.python.learn import learn_io\n",
    "\n",
    "tf.logging.set_verbosity(tf.logging.ERROR)\n",
    "pd.options.display.max_rows = 10\n",
    "pd.options.display.float_format = '{:.1f}'.format\n",
    "\n",
    "california_housing_dataframe = pd.read_csv(\"http://datasets.lablup.ai/public/tutorials/california_housing_train.csv\", sep=\",\")\n",
    "\n",
    "california_housing_dataframe = california_housing_dataframe.reindex(\n",
    "    np.random.permutation(california_housing_dataframe.index))"
   ]
  },
  {
   "cell_type": "code",
   "execution_count": null,
   "metadata": {
    "collapsed": true
   },
   "outputs": [],
   "source": [
    "def preprocess_features(california_housing_dataframe):\n",
    "  \"\"\"캘리포니아 주거 데이터 세트로부터 입력 특징을 준비합니다.\n",
    "\n",
    "  Args:\n",
    "    california_housing_dataframe: 캘리포니아 주거 데이터 세트의 데이터가 든 Pandas DataFrame\n",
    "  Returns:\n",
    "    모델에서 사용할 (합성 특징들을 포함한) 특징이 든 DataFrame.\n",
    "  \"\"\"\n",
    "  selected_features = california_housing_dataframe[\n",
    "    [\"latitude\",\n",
    "     \"longitude\",\n",
    "     \"housing_median_age\",\n",
    "     \"total_rooms\",\n",
    "     \"total_bedrooms\",\n",
    "     \"population\",\n",
    "     \"households\",\n",
    "     \"median_income\"]]\n",
    "  processed_features = selected_features.copy()\n",
    "  # 합성 특징 만들기.\n",
    "  processed_features[\"rooms_per_person\"] = (\n",
    "    california_housing_dataframe[\"total_rooms\"] /\n",
    "    california_housing_dataframe[\"population\"])\n",
    "  return processed_features\n",
    "\n",
    "def preprocess_targets(california_housing_dataframe):\n",
    "  \"\"\"캘리포니아 주거 데이터로부터 목표 특징 (레이블)들을 준비합니다.\n",
    "\n",
    "  Args:\n",
    "    california_housing_dataframe: 캘리포니아 주거 데이터 세트의 데이터가 든 Pandas DataFrame\n",
    "  Returns:\n",
    "    목표 특징을 포함한 DataFrame.\n",
    "  \"\"\"\n",
    "  output_targets = pd.DataFrame()\n",
    "  # 천단위 달러로 목표 규모를 조정합니다.\n",
    "  output_targets[\"median_house_value\"] = (\n",
    "    california_housing_dataframe[\"median_house_value\"] / 1000.0)\n",
    "  return output_targets"
   ]
  },
  {
   "cell_type": "code",
   "execution_count": null,
   "metadata": {
    "collapsed": true
   },
   "outputs": [],
   "source": [
    "training_examples = preprocess_features(california_housing_dataframe.head(12000))\n",
    "display(training_examples.describe())"
   ]
  },
  {
   "cell_type": "code",
   "execution_count": null,
   "metadata": {
    "collapsed": true
   },
   "outputs": [],
   "source": [
    "training_targets = preprocess_targets(california_housing_dataframe.head(12000))\n",
    "display(training_targets.describe())"
   ]
  },
  {
   "cell_type": "code",
   "execution_count": null,
   "metadata": {
    "collapsed": true
   },
   "outputs": [],
   "source": [
    "validation_examples = preprocess_features(california_housing_dataframe.tail(5000))\n",
    "display(validation_examples.describe())"
   ]
  },
  {
   "cell_type": "code",
   "execution_count": null,
   "metadata": {
    "collapsed": true
   },
   "outputs": [],
   "source": [
    "validation_targets = preprocess_targets(california_housing_dataframe.tail(5000))\n",
    "display(validation_targets.describe())"
   ]
  },
  {
   "cell_type": "markdown",
   "metadata": {},
   "source": [
    "### 작업 1 : 좋은 특징 집합 개발\n",
    "\n",
    "단지 2 ~ 3가지 특징만 사용하여 얻을 수 있는 최고의 성능은 얼마일까요?\n",
    "\n",
    "상관 행렬은 목표와 비교한 각 특징과, 다른 특징들과 비교한 각 특징의 쌍방향 상관 관계를 보여줍니다.\n",
    "\n",
    "여기서 상관 관계는 피어슨 상관 계수로 정의됩니다. 이 코스를 위해 수학적 세부 사항을 이해할 필요는 없습니다.\n",
    "\n",
    "상관 계수의 의미는 다음과 같습니다.\n",
    "\n",
    "* -1.0 : 완벽한 음의 상관 관계\n",
    "* 0.0 : 상관 관계 없음\n",
    "* 1.0 : 완전한 양의 상관 관계"
   ]
  },
  {
   "cell_type": "code",
   "execution_count": null,
   "metadata": {
    "collapsed": true
   },
   "outputs": [],
   "source": [
    "correlation_dataframe = training_examples.copy()\n",
    "correlation_dataframe[\"target\"] = training_targets[\"median_house_value\"]\n",
    "\n",
    "display(correlation_dataframe.corr())"
   ]
  },
  {
   "cell_type": "markdown",
   "metadata": {},
   "source": [
    "이상적으로, 우리는 목표와 강한 상관 관계가 있는 특징을 원합니다. 우리는 또한 너무 강하게 상호 연관되지 않아서 서로 독립적인 정보를 담는 특징들을 갖고 싶습니다.\n",
    "\n",
    "이 정보를 사용하여 특징들을 제거하십시오. 두 가지 원시 특징의 비율과 같은 추가 합성 특징을 만들 수도 있습니다.\n",
    "\n",
    "편의를 위해 이전 연습에서 작성한 코드를 아래에 추가했습니다."
   ]
  },
  {
   "cell_type": "code",
   "execution_count": null,
   "metadata": {
    "collapsed": true
   },
   "outputs": [],
   "source": [
    "def train_model(\n",
    "    learning_rate,\n",
    "    steps,\n",
    "    batch_size,\n",
    "    training_examples,\n",
    "    training_targets,\n",
    "    validation_examples,\n",
    "    validation_targets):\n",
    "  \"\"\"선형 회귀 모델을 훈련합니다.\n",
    "\n",
    "  이 함수는 훈련뿐만 아니라 시간 경과에 따른 훈련 및 검증 손실의 플롯 등 훈련 진행 정보도 보여줍니다.\n",
    "\n",
    "  Args:\n",
    "    learning_rate: `float`, 학습율.\n",
    "    steps: 0이 아닌 `int`, 총 훈련 단계 수. \n",
    "      훈련 단계는 단일 배치를 사용하는 전진 및 역진 통과(forward/backward pass)로 구성됩니다. \n",
    "    batch_size: 0이 아닌 `int`, 배치 크기.\n",
    "    training_examples: 훈련을 위한 입력 특징으로 사용할 `california_housing_dataframe`\n",
    "      내의 하나 또는 여러개의 열이 든 `DataFrame`\n",
    "    training_targets: 훈련을 위한 목표로 사용할 `california_housing_dataframe`\n",
    "      내의 하나의 열이 든 `DataFrame`\n",
    "    validation_examples: 검증을 위한 입력 특징으로 사용할 `california_housing_dataframe`\n",
    "      내의 하나 또는 여러개의 열이 든 `DataFrame`\n",
    "    validation_targets: 검증을 위한 목표로 사용할 `california_housing_dataframe`\n",
    "      내의 하나의 열이 든 `DataFrame`\n",
    "\n",
    "  Returns:\n",
    "    훈련 데이터로 훈련한 `LinearRegressor` 객체.\n",
    "  \"\"\"\n",
    "  periods = 10\n",
    "  steps_per_period = steps / periods\n",
    "\n",
    "  # 선형 회귀 객체 생성.\n",
    "  feature_columns = set([tf.contrib.layers.real_valued_column(my_feature) for my_feature in training_examples])\n",
    "  linear_regressor = tf.contrib.learn.LinearRegressor(\n",
    "      feature_columns=feature_columns,\n",
    "      optimizer=tf.train.GradientDescentOptimizer(learning_rate=learning_rate),\n",
    "      gradient_clip_norm=5.0\n",
    "  )\n",
    "\n",
    "  # 입력 함수 생성.\n",
    "  training_input_fn = learn_io.pandas_input_fn(\n",
    "      x=training_examples, y=training_targets[\"median_house_value\"],\n",
    "      num_epochs=None, batch_size=batch_size)\n",
    "  predict_training_input_fn = learn_io.pandas_input_fn(\n",
    "      x=training_examples, y=training_targets[\"median_house_value\"],\n",
    "      num_epochs=1, shuffle=False)\n",
    "  predict_validation_input_fn = learn_io.pandas_input_fn(\n",
    "      x=validation_examples, y=validation_targets[\"median_house_value\"],\n",
    "      num_epochs=1, shuffle=False)\n",
    "\n",
    "  # 모델을 훈련 시키되 루프 내부에서 수행하여 손실 매트릭을 주기적으로 평가할 수 있게 합니다.\n",
    "  print(\"Training model...\")\n",
    "  print(\"RMSE (on training data):\")\n",
    "  training_rmse = []\n",
    "  validation_rmse = []\n",
    "  for period in range (0, periods):\n",
    "    # 이전 상태에서 시작하여 모델을 교육.\n",
    "    linear_regressor.fit(\n",
    "        input_fn=training_input_fn,\n",
    "        steps=steps_per_period,\n",
    "    )\n",
    "    # 잠시 멈추고 예측을 계산합니다.\n",
    "    training_predictions = list(linear_regressor.predict(input_fn=predict_training_input_fn))\n",
    "    validation_predictions = list(linear_regressor.predict(input_fn=predict_validation_input_fn))\n",
    "    # 훈련 및 검증 손실 계산.\n",
    "    training_root_mean_squared_error = math.sqrt(\n",
    "        metrics.mean_squared_error(training_predictions, training_targets))\n",
    "    validation_root_mean_squared_error = math.sqrt(\n",
    "        metrics.mean_squared_error(validation_predictions, validation_targets))\n",
    "    # 주기적으로 현재의 손실을 출력.\n",
    "    print(\"  period %02d : %0.2f\" % (period, training_root_mean_squared_error))\n",
    "    # 이번 주기의 손실 매트릭을 리스트에 추가.\n",
    "    training_rmse.append(training_root_mean_squared_error)\n",
    "    validation_rmse.append(validation_root_mean_squared_error)\n",
    "  print(\"Model training finished.\")\n",
    "\n",
    "\n",
    "  # 주기에 따른 손실 매트릭 그래프 출력\n",
    "  plt.ylabel(\"RMSE\")\n",
    "  plt.xlabel(\"Periods\")\n",
    "  plt.title(\"Root Mean Squared Error vs. Periods\")\n",
    "  plt.tight_layout()\n",
    "  plt.plot(training_rmse, label=\"training\")\n",
    "  plt.plot(validation_rmse, label=\"validation\")\n",
    "  plt.legend()\n",
    "\n",
    "  return linear_regressor"
   ]
  },
  {
   "cell_type": "markdown",
   "metadata": {},
   "source": [
    "5분 동안 훌륭한 특징 및 교육 매개 변수 조합을 알아보세요. 그런 다음 솔루션을 선택하여 우리가 선택한 것을 확인하십시오. 다른 특징들은 다른 학습 매개 변수가 필요할 수 있음을 잊지 마십시오.\n",
    "\n"
   ]
  },
  {
   "cell_type": "code",
   "execution_count": null,
   "metadata": {
    "collapsed": true
   },
   "outputs": [],
   "source": [
    "#\n",
    "# 여기에 코드를 입력하세요: 당신이 고른 특징을 작은따옴표로 묶은 문자열 리스트로 추가하세요.\n",
    "#\n",
    "minimal_features = [\n",
    "]\n",
    "\n",
    "assert minimal_features, \"You must select at least one feature!\"\n",
    "\n",
    "minimal_training_examples = training_examples[minimal_features]\n",
    "minimal_validation_examples = validation_examples[minimal_features]\n",
    "\n",
    "#\n",
    "# 이 파라미터들을 수정하는 것을 잊지 마세요.\n",
    "#\n",
    "train_model(\n",
    "    learning_rate=0.001,\n",
    "    steps=500,\n",
    "    batch_size=5,\n",
    "    training_examples=minimal_training_examples,\n",
    "    training_targets=training_targets,\n",
    "    validation_examples=minimal_validation_examples,\n",
    "    validation_targets=validation_targets)"
   ]
  },
  {
   "cell_type": "code",
   "execution_count": null,
   "metadata": {
    "collapsed": true
   },
   "outputs": [],
   "source": [
    "# 아래 두 특징에 대해 시도해 보았습니다. 늘 그렇듯이,\n",
    "# 이 것은 좋은 결과를 보여주는 많은 예제 중 하나일 뿐입니다.\n",
    "# * \"median_income\"\n",
    "# * \"latitude\"\n",
    "# 학습율도 조금 조정하였습니다.\n",
    "\n",
    "minimal_features = [\n",
    "  \"median_income\",\n",
    "  \"latitude\",\n",
    "]\n",
    "\n",
    "minimal_training_examples = training_examples[minimal_features]\n",
    "minimal_validation_examples = validation_examples[minimal_features]\n",
    "\n",
    "_ = train_model(\n",
    "    learning_rate=0.01,\n",
    "    steps=500,\n",
    "    batch_size=5,\n",
    "    training_examples=minimal_training_examples,\n",
    "    training_targets=training_targets,\n",
    "    validation_examples=minimal_validation_examples,\n",
    "    validation_targets=validation_targets)"
   ]
  },
  {
   "cell_type": "markdown",
   "metadata": {},
   "source": [
    "---\n",
    "### 작업 2 : 위도를 보다 잘 활용하기\n",
    "\n",
    "위도와 더 잘 작동하는 합성 특징을 만들어보십시오.\n",
    "\n",
    "위도 (latitude)와 median_house_value를 함께 그려 보면 실제로 거기에는 선형 관계가 없다는 것을 알 수 있습니다.\n",
    "\n",
    "대신 로스앤젤레스와 샌프란시스코에 대략 일치하는 몇 가지 봉우리가 있습니다."
   ]
  },
  {
   "cell_type": "code",
   "execution_count": null,
   "metadata": {
    "collapsed": true
   },
   "outputs": [],
   "source": [
    "plt.figure()\n",
    "plt.scatter(training_examples[\"latitude\"], training_targets[\"median_house_value\"])\n",
    "plt.show()"
   ]
  },
  {
   "cell_type": "markdown",
   "metadata": {},
   "source": [
    "예를 들어 다음과 같은 방법들이 가능합니다.\n",
    "\n",
    "* 상관 행렬을 통해 상관계수를 살펴보고 새로운 변수들을 추가할 수 있습니다.\n",
    "* 샌프란시스코의 latitude는 37.773972임을 이용하여 lat_dist_from_SF = |latitude − 37.773972| 라는 새로운 특징을 만들어 낼 수 있습니다.\n",
    "latitude를 |latitude - 38|값으로 매핑하는 특징을 만들 수 있고, 이것을distance_from_san_francisco라고 부를 수도 있습니다.\n",
    "* latitude_32_to_33,latitude_33_to_34와 같이 latitude/logitude 를 10등분 하여 새로운 특징들을 만들어 해당 범위 안에 있으면 1 아니면 0 값으로 나타 낼 수도 있습니다.\n",
    "\n",
    "이외에도 많은 방법들이 있습니다. 그동안 익힌 방법들을 사용해 최고의 검증 성능을 구해보세요. 상관 행렬을 사용하여 어떤 방법을 사용할지 계획해 보세요. 좋아 보이는 것을 발견하면 모델에 추가하십시오.\n",
    "\n",
    "저는 약 68.48495469688254을 얻었습니다. 당신이 얻을 수있는 최고의 검증 성능은 무엇입니까?"
   ]
  },
  {
   "cell_type": "code",
   "execution_count": null,
   "metadata": {
    "collapsed": true
   },
   "outputs": [],
   "source": [
    "# 이전 결과와 비교하기 위해서 `median_income`을 그대로 유지합니다.\n",
    "# 위도를 버킷화(bucketize)하여 봅니다. Pandas에서 Series.apply를 사용하면 간단합니다.\n",
    "\n",
    "LATITUDE_RANGES = zip(xrange(32, 44), xrange(33, 45))\n",
    "\n",
    "def select_and_transform_features(source_df):\n",
    "  selected_examples = pd.DataFrame()\n",
    "  selected_examples[\"median_income\"] = source_df[\"median_income\"]\n",
    "  for r in LATITUDE_RANGES:\n",
    "    selected_examples[\"latitude_%d_to_%d\" % r] = source_df[\"latitude\"].apply(\n",
    "      lambda l: 1.0 if l >= r[0] and l < r[1] else 0.0)\n",
    "  return selected_examples\n",
    "\n",
    "selected_training_examples = select_and_transform_features(training_examples)\n",
    "selected_validation_examples = select_and_transform_features(validation_examples)\n",
    "\n",
    "_ = train_model(\n",
    "    learning_rate=0.01,\n",
    "    steps=500,\n",
    "    batch_size=5,\n",
    "    training_examples=selected_training_examples,\n",
    "    training_targets=training_targets,\n",
    "    validation_examples=selected_validation_examples,\n",
    "    validation_targets=validation_targets)"
   ]
  },
  {
   "cell_type": "markdown",
   "metadata": {},
   "source": [
    "---\n",
    "## 특징 조합(feature crosses)\n",
    "* 추가 합성 기능을 추가하여 선형 회귀 모델을 개선합니다 (이전 연습의 연속입니다)\n",
    "> 입력 함수를 사용하여 pandasDataFrame 객체를 Tensors로 변환하고 fit() 및 predict()연산에서 입력 함수를 호출합니다.\n",
    "* 모델 훈련에 FTRL 최적화 알고리즘을 사용합니다\n",
    "* one-hot 인코딩, 비닝 (binning) 및 특징 조합(feature crosses)을 통해 새로운 합성 기능을 생성합니다.\n",
    "\n",
    "먼저, 입력을 정의하고 데이터 불러오기 코드를 작성해 봅시다.\n",
    "\n",
    "\n",
    "\n"
   ]
  },
  {
   "cell_type": "code",
   "execution_count": null,
   "metadata": {
    "collapsed": true
   },
   "outputs": [],
   "source": [
    "import math\n",
    "\n",
    "from sorna.display import display\n",
    "from matplotlib import cm\n",
    "from matplotlib import gridspec\n",
    "from matplotlib import pyplot as plt\n",
    "import numpy as np\n",
    "import pandas as pd\n",
    "from sklearn import metrics\n",
    "import tensorflow as tf\n",
    "\n",
    "tf.logging.set_verbosity(tf.logging.ERROR)\n",
    "pd.options.display.max_rows = 10\n",
    "pd.options.display.float_format = '{:.1f}'.format\n",
    "\n",
    "california_housing_dataframe = pd.read_csv(\"http://datasets.lablup.ai/public/tutorials/california_housing_train.csv\", sep=\",\")\n",
    "\n",
    "california_housing_dataframe = california_housing_dataframe.reindex(\n",
    "    np.random.permutation(california_housing_dataframe.index))"
   ]
  },
  {
   "cell_type": "code",
   "execution_count": null,
   "metadata": {
    "collapsed": true
   },
   "outputs": [],
   "source": [
    "def preprocess_features(california_housing_dataframe):\n",
    "  \"\"\"캘리포니아 주거 데이터 세트로부터 입력 특징을 준비합니다.\n",
    "\n",
    "  Args:\n",
    "    california_housing_dataframe: 캘리포니아 주거 데이터 세트의 데이터가 든 Pandas DataFrame\n",
    "  Returns:\n",
    "    모델에서 사용할 (합성 특징들을 포함한) 특징이 든 DataFrame.\n",
    "  \"\"\"\n",
    "  selected_features = california_housing_dataframe[\n",
    "    [\"latitude\",\n",
    "     \"longitude\",\n",
    "     \"housing_median_age\",\n",
    "     \"total_rooms\",\n",
    "     \"total_bedrooms\",\n",
    "     \"population\",\n",
    "     \"households\",\n",
    "     \"median_income\"]]\n",
    "  processed_features = selected_features.copy()\n",
    "  # Create a synthetic feature.\n",
    "  processed_features[\"rooms_per_person\"] = (\n",
    "    california_housing_dataframe[\"total_rooms\"] /\n",
    "    california_housing_dataframe[\"population\"])\n",
    "  return processed_features\n",
    "\n",
    "def preprocess_targets(california_housing_dataframe):\n",
    "  \"\"\"캘리포니아 주거 데이터로부터 목표 특징 (레이블)들을 준비합니다.\n",
    "\n",
    "  Args:\n",
    "    california_housing_dataframe: 캘리포니아 주거 데이터 세트의 데이터가 든 Pandas DataFrame\n",
    "  Returns:\n",
    "    목표 특징을 포함한 DataFrame.\n",
    "  \"\"\"\n",
    "  output_targets = pd.DataFrame()\n",
    "  # 천단위 달러로 목표 규모를 조정합니다.\n",
    "  output_targets[\"median_house_value\"] = (\n",
    "    california_housing_dataframe[\"median_house_value\"] / 1000.0)\n",
    "  return output_targets"
   ]
  },
  {
   "cell_type": "code",
   "execution_count": null,
   "metadata": {
    "collapsed": true
   },
   "outputs": [],
   "source": [
    "training_examples = preprocess_features(california_housing_dataframe.head(12000))\n",
    "display(training_examples.describe())"
   ]
  },
  {
   "cell_type": "code",
   "execution_count": null,
   "metadata": {
    "collapsed": true
   },
   "outputs": [],
   "source": [
    "training_targets = preprocess_targets(california_housing_dataframe.head(12000))\n",
    "display(training_targets.describe())"
   ]
  },
  {
   "cell_type": "code",
   "execution_count": null,
   "metadata": {
    "collapsed": true
   },
   "outputs": [],
   "source": [
    "validation_examples = preprocess_features(california_housing_dataframe.tail(5000))\n",
    "display(validation_examples.describe())"
   ]
  },
  {
   "cell_type": "code",
   "execution_count": null,
   "metadata": {
    "collapsed": true
   },
   "outputs": [],
   "source": [
    "validation_targets = preprocess_targets(california_housing_dataframe.tail(5000))\n",
    "display(validation_targets.describe())"
   ]
  },
  {
   "cell_type": "markdown",
   "metadata": {},
   "source": [
    "### 특징 엔지니어링\n",
    "\n",
    "잘 맞는 특징을 만들면 특히 회귀와 같은 간단한 모델의 경우 ML 모델이 크게 향상됩니다. 우리는 이전 연습에서 2개 (또는 그 이상)의 독립적인 특징은 종종 특징으로부터 파생된 특징만큼 많은 정보를 제공하지 않는다는 것을 알게 되었습니다.\n",
    "\n",
    "앞의 예에서 이미 합성 기능을 사용했습니다 :rooms_per_person.\n",
    "\n",
    "특정 열에 대한 연산을 수행하여 간단하게 합성 특징을 생성 할 수 있습니다. 그러나 버킷화 또는 조합 버킷 특징과 같은 복잡한 작업에서는 장황할 수 있습니다. 특징 열은 합성 특징을 쉽게 추가 할 수 있게 하는 강력한 추상화입니다.\n",
    "\n"
   ]
  },
  {
   "cell_type": "code",
   "execution_count": 176,
   "metadata": {
    "collapsed": true
   },
   "outputs": [],
   "source": [
    "longitude = tf.contrib.layers.real_valued_column(\"longitude\")\n",
    "latitude = tf.contrib.layers.real_valued_column(\"latitude\")\n",
    "housing_median_age = tf.contrib.layers.real_valued_column(\"housing_median_age\")\n",
    "households = tf.contrib.layers.real_valued_column(\"households\")\n",
    "median_income = tf.contrib.layers.real_valued_column(\"median_income\")\n",
    "rooms_per_person = tf.contrib.layers.real_valued_column(\"rooms_per_person\")\n",
    "\n",
    "feature_columns = set([\n",
    "    longitude,\n",
    "    latitude,\n",
    "    housing_median_age,\n",
    "    households,\n",
    "    median_income,\n",
    "    rooms_per_person])"
   ]
  },
  {
   "cell_type": "markdown",
   "metadata": {},
   "source": [
    "### 입력함수\n",
    "이전에는 Pandas의 DataFrame 객체를 사용하여 데이터를 예측기(estimator)에 전달했습니다. 더 유연하지만 더 복잡한 데이터 전달 방법은 입력 함수를 사용하는 것입니다.\n",
    "\n",
    "estimators API의 특이한 점 중 하나는 입력 함수가 데이터를 배치로 분할하는 책임이 있으므로 input_fn 을 사용할 때batch_size 인수가 무시된다는 것입니다. 배치 크기는 입력 함수가 반환하는 행 수에 따라 결정됩니다 (아래 참조).\n",
    "\n",
    "입력 함수는 TensorFlow에서 사용되는 핵심 데이터 유형인 Tensor 객체를 반환합니다. 더 구체적으로 말하면, 입력 함수는 다음과 같은(features, label)튜플을 반환해야 합니다 :\n",
    "\n",
    "features : 모양(n, 1) 의 Tensor 값에 string 값 (피쳐 이름)을 매핑하는 dict. n은 입력 함수에 의해 반환된 데이터 행의 수 (따라서 배치 크기)입니다.\n",
    "label : 대응하는 레이블을 나타내는 모양. (n, 1) 의 Tensor.\n",
    "참고로, 입력 함수들은 대개 순차적으로 데이터를 읽는 대기열을 생성하지만 여기서는 다루지 않는 고급 주제입니다. 데이터가 너무 커서 메모리에 미리 로드 할 수없는 경우에 필요합니다.\n",
    "\n",
    "간결함을 위해, 우리 함수는 전체 DataFrame 을 Tensor 로 변환 할 것입니다. 이것은 일괄 처리 크기를 12000(그리고 유효성 검사를 위해 각각 5000) - 다소 큰 크기로 사용함을 의미합니다만, 우리의 작은 모델에서는 잘 작동 할 것입니다. 이렇게 하면 훈련 속도가 약간 느려지지만 벡터 최적화 덕분에 성능 저하가 그렇게 심하지는 않을 것입니다.\n",
    "\n",
    "여기에 필요한 입력 함수는 다음과 같습니다.\n",
    "\n",
    "\n"
   ]
  },
  {
   "cell_type": "code",
   "execution_count": null,
   "metadata": {
    "collapsed": true
   },
   "outputs": [],
   "source": [
    "def input_function(examples_df, targets_df, single_read=False):\n",
    "  \"\"\"예제/목표 쌍 `DataFrame` 을`Tensor`로 변환합니다.\n",
    "\n",
    "  `Tensor`는 `(N,1)` 형태로 변형됩니다. `N`은 `DataFrame`에 들어있는 예제의 수입니다.\n",
    "\n",
    "  Args:\n",
    "    examples_df: 입력 특징을 포함하는 `DataFrame`. 모든 열은 해당 입력 특징 `Tensor`객체로 변환됩니다.\n",
    "    targets_df: `examples df`의 각 예제에 해당하는 단일 열을 포함한 `DataFrame`.\n",
    "    single_read: 이 함수가 dataset을 한 번 읽은 후에 멈춰야 하는지의 여부를 가리키는 `bool`. \n",
    "      `False`인 경우, 데이터 세트를 반복 순환합니다. 이 중지 메커니즘은 estimator의 `predict()`가 \n",
    "      읽는 값의 수를 제한하기 위해 사용됩니다.\n",
    "\n",
    "Returns:\n",
    "    `(input_features, target_tensor)` `tuple`:\n",
    "      input_features: 특징의 열 이름 문자열 값을 실제 특징 값의 `Tensor`에 매핑하는 `dict`.\n",
    "      target_tensor: 목표 값을 나타내는 `Tensor`.\n",
    "  \"\"\"\n",
    "  features = {}\n",
    "  for column_name in examples_df.keys():\n",
    "    batch_tensor = tf.to_float(\n",
    "        tf.reshape(tf.constant(examples_df[column_name].values), [-1, 1]))\n",
    "    if single_read:\n",
    "      features[column_name] = tf.train.limit_epochs(batch_tensor, num_epochs=1)\n",
    "    else:\n",
    "      features[column_name] = batch_tensor\n",
    "  target_tensor = tf.to_float(\n",
    "      tf.reshape(tf.constant(targets_df[targets_df.keys()[0]].values), [-1, 1]))\n",
    "\n",
    "  return features, target_tensor"
   ]
  },
  {
   "cell_type": "markdown",
   "metadata": {},
   "source": [
    "예를 들어, 아래 코드는 캘리포니아 주택 데이터 세트의 몇 가지 샘플 레코드를 전달했을 때 입력 함수의 출력을 보여줍니다.\n",
    "\n",
    "이 코드는 오직 설명을 위한 것입니다. 모델을 교육하는 데 반드시 필요한 것은 아닙니다만, 다양한 특징 의 효과를 시각화하는 것은 유용함을 알게 될 것입니다.\n",
    "\n"
   ]
  },
  {
   "cell_type": "code",
   "execution_count": null,
   "metadata": {
    "collapsed": true
   },
   "outputs": [],
   "source": [
    "def sample_from_input_function(input_fn):\n",
    "  \"\"\"주어진 입력 함수에서 몇개의 샘플을 반환합니다.\n",
    "\n",
    "  Args:\n",
    "    input_fn: `Estimator`의 입력함수 조건을 충족하는 입력함수.\n",
    "  Returns:\n",
    "    이 함수에서 반환하는 적은 수의 레코드를 포함한 `DataFrame`.\n",
    "  \"\"\"\n",
    "\n",
    "  examples, target = input_fn()\n",
    "\n",
    "  example_samples = {\n",
    "    name: tf.strided_slice(values, [0, 0], [5, 1]) for name, values in examples.items()\n",
    "  }\n",
    "  target_samples = tf.strided_slice(target, [0, 0], [5, 1])\n",
    "\n",
    "  with tf.Session() as sess:\n",
    "    example_sample_values, target_sample_values = sess.run(\n",
    "        [example_samples, target_samples])\n",
    "\n",
    "  results = pd.DataFrame()\n",
    "  for name, values in example_sample_values.items():\n",
    "    results[name] = pd.Series(values.reshape(-1))\n",
    "  results['target'] = target_sample_values.reshape(-1)\n",
    "\n",
    "  return results"
   ]
  },
  {
   "cell_type": "code",
   "execution_count": null,
   "metadata": {
    "collapsed": true
   },
   "outputs": [],
   "source": [
    "samples = sample_from_input_function(\n",
    "  lambda: input_function(training_examples, training_targets))\n",
    "display(samples)"
   ]
  },
  {
   "cell_type": "markdown",
   "metadata": {},
   "source": [
    "### FTRL 최적화 알고리즘\n",
    "\n",
    "고차원 선형 모델은 FTRL이라는 그래디언트 기반 최적화 변형을 사용하면 이득을 얻습니다. 이 알고리즘은 다른 계수에 대해 학습 속도를 다르게 조정할 수있는 이점이 있습니다. 이는 일부 특징이 0이 아닌 값을 거의 사용하지 않는 경우 유용 할 수 있습니다. (또한 L1 정규화와 잘 어울립니다.) FtrlOptimizer를 사용하여 FTRL을 적용 할 수 있습니다.\n",
    "\n",
    "https://www.tensorflow.org/api_docs/python/tf/train/FtrlOptimizer"
   ]
  },
  {
   "cell_type": "code",
   "execution_count": null,
   "metadata": {
    "collapsed": true
   },
   "outputs": [],
   "source": [
    "def train_model(\n",
    "    learning_rate,\n",
    "    steps,\n",
    "    feature_columns,\n",
    "    training_examples,\n",
    "    training_targets,\n",
    "    validation_examples,\n",
    "    validation_targets):\n",
    "  \"\"\"선형 회귀 모델을 훈련합니다.\n",
    "\n",
    "  이 함수는 훈련뿐만 아니라 시간 경과에 따른 훈련 및 검증 손실의 플롯 등 훈련 진행 정보도 보여줍니다.\n",
    "\n",
    "  Args:\n",
    "    learning_rate: `float`, 학습율.\n",
    "    steps: 0이 아닌 `int`, 총 훈련 단계 수. \n",
    "      훈련 단계는 단일 배치를 사용하는 전진 및 역진 통과(forward/backward pass)로 구성됩니다. \n",
    "    feature_columns: 사용할 입력 특징 열을 지정하는 `set`.\n",
    "    training_examples: 훈련을 위한 입력 특징으로 사용할 `california_housing_dataframe`\n",
    "      내의 하나 또는 여러개의 열이 든 `DataFrame`\n",
    "    training_targets: 훈련을 위한 목표로 사용할 `california_housing_dataframe`\n",
    "      내의 하나의 열이 든 `DataFrame`\n",
    "    validation_examples: 검증을 위한 입력 특징으로 사용할 `california_housing_dataframe`\n",
    "      내의 하나 또는 여러개의 열이 든 `DataFrame`\n",
    "    validation_targets: 검증을 위한 목표로 사용할 `california_housing_dataframe`\n",
    "      내의 하나의 열이 든 `DataFrame`\n",
    "\n",
    "  Returns:\n",
    "    훈련 데이터로 훈련한 `LinearRegressor` 객체.\n",
    "  \"\"\"\n",
    "\n",
    "  periods = 10\n",
    "  steps_per_period = steps / periods\n",
    "\n",
    "  # 선형 회귀 객체 생성.\n",
    "  linear_regressor = tf.contrib.learn.LinearRegressor(\n",
    "      feature_columns=feature_columns,\n",
    "      optimizer=tf.train.FtrlOptimizer(learning_rate=learning_rate),\n",
    "      gradient_clip_norm=5.0\n",
    "  )\n",
    "\n",
    "  training_input_function = lambda: input_function(\n",
    "      training_examples, training_targets)\n",
    "  training_input_function_for_predict = lambda: input_function(\n",
    "      training_examples, training_targets, single_read=True)\n",
    "  validation_input_function_for_predict = lambda: input_function(\n",
    "      validation_examples, validation_targets, single_read=True)\n",
    "\n",
    "  # 모델을 훈련 시키되 루프 내부에서 수행하여 손실 매트릭을 주기적으로 평가할 수 있게 합니다.\n",
    "  print(\"Training model...\")\n",
    "  print(\"RMSE (on training data):\")\n",
    "  training_rmse = []\n",
    "  validation_rmse = []\n",
    "  for period in range (0, periods):\n",
    "    # 이전 상태에서 시작하여 모델을 교육.\n",
    "    linear_regressor.fit(\n",
    "        input_fn=training_input_function,\n",
    "        steps=steps_per_period\n",
    "    )\n",
    "    # 잠시 멈추고 예측을 계산합니다.\n",
    "    training_predictions = list(linear_regressor.predict(\n",
    "        input_fn=training_input_function_for_predict))\n",
    "    validation_predictions = list(linear_regressor.predict(\n",
    "        input_fn=validation_input_function_for_predict))\n",
    "    # 훈련 및 검증 손실 계산.\n",
    "    training_root_mean_squared_error = math.sqrt(\n",
    "        metrics.mean_squared_error(training_predictions, training_targets))\n",
    "    validation_root_mean_squared_error = math.sqrt(\n",
    "        metrics.mean_squared_error(validation_predictions, validation_targets))\n",
    "    # 주기적으로 현재의 손실을 출력.\n",
    "    print(\"  period %02d : %0.2f\" % (period, training_root_mean_squared_error))\n",
    "    # 이번 주기의 손실 매트릭을 리스트에 추가.\n",
    "    training_rmse.append(training_root_mean_squared_error)\n",
    "    validation_rmse.append(validation_root_mean_squared_error)\n",
    "  print(\"Model training finished.\")\n",
    "\n",
    "\n",
    "  # 주기에 따른 손실 매트릭 그래프 출력\n",
    "  plt.ylabel(\"RMSE\")\n",
    "  plt.xlabel(\"Periods\")\n",
    "  plt.title(\"Root Mean Squared Error vs. Periods\")\n",
    "  plt.tight_layout(True)\n",
    "  plt.plot(training_rmse, label=\"training\")\n",
    "  plt.plot(validation_rmse, label=\"validation\")\n",
    "  plt.legend()\n",
    "  plt.show()\n",
    "  return linear_regressor"
   ]
  },
  {
   "cell_type": "code",
   "execution_count": null,
   "metadata": {
    "collapsed": true
   },
   "outputs": [],
   "source": [
    "_ = train_model(\n",
    "    learning_rate=1.0,\n",
    "    steps=500,\n",
    "    feature_columns=feature_columns,\n",
    "    training_examples=training_examples,\n",
    "    training_targets=training_targets,\n",
    "    validation_examples=validation_examples,\n",
    "    validation_targets=validation_targets)"
   ]
  },
  {
   "cell_type": "markdown",
   "metadata": {},
   "source": [
    "### 이산 특징을 위한 one-hot 인코딩\n",
    "\n",
    "이산 (즉, string(문자열), enumerations(열거), integers(정수)) 특징은 일반적으로 로지스틱 회귀 모델을 훈련하기 전에 이진 특징으로 변환합니다.\n",
    "\n",
    "예를 들어, 0,1 또는 2 값 중 하나를 취할 수있는 합성 피쳐를 만들었고 몇 가지 훈련 포인트가 있다고 가정합시다.\n",
    "\n",
    "#\tfeature_value\n",
    "0\t2\n",
    "1\t0\n",
    "2\t1\n",
    "\n",
    "가능한 범주 별 값에 대해 실제 값의 새로운 이진 특징을 만듭니다.이 값은 두 가지 값 중 하나를 취할 수 있습니다 : 예제에 해당 값이 있으면 1.0을, 그렇지 않으면 0.0으로 만듭니다. 위의 예에서 범주형 특징은 세 가지 특징으로 변환되며 훈련용은 다음과 같이 보일겁니다.\n",
    "\n",
    "#\tfeature_value_0\tfeature_value_1\tfeature_value_2\n",
    "0\t0.0\t0.0\t1.0\n",
    "1\t1.0\t0.0\t0.0\n",
    "2\t0.0\t1.0\t0.0\n",
    "\n",
    "### 버킷화된 (binned) 특징\n",
    "\n",
    "버킷 화는 비닝(binning)이라고도합니다.\n",
    "\n",
    "우리는 다음과 같은 3 가지 버킷에 인구를 버킷화할 수 있습니다 (예를 들면):\n",
    "- bucket_0 (<5000) : 인구가 적은 블록에 해당\n",
    "- bucket_1 (5000 - 25000) : 인구가 적당한 블록에 해당\n",
    "- bucket_2 (> 25000) : 인구가 많은 블록에 해당\n",
    "\n",
    "앞의 버킷 정의가 주어지면 다음과 같은population 벡터:\n",
    "\n",
    "* [[10001], [42004], [2500], [18000]]\n",
    "는 아래의 버킷화 된 특징 벡터가 됩니다:\n",
    "\n",
    "* [[1], [2], [0], [1]]\n",
    "이제 특징 값이 버킷 인덱스입니다. 이러한 인덱스들은 이산 특징으로 간주됩니다. 전형적으로, 이러한 인덱스들은 one-hot 표현으로 더 변환됩니다. (여기서는 직관적으로 의미가 보이도록 버킷화된 특징 벡터를 바로 사용하겠습니다.)\n",
    "\n",
    "버킷화 된 특징을 정의하려면 각 버킷을 구분하는 경계를 담는 bucketized_column 을 사용하십시오. 아래 셀의 함수는 변위(quantile)에 기초하여 이 경계를 계산하므로 각 버킷에는 같은 수의 요소가 담깁니다."
   ]
  },
  {
   "cell_type": "code",
   "execution_count": null,
   "metadata": {
    "collapsed": true
   },
   "outputs": [],
   "source": [
    "def get_quantile_based_boundaries(feature_values, num_buckets):\n",
    "  boundaries = np.arange(1.0, num_buckets) / num_buckets\n",
    "  quantiles = feature_values.quantile(boundaries)\n",
    "  return [quantiles[q] for q in quantiles.keys()]\n",
    "\n",
    "# Divide households into 7 buckets.\n",
    "bucketized_households = tf.contrib.layers.bucketized_column(\n",
    "  households, boundaries=get_quantile_based_boundaries(\n",
    "    california_housing_dataframe[\"households\"], 7))\n",
    "\n",
    "# Divide longitude into 10 buckets.\n",
    "bucketized_longitude = tf.contrib.layers.bucketized_column(\n",
    "  longitude, boundaries=get_quantile_based_boundaries(\n",
    "    california_housing_dataframe[\"longitude\"], 10))"
   ]
  },
  {
   "cell_type": "markdown",
   "metadata": {},
   "source": [
    "### 작업 1 : 버킷화된 특징 열로 모델을 훈련시키기\n",
    "\n",
    "예제에서 실수값인 모든 특징들을 버킷으로 만들어 모델을 훈련시키고 결과가 개선되는지 확인하십시오.\n",
    "\n",
    "앞의 코드 블록에서 두 개의 실수값 열 (즉, '세대(household)'와 '경도(longitude)')이 버킷화 된 특징 열로 변환되었습니다. 당신의 임무는 나머지 열을 버킷화하고 코드를 실행하여 모델을 훈련시키는 것입니다. 버킷의 범위를 찾는 다양한 경험적 방법이 있습니다. 이 연습에서는 각 양동이가 같은 수의 예제를 갖도록 양각 경계를 선택하는 quantile 기반 기술을 사용합니다."
   ]
  },
  {
   "cell_type": "code",
   "execution_count": null,
   "metadata": {
    "collapsed": true
   },
   "outputs": [],
   "source": [
    "#\n",
    "# 여기에 코드를 입력하세요: 위의 예들을 따라서 아래의 열들을 버킷화하세요.\n",
    "#\n",
    "bucketized_latitude = \n",
    "bucketized_housing_median_age = \n",
    "bucketized_median_income =\n",
    "bucketized_rooms_per_person =\n",
    "\n",
    "bucketized_feature_columns=set([\n",
    "  bucketized_longitude,\n",
    "  bucketized_latitude,\n",
    "  bucketized_housing_median_age,\n",
    "  bucketized_households,\n",
    "  bucketized_median_income,\n",
    "  bucketized_rooms_per_person])\n",
    "\n",
    "_ = train_model(\n",
    "    learning_rate=1.0,\n",
    "    steps=500,\n",
    "    feature_columns=bucketized_feature_columns,\n",
    "    training_examples=training_examples,\n",
    "    training_targets=training_targets,\n",
    "    validation_examples=validation_examples,\n",
    "    validation_targets=validation_targets)"
   ]
  },
  {
   "cell_type": "code",
   "execution_count": null,
   "metadata": {
    "collapsed": true
   },
   "outputs": [],
   "source": [
    "# 최적의 버킷 수가 얼마일지 궁금하겠지만\n",
    "# 그것은 당연히 데이터에 의존적입니다.\n",
    "# 여기에서는 너무 크지 않은 모델을 얻기 위해 임의의 값을 선택했습니다.\n",
    "\n",
    "def get_quantile_based_boundaries(feature_values, num_buckets):\n",
    "  boundaries = np.arange(1.0, num_buckets) / num_buckets\n",
    "  quantiles = feature_values.quantile(boundaries)\n",
    "  return [quantiles[q] for q in quantiles.keys()]\n",
    "\n",
    "bucketized_households = tf.contrib.layers.bucketized_column(\n",
    "  households, boundaries=get_quantile_based_boundaries(\n",
    "    california_housing_dataframe[\"households\"], 7))\n",
    "bucketized_longitude = tf.contrib.layers.bucketized_column(\n",
    "  longitude, boundaries=get_quantile_based_boundaries(\n",
    "    california_housing_dataframe[\"longitude\"], 10))\n",
    "bucketized_latitude = tf.contrib.layers.bucketized_column(\n",
    "  latitude, boundaries=get_quantile_based_boundaries(\n",
    "    training_examples[\"latitude\"], 10))\n",
    "bucketized_housing_median_age = tf.contrib.layers.bucketized_column(\n",
    "  housing_median_age, boundaries=get_quantile_based_boundaries(\n",
    "    training_examples[\"housing_median_age\"], 7))\n",
    "bucketized_median_income = tf.contrib.layers.bucketized_column(\n",
    "  median_income, boundaries=get_quantile_based_boundaries(\n",
    "    training_examples[\"median_income\"], 7))\n",
    "bucketized_rooms_per_person = tf.contrib.layers.bucketized_column(\n",
    "  rooms_per_person, boundaries=get_quantile_based_boundaries(\n",
    "    training_examples[\"rooms_per_person\"], 7))\n",
    "\n",
    "bucketized_feature_columns = set([\n",
    "  bucketized_longitude,\n",
    "  bucketized_latitude,\n",
    "  bucketized_housing_median_age,\n",
    "  bucketized_households,\n",
    "  bucketized_median_income,\n",
    "  bucketized_rooms_per_person])\n",
    "\n",
    "_ = train_model(\n",
    "    learning_rate=1.5,\n",
    "    steps=500,\n",
    "    feature_columns=bucketized_feature_columns,\n",
    "    training_examples=training_examples,\n",
    "    training_targets=training_targets,\n",
    "    validation_examples=validation_examples,\n",
    "    validation_targets=validation_targets)"
   ]
  },
  {
   "cell_type": "markdown",
   "metadata": {},
   "source": [
    "### 특징 조합\n",
    "\n",
    "두 개 (또는 그 이상)의 특징을 조합하는 것은 선형 모델을 사용하여 비선형 관계를 학습하는 영리한 방법입니다. 우리 문제에서 학습을 위해 위도(latitude)라는 특징을 사용하는 경우, 모델은 특정 위도 (또는 도시 블록을 버킷화했다면 특정 양의 위도 범위)에서 다른 블록보다 비싸기 쉽다는 것을 알 수 있습니다. '경도' 특징과 비슷하지요. 그러나 '경도' 와 '위도'를 조합하면, 조합한 특징은 더 잘 정의 된 도시 블록을 나타냅니다. 모델이 (위도와 경도의 범위 내의)특정 도시 블록이 다른 블록보다 더 비싸다는 것을 알게 된다면, 두 특징이 개별적으로 고려되는 경우보다 훨씬 강력한 신호입니다.\n",
    "\n",
    "현재 특징 열 API는 조합에 대한 개별 기능 만 지원합니다. '위도'또는 '경도'와 같은 두 개의 연속 값을 조합할 때 버킷화를 할 수 있습니다.\n",
    "\n",
    "위도latitude와 경도longitude기능을 조합하면 (예 : longitude가 '2'버킷으로 버킷화되고 latitude가 '3'버킷), 6개의 조합된 이진 기능이 생깁니다. 모델을 교육할 때 각 기능은 별도의 가중치를 갖게 될 것입니다.\n",
    "\n",
    "### 작업 2 : 특징 조합을 사용하여 모델 학습 시키기\n",
    "\n",
    "'경도longitude'와 '위도latitude' 특징을 조합한 특징을 모델에 추가하고, 훈련하고, 결과가 개선되는지 확인하세요."
   ]
  },
  {
   "cell_type": "code",
   "execution_count": null,
   "metadata": {
    "collapsed": true
   },
   "outputs": [],
   "source": [
    "long_x_lat = tf.contrib.layers.crossed_column(\n",
    "  set([bucketized_longitude, bucketized_latitude]), hash_bucket_size=1000)\n",
    "\n",
    "#\n",
    "# Your code here: Create a feature column set that includes the cross.\n",
    "# 여기에 코드를 입력하세요: 조합을 포함한 특징 열 집합을 만드세요.\n",
    "#\n",
    "feature_columns_with_cross = \n",
    "\n",
    "_ = train_model(\n",
    "    learning_rate=1.0,\n",
    "    steps=500,\n",
    "    feature_columns=feature_columns_with_cross,\n",
    "    training_examples=training_examples,\n",
    "    training_targets=training_targets,\n",
    "    validation_examples=validation_examples,\n",
    "    validation_targets=validation_targets)"
   ]
  },
  {
   "cell_type": "code",
   "execution_count": null,
   "metadata": {
    "collapsed": true
   },
   "outputs": [],
   "source": [
    "# 앞의 리스트에 다음 조합을 추가하였습니다.\n",
    "\n",
    "long_x_lat = tf.contrib.layers.crossed_column(\n",
    "  set([bucketized_longitude, bucketized_latitude]), hash_bucket_size=1000)\n",
    "\n",
    "feature_columns_with_cross = set([\n",
    "  long_x_lat,\n",
    "  bucketized_longitude,\n",
    "  bucketized_latitude,\n",
    "  bucketized_housing_median_age,\n",
    "  bucketized_households,\n",
    "  bucketized_median_income,\n",
    "  bucketized_rooms_per_person])\n",
    "\n",
    "_ = train_model(\n",
    "    learning_rate=3.0,\n",
    "    steps=500,\n",
    "    feature_columns=feature_columns_with_cross,\n",
    "    training_examples=training_examples,\n",
    "    training_targets=training_targets,\n",
    "    validation_examples=validation_examples,\n",
    "    validation_targets=validation_targets)"
   ]
  },
  {
   "cell_type": "markdown",
   "metadata": {},
   "source": [
    "---\n",
    "## 로지스틱 회귀 (Logistic regression) 기초\n",
    "\n",
    "### 학습 목표\n",
    "\n",
    "* 이진 분류 모델로 중앙 집 값 estimator (이전 연습에서)를 다시 만들어봅니다.\n",
    "* 이진 분류 문제에 대한 로지스틱 회귀와 선형 회귀의 효율성을 비교합니다.\n",
    "\n",
    "이전 연습에서와 마찬가지로 캘리포니아 주택 데이터 세트로 작업하지만 이번에는 도시 블록이 비용이 많이 드는 도시 블록인지 여부를 예측하여 이진 분류 문제로 바꿔 놓을 것입니다. 일단 기본 특징(feature)들로 기능으로 되돌리고 시작합시다.\n",
    "\n",
    "### 문제를 이진 분류로 구성하기\n",
    "\n",
    "데이터 세트의 목표는 지속적으로 가치있는 특징인 median_house_value입니다. 이 연속값에 임계값을 적용하여 부울 레이블을 만들 수 있습니다.\n",
    "\n",
    "도시 블록을 설명하는 특징이 주어지면, 그것이 고비용 도시 블록인지 예측하기를 원합니다. 훈련 및 평가 데이터를 준비하기 위해 집값의 중앙값 (약 265000)에 대해 75% 분류 임계값을 정의합니다. 임계값 위의 모든 집값은 1로 레이블되고 다른 모든 값은 0으로 레이블됩니다.\n",
    "\n",
    "아래의 셀을 실행하여 데이터를 불러오고 입력 특징 및 목표를 준비합니다."
   ]
  },
  {
   "cell_type": "code",
   "execution_count": 177,
   "metadata": {},
   "outputs": [
    {
     "ename": "ImportError",
     "evalue": "No module named 'sorna'",
     "output_type": "error",
     "traceback": [
      "\u001b[1;31m---------------------------------------------------------------------------\u001b[0m",
      "\u001b[1;31mImportError\u001b[0m                               Traceback (most recent call last)",
      "\u001b[1;32m<ipython-input-177-19023c35b8d8>\u001b[0m in \u001b[0;36m<module>\u001b[1;34m()\u001b[0m\n\u001b[0;32m      1\u001b[0m \u001b[1;32mimport\u001b[0m \u001b[0mmath\u001b[0m\u001b[1;33m\u001b[0m\u001b[0m\n\u001b[0;32m      2\u001b[0m \u001b[1;33m\u001b[0m\u001b[0m\n\u001b[1;32m----> 3\u001b[1;33m \u001b[1;32mfrom\u001b[0m \u001b[0msorna\u001b[0m\u001b[1;33m.\u001b[0m\u001b[0mdisplay\u001b[0m \u001b[1;32mimport\u001b[0m \u001b[0mdisplay\u001b[0m\u001b[1;33m\u001b[0m\u001b[0m\n\u001b[0m\u001b[0;32m      4\u001b[0m \u001b[1;32mfrom\u001b[0m \u001b[0mmatplotlib\u001b[0m \u001b[1;32mimport\u001b[0m \u001b[0mcm\u001b[0m\u001b[1;33m\u001b[0m\u001b[0m\n\u001b[0;32m      5\u001b[0m \u001b[1;32mfrom\u001b[0m \u001b[0mmatplotlib\u001b[0m \u001b[1;32mimport\u001b[0m \u001b[0mgridspec\u001b[0m\u001b[1;33m\u001b[0m\u001b[0m\n",
      "\u001b[1;31mImportError\u001b[0m: No module named 'sorna'"
     ]
    }
   ],
   "source": [
    "import math\n",
    "\n",
    "from sorna.display import display\n",
    "from matplotlib import cm\n",
    "from matplotlib import gridspec\n",
    "from matplotlib import pyplot as plt\n",
    "import numpy as np\n",
    "import pandas as pd\n",
    "from sklearn import metrics\n",
    "import tensorflow as tf\n",
    "from tensorflow.contrib.learn.python.learn import learn_io\n",
    "\n",
    "tf.logging.set_verbosity(tf.logging.ERROR)\n",
    "pd.options.display.max_rows = 10\n",
    "pd.options.display.float_format = '{:.1f}'.format\n",
    "\n",
    "california_housing_dataframe = pd.read_csv(\"http://datasets.lablup.ai/public/tutorials/california_housing_train.csv\", sep=\",\")\n",
    "\n",
    "california_housing_dataframe = california_housing_dataframe.reindex(\n",
    "    np.random.permutation(california_housing_dataframe.index))"
   ]
  },
  {
   "cell_type": "markdown",
   "metadata": {},
   "source": [
    "아래의 코드가 이전 연습과 약간 다른 점에 유의하십시오. median_house_value를 대상으로 사용하는 대신 median_house_value_is_high 라는 새 이진 목표를 만듭니다."
   ]
  },
  {
   "cell_type": "code",
   "execution_count": null,
   "metadata": {
    "collapsed": true
   },
   "outputs": [],
   "source": [
    "def preprocess_features(california_housing_dataframe):\n",
    "  \"\"\"캘리포니아 주택 데이터 셋의 입력 특징을 준비한다.\n",
    "\n",
    "  Args:\n",
    "    california_housing_dataframe: 캘리포니아 주택 데이터 셋을 포함한 Pandas DataFrame\n",
    "  Returns:\n",
    "    합성 특징을 포함한, 모델에서 사용할 특징들이 담긴 DataFrame.\n",
    "  \"\"\"\n",
    "  selected_features = california_housing_dataframe[\n",
    "    [\"latitude\",\n",
    "     \"longitude\",\n",
    "     \"housing_median_age\",\n",
    "     \"total_rooms\",\n",
    "     \"total_bedrooms\",\n",
    "     \"population\",\n",
    "     \"households\",\n",
    "     \"median_income\"]]\n",
    "  processed_features = selected_features.copy()\n",
    "  # 합성 특징을 만든다.\n",
    "  processed_features[\"rooms_per_person\"] = (\n",
    "    california_housing_dataframe[\"total_rooms\"] /\n",
    "    california_housing_dataframe[\"population\"])\n",
    "  return processed_features\n",
    "\n",
    "def preprocess_targets(california_housing_dataframe):\n",
    "  \"\"\"캘리포니아 주택 데이터 세트로부터 목표 특징 (레이블)을 준비한다.\n",
    "\n",
    "  Args:\n",
    "    california_housing_dataframe: 캘리포니아 주택 데이터 세트을 포함한 Pandas DataFrame\n",
    "  Returns:\n",
    "    모델에서 사용할 특징들이 담긴 DataFrame.\n",
    "  \"\"\"\n",
    "  output_targets = pd.DataFrame()\n",
    "  # `median_house_value`의 값이 임계점(threshold) 보다 큰 값인지 여부\n",
    "  output_targets[\"median_house_value_is_high\"] = (\n",
    "    california_housing_dataframe[\"median_house_value\"] > 265000).astype(float)\n",
    "  return output_targets"
   ]
  },
  {
   "cell_type": "code",
   "execution_count": null,
   "metadata": {
    "collapsed": true
   },
   "outputs": [],
   "source": [
    "training_examples = preprocess_features(california_housing_dataframe.head(12000))\n",
    "display(training_examples.describe())"
   ]
  },
  {
   "cell_type": "code",
   "execution_count": null,
   "metadata": {
    "collapsed": true
   },
   "outputs": [],
   "source": [
    "training_targets = preprocess_targets(california_housing_dataframe.head(12000))\n",
    "display(training_targets.describe())"
   ]
  },
  {
   "cell_type": "code",
   "execution_count": null,
   "metadata": {
    "collapsed": true
   },
   "outputs": [],
   "source": [
    "validation_examples = preprocess_features(california_housing_dataframe.tail(5000))\n",
    "display(validation_examples.describe())"
   ]
  },
  {
   "cell_type": "code",
   "execution_count": null,
   "metadata": {
    "collapsed": true
   },
   "outputs": [],
   "source": [
    "validation_targets = preprocess_targets(california_housing_dataframe.tail(5000))\n",
    "display(validation_targets.describe())"
   ]
  },
  {
   "cell_type": "markdown",
   "metadata": {},
   "source": [
    "### 선형 회귀 분석은 어떻게 이루어집니까?\n",
    "\n",
    "로지스틱 회귀가 효과적인 이유를 보려면 선형 회귀를 사용하는 간소한 모델을 먼저 훈련 시키십시오. 이 모델은 집합 {0, 1}에있는 값을 가진 레이블을 사용하고 가능한 한 0 또는 1에 가까운 연속 값을 예측하려고 시도합니다. 또한 출력을 확률로 해석하기를 원합니다. 출력이 범위 (0, 1) 내에 있으면 이상적입니다. 그런 다음 레이블을 결정하기 위해 임계값 0.5를 적용합니다.\n",
    "\n",
    "아래의 셀을 실행하여 LinearRegressor를 사용하여 선형 회귀 모델을 학습하십시오."
   ]
  },
  {
   "cell_type": "code",
   "execution_count": null,
   "metadata": {
    "collapsed": true
   },
   "outputs": [],
   "source": [
    "def train_linear_regressor_model(\n",
    "    learning_rate,\n",
    "    steps,\n",
    "    batch_size,\n",
    "    training_examples,\n",
    "    training_targets,\n",
    "    validation_examples,\n",
    "    validation_targets):\n",
    "  \"\"\"선형 회귀 모델을 훈련합니다.\n",
    "\n",
    "  이 함수는 훈련뿐만 아니라 시간 경과에 따른 훈련 및 검증 손실의 플롯 등 훈련 진행 정보도 보여줍니다.\n",
    "\n",
    "  Args:\n",
    "    learning_rate: `float`, 학습율.\n",
    "    steps: 0이 아닌 `int`, 총 훈련 단계 수. \n",
    "      훈련 단계는 단일 배치를 사용하는 전진 및 역진 통과(forward/backward pass)로 구성됩니다. \n",
    "    batch_size: 0이 아닌 `int`, 배치 크기.\n",
    "    training_examples: 훈련을 위한 입력 특징으로 사용할 `california_housing_dataframe`\n",
    "      내의 하나 또는 여러개의 열이 든 `DataFrame`\n",
    "    training_targets: 훈련을 위한 목표로 사용할 `california_housing_dataframe`\n",
    "      내의 하나의 열이 든 `DataFrame`\n",
    "    validation_examples: 검증을 위한 입력 특징으로 사용할 `california_housing_dataframe`\n",
    "      내의 하나 또는 여러개의 열이 든 `DataFrame`\n",
    "    validation_targets: 검증을 위한 목표로 사용할 `california_housing_dataframe`\n",
    "      내의 하나의 열이 든 `DataFrame`\n",
    "\n",
    "  Returns:\n",
    "    훈련 데이터로 훈련한 `LinearRegressor` 객체.\n",
    "\"\"\"\n",
    "\n",
    "  periods = 10\n",
    "  steps_per_period = steps / periods\n",
    "\n",
    "  # 선형 회귀 객체 생성.\n",
    "  feature_columns = set([tf.contrib.layers.real_valued_column(my_feature) for my_feature in training_examples])\n",
    "  linear_regressor = tf.contrib.learn.LinearRegressor(\n",
    "      feature_columns=feature_columns,\n",
    "      optimizer=tf.train.GradientDescentOptimizer(learning_rate=learning_rate),\n",
    "      gradient_clip_norm=5.0\n",
    "  )\n",
    "\n",
    "  # 입력 함수 만들기\n",
    "  training_input_fn = learn_io.pandas_input_fn(\n",
    "     x=training_examples, y=training_targets[\"median_house_value_is_high\"],\n",
    "     num_epochs=None, batch_size=batch_size)\n",
    "  predict_training_input_fn = learn_io.pandas_input_fn(\n",
    "     x=training_examples, y=training_targets[\"median_house_value_is_high\"],\n",
    "     num_epochs=1, shuffle=False)\n",
    "  predict_validation_input_fn = learn_io.pandas_input_fn(\n",
    "      x=validation_examples, y=validation_targets[\"median_house_value_is_high\"],\n",
    "      num_epochs=1, shuffle=False)\n",
    "\n",
    "  # 모델을 훈련 시키되 루프 내부에서 수행하여 손실 매트릭을 주기적으로 평가할 수 있게 합니다.\n",
    "  print(\"Training model...\")\n",
    "  print(\"RMSE (on training data):\")\n",
    "  training_rmse = []\n",
    "  validation_rmse = []\n",
    "  for period in range (0, periods):\n",
    "    # 이전 상태에서 시작하여 모델을 교육.\n",
    "    linear_regressor.fit(\n",
    "        input_fn=training_input_fn,\n",
    "        steps=steps_per_period\n",
    "    )\n",
    "    # 잠시 멈추고 예측을 계산합니다.\n",
    "    training_predictions = list(linear_regressor.predict(input_fn=predict_training_input_fn))\n",
    "    validation_predictions = list(linear_regressor.predict(input_fn=predict_validation_input_fn))\n",
    "    # 훈련 및 검증 손실 계산.\n",
    "    training_root_mean_squared_error = math.sqrt(\n",
    "        metrics.mean_squared_error(training_predictions, training_targets))\n",
    "    validation_root_mean_squared_error = math.sqrt(\n",
    "        metrics.mean_squared_error(validation_predictions, validation_targets))\n",
    "    # 주기적으로 현재의 손실을 출력.\n",
    "    print(\"  period %02d : %0.2f\" % (period, training_root_mean_squared_error))\n",
    "    # 이번 주기의 손실 매트릭을 리스트에 추가.\n",
    "    training_rmse.append(training_root_mean_squared_error)\n",
    "    validation_rmse.append(validation_root_mean_squared_error)\n",
    "  print(\"Model training finished.\")\n",
    "\n",
    "  # 주기에 따른 손실 매트릭 그래프 출력\n",
    "  plt.ylabel(\"RMSE\")\n",
    "  plt.xlabel(\"Periods\")\n",
    "  plt.title(\"Root Mean Squared Error vs. Periods\")\n",
    "  plt.tight_layout(True)\n",
    "  plt.plot(training_rmse, label=\"training\")\n",
    "  plt.plot(validation_rmse, label=\"validation\")\n",
    "  plt.legend()\n",
    "  plt.show()\n",
    "  return linear_regressor"
   ]
  },
  {
   "cell_type": "code",
   "execution_count": null,
   "metadata": {
    "collapsed": true
   },
   "outputs": [],
   "source": [
    "linear_regressor = train_linear_regressor_model(\n",
    "    learning_rate=0.000001,\n",
    "    steps=200,\n",
    "    batch_size=20,\n",
    "    training_examples=training_examples,\n",
    "    training_targets=training_targets,\n",
    "    validation_examples=validation_examples,\n",
    "    validation_targets=validation_targets)"
   ]
  },
  {
   "cell_type": "markdown",
   "metadata": {},
   "source": [
    "### 작업 1 : 이러한 예측에 대해 LogLoss를 계산할 수 있을까요?\n",
    "#### 예측을 검토하여 LogLoss 계산에 사용할 수 있는지 여부를 결정하십시오.\n",
    "\n",
    "LinearRegressor는 L2 손실을 사용하는데, 이는 출력을 확률로 해석할 때 오분류에 불이익을 주는 경우에는 잘 동작하지 않습니다. 예를 들어, 부정적인 예가 긍정적으로 (잘못) 분류될 때 0.9의 확률 또는 0.9999의 확률로 분류되었는지의 여부에 따라 두 경우에 큰 차이가 있어야 하지만 L2 손실은 이러한 경우를 크게 구분하지 않습니다.\n",
    "\n",
    "대조적으로, LogLoss는 이러한 \"신뢰 오류\"를 훨씬 더 많이 처벌합니다. LogLoss는 다음과 같이 정의됩니다.\n",
    "\n",
    "Log Loss=∑(x,y)−ylog(ypred)−(1−y)log(1−ypred)Log Loss=∑(x,y)−ylog⁡(ypred)−(1−y)log⁡(1−ypred)\n",
    "\n",
    "하지만 먼저 예측 값을 얻어야합니다. LinearRegressor.predict를 사용해 얻을 수 있습니다.\n",
    "\n",
    "예측과 목표로 LogLoss를 계산할 수 있을까요?\n",
    "\n",
    "\n"
   ]
  },
  {
   "cell_type": "code",
   "execution_count": null,
   "metadata": {
    "collapsed": true
   },
   "outputs": [],
   "source": [
    "predict_validation_input_fn = learn_io.pandas_input_fn(\n",
    "      x=validation_examples, y=validation_targets[\"median_house_value_is_high\"],\n",
    "      num_epochs=1, shuffle=False)\n",
    "\n",
    "predictions = list(linear_regressor.predict(input_fn=predict_validation_input_fn))\n",
    "\n",
    "_ = plt.hist(predictions)\n",
    "\n",
    "# 이 예측은 확률로 해석할 수 없습니다. 확률은 0보다 작거나 1보다 클 수 없으니까요.\n",
    "# 이것은 음수 입력에 대해 정의되지 않은 로그 함수의 문제점입니다.\n",
    "# 따라서 우리는 선형 회귀 분석기의 출력에서 LogLoss를 계산할 수 없습니다."
   ]
  },
  {
   "cell_type": "markdown",
   "metadata": {},
   "source": [
    "### 작업 2 : 로지스틱 회귀 모델을 훈련하고 유효성 검사 집합에서 LogLoss를 계산합니다.\n",
    "\n",
    "로지스틱 회귀 모델을 교육하고 유효성 검사 세트에서 LogLoss를 계산합니다.\n",
    "\n",
    "로지스틱 회귀를 사용하려면 LinearRegressor 대신 LinearClassifier를 사용하기 만하면됩니다.\n",
    "\n",
    "Sklearn의 log_loss 함수는 LogLoss를 계산할 때 유용합니다.\n",
    "\n",
    "LinearClassifier.predict는 훈련된 모델로부터 예측을 얻는 데 유용합니다. 하지만 여기서는 부울 예측 클래스가 아닌 실제 값 확률이 필요합니다! 다행히 LinearClassifier.predict_proba 가 바로 그 역할을 합니다. 그러나 predict_proba는 확률에 대해 두 개의 열을 반환합니다. 하나는 0 값이고 다른 하나는 값 1입니다. 값 1에 대한 확률 만 있으면 됩니다.\n",
    "\n"
   ]
  },
  {
   "cell_type": "code",
   "execution_count": null,
   "metadata": {
    "collapsed": true
   },
   "outputs": [],
   "source": [
    "def train_linear_classifier_model(\n",
    "    learning_rate,\n",
    "    steps,\n",
    "    batch_size,\n",
    "    training_examples,\n",
    "    training_targets,\n",
    "    validation_examples,\n",
    "    validation_targets):\n",
    "  \"\"\"하나의 특징에 대한 선형 회귀 모델을 훈련합니다.\n",
    "\n",
    "  이 함수는 훈련뿐만 아니라 시간 경과에 따른 훈련 및 검증 손실의 플롯 등 훈련 진행 정보도 보여줍니다.\n",
    "\n",
    "  Args:\n",
    "    learning_rate: `float`, 학습율.\n",
    "    steps: 0이 아닌 `int`, 총 훈련 단계 수. \n",
    "      훈련 단계는 단일 배치를 사용하는 전진 및 역진 통과(forward/backward pass)로 구성됩니다. \n",
    "    batch_size: 0이 아닌 `int`, 배치 크기.\n",
    "    training_examples: 훈련을 위한 입력 특징으로 사용할 `california_housing_dataframe`\n",
    "      내의 하나 또는 여러개의 열이 든 `DataFrame`\n",
    "    training_targets: 훈련을 위한 목표로 사용할 `california_housing_dataframe`\n",
    "      내의 하나의 열이 든 `DataFrame`\n",
    "    validation_examples: 검증을 위한 입력 특징으로 사용할 `california_housing_dataframe`\n",
    "      내의 하나 또는 여러개의 열이 든 `DataFrame`\n",
    "    validation_targets: 검증을 위한 목표로 사용할 `california_housing_dataframe`\n",
    "      내의 하나의 열이 든 `DataFrame`\n",
    "\n",
    "  Returns:\n",
    "    훈련 데이터로 훈련한 `LinearClassifier` 객체.\n",
    "  \"\"\"\n",
    "\n",
    "  #\n",
    "  # 여기에 코드를 작성하세요: 모델을 훈련하고 검증 세트로 LogLoss를 계산하기 위해 LinearClassifier를 사용하세요.\n",
    "  #\n",
    "\n",
    "  pass"
   ]
  },
  {
   "cell_type": "code",
   "execution_count": null,
   "metadata": {
    "collapsed": true
   },
   "outputs": [],
   "source": [
    "def train_linear_classifier_model(\n",
    "    learning_rate,\n",
    "    steps,\n",
    "    batch_size,\n",
    "    training_examples,\n",
    "    training_targets,\n",
    "    validation_examples,\n",
    "    validation_targets):\n",
    "  \"\"\"하나의 특징에 대한 선형 회귀 모델을 훈련합니다.\n",
    "\n",
    "  이 함수는 훈련뿐만 아니라 시간 경과에 따른 훈련 및 검증 손실의 플롯 등 훈련 진행 정보도 보여줍니다.\n",
    "\n",
    "  Args:\n",
    "    learning_rate: `float`, 학습율.\n",
    "    steps: 0이 아닌 `int`, 총 훈련 단계 수. \n",
    "      훈련 단계는 단일 배치를 사용하는 전진 및 역진 통과(forward/backward pass)로 구성됩니다. \n",
    "    batch_size: 0이 아닌 `int`, 배치 크기.\n",
    "    training_examples: 훈련을 위한 입력 특징으로 사용할 `california_housing_dataframe`\n",
    "      내의 하나 또는 여러개의 열이 든 `DataFrame`\n",
    "    training_targets: 훈련을 위한 목표로 사용할 `california_housing_dataframe`\n",
    "      내의 하나의 열이 든 `DataFrame`\n",
    "    validation_examples: 검증을 위한 입력 특징으로 사용할 `california_housing_dataframe`\n",
    "      내의 하나 또는 여러개의 열이 든 `DataFrame`\n",
    "    validation_targets: 검증을 위한 목표로 사용할 `california_housing_dataframe`\n",
    "      내의 하나의 열이 든 `DataFrame`\n",
    "\n",
    "  Returns:\n",
    "    훈련 데이터로 훈련한 `LinearClassifier` 객체.\n",
    "  \"\"\"\n",
    "  periods = 10\n",
    "  steps_per_period = steps / periods\n",
    "\n",
    "  # 선형 분류기 객체를 생성합니다.\n",
    "  feature_columns = set([tf.contrib.layers.real_valued_column(my_feature) for my_feature in training_examples])\n",
    "  linear_classifier = tf.contrib.learn.LinearClassifier(\n",
    "      feature_columns=feature_columns,\n",
    "      optimizer=tf.train.GradientDescentOptimizer(learning_rate=learning_rate),\n",
    "      gradient_clip_norm=5.0\n",
    "  )\n",
    "\n",
    "  # 입력 함수를 생성합니다.\n",
    "  training_input_fn = learn_io.pandas_input_fn(\n",
    "     x=training_examples, y=training_targets[\"median_house_value_is_high\"],\n",
    "     num_epochs=None, batch_size=batch_size)\n",
    "  predict_training_input_fn = learn_io.pandas_input_fn(\n",
    "     x=training_examples, y=training_targets[\"median_house_value_is_high\"],\n",
    "     num_epochs=1, shuffle=False)\n",
    "  predict_validation_input_fn = learn_io.pandas_input_fn(\n",
    "      x=validation_examples, y=validation_targets[\"median_house_value_is_high\"],\n",
    "      num_epochs=1, shuffle=False)\n",
    "\n",
    "  # 모델을 훈련 시키되 루프 내부에서 수행하여 손실 매트릭을 주기적으로 평가할 수 있게 합니다.\n",
    "  print \"Training model...\"\n",
    "  print \"LogLoss (on training data):\"\n",
    "  training_log_losses = []\n",
    "  validation_log_losses = []\n",
    "  for period in range (0, periods):\n",
    "    # 이전 상태에서 시작하여 모델을 교육.\n",
    "    linear_classifier.fit(\n",
    "        input_fn=training_input_fn,\n",
    "        steps=steps_per_period\n",
    "    )\n",
    "    # 잠시 멈추고 예측을 계산합니다.\n",
    "    training_probabilities = np.array(list(linear_classifier.predict_proba(input_fn=predict_training_input_fn)))\n",
    "    validation_probabilities = np.array(list(linear_classifier.predict_proba(input_fn=predict_validation_input_fn)))\n",
    "    # 훈련 및 검증 손실 계산.\n",
    "    training_log_loss = metrics.log_loss(training_targets, training_probabilities[:, 1])\n",
    "    validation_log_loss = metrics.log_loss(validation_targets, validation_probabilities[:, 1])\n",
    "    # 주기적으로 현재의 손실을 출력.\n",
    "    print \"  period %02d : %0.2f\" % (period, training_log_loss)\n",
    "    # 이번 주기의 손실 매트릭을 리스트에 추가.\n",
    "    training_log_losses.append(training_log_loss)\n",
    "    validation_log_losses.append(validation_log_loss)\n",
    "  print \"Model training finished.\"\n",
    "\n",
    "  # 주기에 따른 손실 매트릭 그래프 출력\n",
    "  plt.ylabel(\"LogLoss\")\n",
    "  plt.xlabel(\"Periods\")\n",
    "  plt.title(\"LogLoss vs. Periods\")\n",
    "  plt.tight_layout()\n",
    "  plt.plot(training_log_losses, label=\"training\")\n",
    "  plt.plot(validation_log_losses, label=\"validation\")\n",
    "  plt.legend()\n",
    "\n",
    "  return linear_classifier"
   ]
  },
  {
   "cell_type": "markdown",
   "metadata": {},
   "source": [
    "### 작업 3 : 정확도를 계산하고 유효성 검사 세트에서 ROC 곡선 AUC를 그립니다.\n",
    "\n",
    "분류에 유용한 몇 가지 측정법은 모델 정확도, ROC 곡선 및 ROC 곡선 (AUC) 아래의 면적입니다. 이러한 측정 항목을 살펴 보겠습니다.\n",
    "\n",
    "https://en.wikipedia.org/wiki/Receiver_operating_characteristic\n",
    "\n",
    "LinearClassifier.evaluate는 정확도 및 AUC와 같은 유용한 통계를 계산합니다."
   ]
  },
  {
   "cell_type": "code",
   "execution_count": null,
   "metadata": {
    "collapsed": true
   },
   "outputs": [],
   "source": [
    "evaluation_metrics = linear_classifier.evaluate(input_fn=predict_validation_input_fn)\n",
    "\n",
    "print(\"AUC on the validation set: %0.2f\" % evaluation_metrics['auc'])\n",
    "print(\"Accuracy on the validation set: %0.2f\" % evaluation_metrics['accuracy'])"
   ]
  },
  {
   "cell_type": "markdown",
   "metadata": {},
   "source": [
    "Linear Classifier.predict_proba 및 Sklearn roc_curve에서 계산 한 것과 같은 클래스 확률을 사용하여 ROC 곡선을 그리는 데 필요한 실제 양성률 및 위양성 비율을 얻을 수 있습니다."
   ]
  },
  {
   "cell_type": "code",
   "execution_count": null,
   "metadata": {
    "collapsed": true
   },
   "outputs": [],
   "source": [
    "validation_probabilities = np.array(list(linear_classifier.predict_proba(\n",
    "    input_fn=predict_validation_input_fn)))\n",
    "\n",
    "false_positive_rate, true_positive_rate, thresholds = metrics.roc_curve(\n",
    "    validation_targets, validation_probabilities[:, 1])\n",
    "plt.plot(false_positive_rate, true_positive_rate, label=\"our model\")\n",
    "plt.plot([0, 1], [0, 1], label=\"random classifier\")\n",
    "_ = plt.legend(loc=2)"
   ]
  },
  {
   "cell_type": "markdown",
   "metadata": {},
   "source": [
    "AUC를 향상시키기 위해 작업 2에서 훈련된 모델의 학습 설정을 조정할 수 있는지 확인하십시오.\n",
    "\n",
    "때로는 특정 메트릭은 다른 메트릭을 손상시키면서 개선되기 때문에, 좋은 절충안을 제공하는 설정을 찾아야 합니다.\n",
    "\n",
    "동시에 모든 메트릭이 향상되는지 확인하십시오."
   ]
  },
  {
   "cell_type": "code",
   "execution_count": null,
   "metadata": {
    "collapsed": true
   },
   "outputs": [],
   "source": [
    "linear_classifier = train_linear_classifier_model(\n",
    "    learning_rate=0.000005,\n",
    "    steps=500,\n",
    "    batch_size=20,\n",
    "    training_examples=training_examples,\n",
    "    training_targets=training_targets,\n",
    "    validation_examples=validation_examples,\n",
    "    validation_targets=validation_targets)\n",
    "\n",
    "evaluation_metrics = linear_classifier.evaluate(input_fn=predict_validation_input_fn)\n",
    "\n",
    "print(\"AUC on the validation set: %0.2f\" % evaluation_metrics['auc'])\n",
    "print(\"Accuracy on the validation set: %0.2f\" % evaluation_metrics['accuracy'])"
   ]
  },
  {
   "cell_type": "code",
   "execution_count": null,
   "metadata": {
    "collapsed": true
   },
   "outputs": [],
   "source": [
    "# 가능한 하나의 해결책은 그냥 과적합(overfit)이 일어나지 않는\n",
    "# 한도 내에서 길게 훈련하는 것입니다. step이나 batch_size를\n",
    "# 혹은 둘 다를 증가시켜서 적용할 수 있습니다.\n",
    "\n",
    "# 모든 metric이 동시에 개선되므로 손실 메트릭은\n",
    "# AUC와 정확도에 대한 좋은 프록시입니다.\n",
    "\n",
    "# 작은 단위의 AUC를 짜내는데 얼마나 많은 반복이 필요한지 주의하세요.\n",
    "# 이것은 일반적으로 발생합니다. 하지만 종종 작은 이익도 비용을 지불할 가치가 있습니다.\n",
    "\n",
    "linear_classifier = train_linear_classifier_model(\n",
    "    learning_rate=0.000003,\n",
    "    steps=20000,\n",
    "    batch_size=500,\n",
    "    training_examples=training_examples,\n",
    "    training_targets=training_targets,\n",
    "    validation_examples=validation_examples,\n",
    "    validation_targets=validation_targets)\n",
    "\n",
    "evaluation_metrics = linear_classifier.evaluate(input_fn=predict_validation_input_fn)\n",
    "\n",
    "print \"AUC on the validation set: %0.2f\" % evaluation_metrics['auc']\n",
    "print \"Accuracy on the validation set: %0.2f\" % evaluation_metrics['accuracy']"
   ]
  },
  {
   "cell_type": "markdown",
   "metadata": {
    "collapsed": true
   },
   "source": [
    "---\n",
    "## 띄엄띄엄함(sparsity) 및 L1 정규화\n",
    "\n",
    "* 모델의 크기를 계산해봅니다.\n",
    "* 띄엄띄엄함(sparsity)을 증가시켜 모델의 크기를 줄이기 위해 L1 정규화를 적용해봅니다.\n",
    "\n",
    "복잡성을 줄이는 한 가지 방법은 가중치를 정확하게 0으로 만드는 정규화 함수를 사용하는 것입니다. 회귀와 같은 선형 모델의 경우, 0 가중치는 해당 특징을 전혀 사용하지 않는 것과 같습니다. 오버 피팅 (overfitting)을 피하는 것 외에도 결과 모델이 더 효율적입니다.\n",
    "\n",
    "L1 정규화는 띄엄띄엄함(희소성, sparsity)을 높이는 좋은 방법입니다.\n",
    "\n",
    "아래의 셀을 실행하여 데이터를 불러오고 특징 정의를 해 봅시다."
   ]
  },
  {
   "cell_type": "code",
   "execution_count": null,
   "metadata": {
    "collapsed": true
   },
   "outputs": [],
   "source": [
    "import math\n",
    "\n",
    "from sorna.display import display\n",
    "from matplotlib import cm\n",
    "from matplotlib import gridspec\n",
    "from matplotlib import pyplot as plt\n",
    "import numpy as np\n",
    "import pandas as pd\n",
    "from sklearn import metrics\n",
    "import tensorflow as tf\n",
    "\n",
    "tf.logging.set_verbosity(tf.logging.ERROR)\n",
    "pd.options.display.max_rows = 10\n",
    "pd.options.display.float_format = '{:.1f}'.format\n",
    "\n",
    "california_housing_dataframe = pd.read_csv(\"http://datasets.lablup.ai/public/tutorials/california_housing_train.csv\", sep=\",\")\n",
    "\n",
    "california_housing_dataframe = california_housing_dataframe.reindex(\n",
    "    np.random.permutation(california_housing_dataframe.index))"
   ]
  },
  {
   "cell_type": "code",
   "execution_count": null,
   "metadata": {
    "collapsed": true
   },
   "outputs": [],
   "source": []
  },
  {
   "cell_type": "code",
   "execution_count": null,
   "metadata": {
    "collapsed": true
   },
   "outputs": [],
   "source": []
  },
  {
   "cell_type": "code",
   "execution_count": null,
   "metadata": {
    "collapsed": true
   },
   "outputs": [],
   "source": []
  },
  {
   "cell_type": "code",
   "execution_count": null,
   "metadata": {
    "collapsed": true
   },
   "outputs": [],
   "source": []
  },
  {
   "cell_type": "code",
   "execution_count": null,
   "metadata": {
    "collapsed": true
   },
   "outputs": [],
   "source": []
  },
  {
   "cell_type": "code",
   "execution_count": null,
   "metadata": {
    "collapsed": true
   },
   "outputs": [],
   "source": []
  },
  {
   "cell_type": "code",
   "execution_count": null,
   "metadata": {
    "collapsed": true
   },
   "outputs": [],
   "source": []
  },
  {
   "cell_type": "code",
   "execution_count": null,
   "metadata": {
    "collapsed": true
   },
   "outputs": [],
   "source": []
  },
  {
   "cell_type": "code",
   "execution_count": null,
   "metadata": {
    "collapsed": true
   },
   "outputs": [],
   "source": []
  },
  {
   "cell_type": "code",
   "execution_count": null,
   "metadata": {
    "collapsed": true
   },
   "outputs": [],
   "source": []
  },
  {
   "cell_type": "code",
   "execution_count": null,
   "metadata": {
    "collapsed": true
   },
   "outputs": [],
   "source": []
  },
  {
   "cell_type": "code",
   "execution_count": null,
   "metadata": {
    "collapsed": true
   },
   "outputs": [],
   "source": []
  }
 ],
 "metadata": {
  "kernelspec": {
   "display_name": "Python 3.5",
   "language": "python",
   "name": "python3.5"
  },
  "language_info": {
   "codemirror_mode": {
    "name": "ipython",
    "version": 3
   },
   "file_extension": ".py",
   "mimetype": "text/x-python",
   "name": "python",
   "nbconvert_exporter": "python",
   "pygments_lexer": "ipython3",
   "version": "3.5.3"
  }
 },
 "nbformat": 4,
 "nbformat_minor": 2
}
